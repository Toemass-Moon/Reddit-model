{
 "cells": [
  {
   "cell_type": "markdown",
   "id": "e0b4a7ed",
   "metadata": {},
   "source": [
    "# Problem Statement \n",
    "Can you create a model that will be able to differentiate posts from the subreddit r/TheOnion compared to posts from r/News? Having an entire subreddit with countless people on r/AteTheOnion, shows that either people are not checking their sources, tend to believe satirical news easily based on their own preconcieved notions/beliefs, or that satirical news are infact not being facetious but perhaps to close to being \"real news\" and in fact pose a bigger problem at spreading misinformation to people. By creating a model that can successfully tell the difference between the two subreddits, especially a model using a bag of words approach, will show whether or not people just believe what they want to, or if it actually is getting too hard to tell the difference between real and satirical news. "
   ]
  },
  {
   "cell_type": "markdown",
   "id": "46d19726",
   "metadata": {},
   "source": [
    "#### It appears that when i re-ran my notebook, a good portion of posts that got scraped changed and affected my scores. The slides in the pdf present all the scores of my models before the change.   \n",
    "> I now know when i scrape data might change I should probably export the df as a CSV and that in, in order to avoid having this happene again. \n",
    "\n",
    "**Here are what the models should have been**  \n",
    "![](../imgs/Best_models.png)  \n",
    "\n"
   ]
  },
  {
   "cell_type": "markdown",
   "id": "d9ecc9fd",
   "metadata": {},
   "source": [
    "<span id='toc'></span>\n",
    "## Table Of Content\n",
    "---\n",
    "1. **Normal starting point**\n",
    "    1. [Imports](#imports)\n",
    "    1. [Set up the API](#creds)\n",
    "    1. [Scrapping data from TheOnion & News](#2nd_start)\n",
    "    1. [Cleaning and EDA](#setup)\n",
    "1. **Tesing models**\n",
    "    1. [Baseline](#baseline)\n",
    "    1. [CountVectorizer and quick tests](#cvec)\n",
    "    1. [Pipe Line and GridSearch 1](#pipe1)\n",
    "    1. [Making a df for scores](#scores)\n",
    "    1. [TF-IDF](#tfidf1)\n",
    "    1. [SVM Model tests](#svm)\n",
    "    1. [Logistic Regression](#logreg)\n",
    "    1. [Random Forest Classifier](#rfc)\n",
    "1. **Experimentation for better models**\n",
    "    1. [Combining and trying logreg](#mix1)\n",
    "    1. [Mistake of running SVC GridSearch with many total fits](#a_mistake)\n",
    "    1. [Checking how well upvotes work as a feature](#upvotes)\n",
    "    1. [Using Sentiment Analysis on Title](#sentiment_anaylsis)\n",
    "    1. [Why I didn't use some other models](#other_models)\n",
    "    1. [Ensemble modeling our models](#enmod)\n",
    "1. **Conclusions & Recommendations**\n",
    "    1. [Conclusions](#conclusion)\n",
    "    1. [Recommendations](#rec)\n",
    "1. **Bonus**\n",
    "    1. [See which headlines were misclassified](#bonus)"
   ]
  },
  {
   "cell_type": "markdown",
   "id": "a1e850fe",
   "metadata": {},
   "source": [
    "---\n",
    "## Sources \n",
    "---\n",
    "\n",
    "1. **PRAW** - Python Reddit API Wrapper\n",
    "    1. [Praw Documentation](https://praw.readthedocs.io/en/stable/)\n",
    "    1. [Youtube Tutorial](https://www.youtube.com/watch?v=8VZhog5C3bU&ab_channel=PythonEngineer)\n",
    "1. **Reddit**\n",
    "    1. [Reddit](https://reddit.com)\n",
    "    1. [r/TheOnion](https://www.reddit.com/r/TheOnion/top/?t=all)\n",
    "    1. [r/News](https://www.reddit.com/r/news/top/?t=all)\n",
    "1. **Sklearn** as they ask to be cited on their website if published\n",
    "    1. [Scikit-learn](https://scikit-learn.org/stable/auto_examples/index.html#classification) "
   ]
  },
  {
   "cell_type": "markdown",
   "id": "7e4ef885",
   "metadata": {},
   "source": [
    "## Data Dictionary for the scrapping\n",
    "Made using [this website](https://www.tablesgenerator.com/markdown_tables#)\n",
    "\n",
    "| Column \t| Type \t| Description \t|\n",
    "|:---:\t|:---:\t|:---:\t|\n",
    "| title_id \t| object \t| unique Id for the title of the post that can be used to check for comments if needed. \t|\n",
    "| title \t| object \t| The title of the post submitted onto reddit.  \t|\n",
    "| upvotes \t| int \t| The number of upvotes the post received. \t|\n",
    "| num_comments \t| int \t| The number of comments the post has. \t|\n",
    "| author \t| object \t| The username or /u/ of the person who submitted the post onto reddit. \t|\n",
    "| subreddit \t| object \t| The subreddit that the post was pulled from. \t|"
   ]
  },
  {
   "cell_type": "markdown",
   "id": "e51d708c",
   "metadata": {},
   "source": [
    "<span id='imports'></span>\n",
    "## Imports\n",
    "___"
   ]
  },
  {
   "cell_type": "code",
   "execution_count": 1,
   "id": "528c7fc0",
   "metadata": {},
   "outputs": [],
   "source": [
    "# get stuff from reddit\n",
    "import praw\n",
    "import json\n",
    "\n",
    "# dataframe and plotting\n",
    "import pandas as pd\n",
    "import numpy as np\n",
    "import seaborn as sns\n",
    "import matplotlib.pyplot as plt\n",
    "\n",
    "# sklearn models, prep, and metrics\n",
    "from sklearn.model_selection import cross_val_score, train_test_split, GridSearchCV\n",
    "from sklearn.preprocessing import StandardScaler\n",
    "from sklearn.metrics import confusion_matrix, plot_confusion_matrix, f1_score, plot_roc_curve, roc_auc_score, accuracy_score\n",
    "from sklearn.pipeline import Pipeline\n",
    "from sklearn.linear_model import LogisticRegression\n",
    "from sklearn.neighbors import KNeighborsClassifier\n",
    "from sklearn.svm import SVC\n",
    "from sklearn.feature_extraction.text import CountVectorizer, TfidfVectorizer, TfidfTransformer\n",
    "from sklearn.naive_bayes import BernoulliNB, MultinomialNB, GaussianNB\n",
    "from sklearn.ensemble import RandomForestClassifier\n",
    "\n",
    "# for sentiment anaylsis\n",
    "from transformers import pipeline"
   ]
  },
  {
   "cell_type": "markdown",
   "id": "c639521f",
   "metadata": {},
   "source": [
    "<span id='creds'></span>\n",
    "## Get stuff from the credentials.json file to use reddit api\n",
    "Information on how to do this was found in lesson 5.05\n",
    "___"
   ]
  },
  {
   "cell_type": "code",
   "execution_count": 2,
   "id": "def96cdf",
   "metadata": {},
   "outputs": [],
   "source": [
    "with open('../credentials.json') as credentials:    \n",
    "    creds = json.load(credentials)"
   ]
  },
  {
   "cell_type": "code",
   "execution_count": 3,
   "id": "da68f0fe",
   "metadata": {},
   "outputs": [],
   "source": [
    "reddit = praw.Reddit(client_id = creds['client_id'],\n",
    "                     client_secret = creds['client_secret'],\n",
    "                     user_agent = creds['user_agent'])"
   ]
  },
  {
   "cell_type": "markdown",
   "id": "ffa65f67",
   "metadata": {},
   "source": [
    "<span id='2nd_start'></span>\n",
    "## Pull information from r/onion vs r/news\n",
    "> Originally was going to do r/AskReddi vs r/NoStupidQuestions, however, it was a bit too easy and without any exploring and with default values for CountVectorizer and Multinomial naive bayes, there was already a 99% accuracy score.  \n",
    "\n",
    "[TOC](#toc)\n",
    "___"
   ]
  },
  {
   "cell_type": "markdown",
   "id": "639183a5",
   "metadata": {},
   "source": [
    "#### We will use praw to get the 'title_id', 'title', 'upvotes', 'number of comments', and the 'subreddit'"
   ]
  },
  {
   "cell_type": "code",
   "execution_count": 4,
   "id": "04dbf4ec",
   "metadata": {},
   "outputs": [
    {
     "data": {
      "text/html": [
       "<div>\n",
       "<style scoped>\n",
       "    .dataframe tbody tr th:only-of-type {\n",
       "        vertical-align: middle;\n",
       "    }\n",
       "\n",
       "    .dataframe tbody tr th {\n",
       "        vertical-align: top;\n",
       "    }\n",
       "\n",
       "    .dataframe thead th {\n",
       "        text-align: right;\n",
       "    }\n",
       "</style>\n",
       "<table border=\"1\" class=\"dataframe\">\n",
       "  <thead>\n",
       "    <tr style=\"text-align: right;\">\n",
       "      <th></th>\n",
       "      <th>title_id</th>\n",
       "      <th>title</th>\n",
       "      <th>upvotes</th>\n",
       "      <th>num_comments</th>\n",
       "      <th>author</th>\n",
       "      <th>subreddit</th>\n",
       "    </tr>\n",
       "  </thead>\n",
       "  <tbody>\n",
       "    <tr>\n",
       "      <th>0</th>\n",
       "      <td>p8ahzj</td>\n",
       "      <td>OnlyFans CEO Admits Decision To Ban Pornograph...</td>\n",
       "      <td>2970</td>\n",
       "      <td>40</td>\n",
       "      <td>ThatsMyPhoenix</td>\n",
       "      <td>TheOnion</td>\n",
       "    </tr>\n",
       "    <tr>\n",
       "      <th>1</th>\n",
       "      <td>o2zt6f</td>\n",
       "      <td>‘Loki’ Fan Loves How Show Contains So Many Ref...</td>\n",
       "      <td>2689</td>\n",
       "      <td>52</td>\n",
       "      <td>ThatsMyPhoenix</td>\n",
       "      <td>TheOnion</td>\n",
       "    </tr>\n",
       "    <tr>\n",
       "      <th>2</th>\n",
       "      <td>jdlpul</td>\n",
       "      <td>Spotify Celebrates 100th Dollar Given To Artists</td>\n",
       "      <td>2570</td>\n",
       "      <td>10</td>\n",
       "      <td>coolwali</td>\n",
       "      <td>TheOnion</td>\n",
       "    </tr>\n",
       "    <tr>\n",
       "      <th>3</th>\n",
       "      <td>jpcx4n</td>\n",
       "      <td>Media Condemns Biden For Baseless Claim That N...</td>\n",
       "      <td>2534</td>\n",
       "      <td>41</td>\n",
       "      <td>ThatsMyPhoenix</td>\n",
       "      <td>TheOnion</td>\n",
       "    </tr>\n",
       "    <tr>\n",
       "      <th>4</th>\n",
       "      <td>kjgmwj</td>\n",
       "      <td>\"Political Talk Show Host Suddenly Very Intere...</td>\n",
       "      <td>2526</td>\n",
       "      <td>14</td>\n",
       "      <td>mathis_01_08</td>\n",
       "      <td>TheOnion</td>\n",
       "    </tr>\n",
       "    <tr>\n",
       "      <th>...</th>\n",
       "      <td>...</td>\n",
       "      <td>...</td>\n",
       "      <td>...</td>\n",
       "      <td>...</td>\n",
       "      <td>...</td>\n",
       "      <td>...</td>\n",
       "    </tr>\n",
       "    <tr>\n",
       "      <th>994</th>\n",
       "      <td>obs7nx</td>\n",
       "      <td>Ford Introduces New Environmentally Friendly B...</td>\n",
       "      <td>17</td>\n",
       "      <td>0</td>\n",
       "      <td>9fmaverick</td>\n",
       "      <td>TheOnion</td>\n",
       "    </tr>\n",
       "    <tr>\n",
       "      <th>995</th>\n",
       "      <td>nuldt1</td>\n",
       "      <td>American Public Commended For Lasting 8 Rounds...</td>\n",
       "      <td>17</td>\n",
       "      <td>0</td>\n",
       "      <td>aresef</td>\n",
       "      <td>TheOnion</td>\n",
       "    </tr>\n",
       "    <tr>\n",
       "      <th>996</th>\n",
       "      <td>nrnp0r</td>\n",
       "      <td>Ron Artest Lands Consulting Role Teaching NBA ...</td>\n",
       "      <td>18</td>\n",
       "      <td>1</td>\n",
       "      <td>aresef</td>\n",
       "      <td>TheOnion</td>\n",
       "    </tr>\n",
       "    <tr>\n",
       "      <th>997</th>\n",
       "      <td>n7g5zk</td>\n",
       "      <td>FDA Delays Emergency Vaccine Approval Until Th...</td>\n",
       "      <td>15</td>\n",
       "      <td>0</td>\n",
       "      <td>caleb_1223</td>\n",
       "      <td>TheOnion</td>\n",
       "    </tr>\n",
       "    <tr>\n",
       "      <th>998</th>\n",
       "      <td>n6h5gm</td>\n",
       "      <td>U.S. Under Pressure To Suspend Marvel IP So De...</td>\n",
       "      <td>17</td>\n",
       "      <td>0</td>\n",
       "      <td>aresef</td>\n",
       "      <td>TheOnion</td>\n",
       "    </tr>\n",
       "  </tbody>\n",
       "</table>\n",
       "<p>999 rows × 6 columns</p>\n",
       "</div>"
      ],
      "text/plain": [
       "    title_id                                              title  upvotes  \\\n",
       "0     p8ahzj  OnlyFans CEO Admits Decision To Ban Pornograph...     2970   \n",
       "1     o2zt6f  ‘Loki’ Fan Loves How Show Contains So Many Ref...     2689   \n",
       "2     jdlpul   Spotify Celebrates 100th Dollar Given To Artists     2570   \n",
       "3     jpcx4n  Media Condemns Biden For Baseless Claim That N...     2534   \n",
       "4     kjgmwj  \"Political Talk Show Host Suddenly Very Intere...     2526   \n",
       "..       ...                                                ...      ...   \n",
       "994   obs7nx  Ford Introduces New Environmentally Friendly B...       17   \n",
       "995   nuldt1  American Public Commended For Lasting 8 Rounds...       17   \n",
       "996   nrnp0r  Ron Artest Lands Consulting Role Teaching NBA ...       18   \n",
       "997   n7g5zk  FDA Delays Emergency Vaccine Approval Until Th...       15   \n",
       "998   n6h5gm  U.S. Under Pressure To Suspend Marvel IP So De...       17   \n",
       "\n",
       "     num_comments          author subreddit  \n",
       "0              40  ThatsMyPhoenix  TheOnion  \n",
       "1              52  ThatsMyPhoenix  TheOnion  \n",
       "2              10        coolwali  TheOnion  \n",
       "3              41  ThatsMyPhoenix  TheOnion  \n",
       "4              14    mathis_01_08  TheOnion  \n",
       "..            ...             ...       ...  \n",
       "994             0      9fmaverick  TheOnion  \n",
       "995             0          aresef  TheOnion  \n",
       "996             1          aresef  TheOnion  \n",
       "997             0      caleb_1223  TheOnion  \n",
       "998             0          aresef  TheOnion  \n",
       "\n",
       "[999 rows x 6 columns]"
      ]
     },
     "execution_count": 4,
     "metadata": {},
     "output_type": "execute_result"
    }
   ],
   "source": [
    "# Lets get r/TheOnion first\n",
    "onion_list = []\n",
    "for submission in reddit.subreddit('theonion').top('year', limit=1000):\n",
    "    headline = {}\n",
    "    headline['title_id'] = submission.id\n",
    "    headline['title'] = submission.title\n",
    "    headline['upvotes'] = submission.score\n",
    "    headline['num_comments'] = submission.num_comments\n",
    "    headline['author'] = submission.author\n",
    "    headline['subreddit'] = submission.subreddit\n",
    "\n",
    "    onion_list.append(headline)\n",
    "    \n",
    "onion_df = pd.DataFrame(onion_list)\n",
    "onion_df"
   ]
  },
  {
   "cell_type": "code",
   "execution_count": 5,
   "id": "09fc7142",
   "metadata": {},
   "outputs": [
    {
     "data": {
      "text/plain": [
       "'OnlyFans CEO Admits Decision To Ban Pornography Was Made In Shame-Filled Moment After Orgasm'"
      ]
     },
     "execution_count": 5,
     "metadata": {},
     "output_type": "execute_result"
    }
   ],
   "source": [
    "onion_df['title'][0]"
   ]
  },
  {
   "cell_type": "code",
   "execution_count": 6,
   "id": "cfd87cec",
   "metadata": {},
   "outputs": [
    {
     "data": {
      "text/html": [
       "<div>\n",
       "<style scoped>\n",
       "    .dataframe tbody tr th:only-of-type {\n",
       "        vertical-align: middle;\n",
       "    }\n",
       "\n",
       "    .dataframe tbody tr th {\n",
       "        vertical-align: top;\n",
       "    }\n",
       "\n",
       "    .dataframe thead th {\n",
       "        text-align: right;\n",
       "    }\n",
       "</style>\n",
       "<table border=\"1\" class=\"dataframe\">\n",
       "  <thead>\n",
       "    <tr style=\"text-align: right;\">\n",
       "      <th></th>\n",
       "      <th>title_id</th>\n",
       "      <th>title</th>\n",
       "      <th>upvotes</th>\n",
       "      <th>num_comments</th>\n",
       "      <th>author</th>\n",
       "      <th>subreddit</th>\n",
       "    </tr>\n",
       "  </thead>\n",
       "  <tbody>\n",
       "    <tr>\n",
       "      <th>0</th>\n",
       "      <td>jptqj9</td>\n",
       "      <td>Joe Biden elected president of the United States</td>\n",
       "      <td>365121</td>\n",
       "      <td>28816</td>\n",
       "      <td>throwawaynumber53</td>\n",
       "      <td>news</td>\n",
       "    </tr>\n",
       "    <tr>\n",
       "      <th>1</th>\n",
       "      <td>mv0fzt</td>\n",
       "      <td>Chauvin found guilty of murder, manslaughter i...</td>\n",
       "      <td>250008</td>\n",
       "      <td>28103</td>\n",
       "      <td>Too_Hood_95</td>\n",
       "      <td>news</td>\n",
       "    </tr>\n",
       "    <tr>\n",
       "      <th>2</th>\n",
       "      <td>l18yys</td>\n",
       "      <td>Trump has left the White House for the last ti...</td>\n",
       "      <td>222632</td>\n",
       "      <td>11810</td>\n",
       "      <td>gumball_Jones</td>\n",
       "      <td>news</td>\n",
       "    </tr>\n",
       "    <tr>\n",
       "      <th>3</th>\n",
       "      <td>jqfm3b</td>\n",
       "      <td>'Jeopardy' host Alex Trebek dies at 80 due to ...</td>\n",
       "      <td>200815</td>\n",
       "      <td>5411</td>\n",
       "      <td>Orange_fury</td>\n",
       "      <td>news</td>\n",
       "    </tr>\n",
       "    <tr>\n",
       "      <th>4</th>\n",
       "      <td>l1d2ko</td>\n",
       "      <td>Joe Biden officially sworn in as the 46th Pres...</td>\n",
       "      <td>176883</td>\n",
       "      <td>9102</td>\n",
       "      <td>douglasmacarthur</td>\n",
       "      <td>news</td>\n",
       "    </tr>\n",
       "    <tr>\n",
       "      <th>...</th>\n",
       "      <td>...</td>\n",
       "      <td>...</td>\n",
       "      <td>...</td>\n",
       "      <td>...</td>\n",
       "      <td>...</td>\n",
       "      <td>...</td>\n",
       "    </tr>\n",
       "    <tr>\n",
       "      <th>994</th>\n",
       "      <td>jiczco</td>\n",
       "      <td>Californians see power shutoffs as winds, fire...</td>\n",
       "      <td>34241</td>\n",
       "      <td>2030</td>\n",
       "      <td>Express_Hyena</td>\n",
       "      <td>news</td>\n",
       "    </tr>\n",
       "    <tr>\n",
       "      <th>995</th>\n",
       "      <td>m17qkj</td>\n",
       "      <td>Deputies accused of sharing Kobe Bryant crash ...</td>\n",
       "      <td>34228</td>\n",
       "      <td>1282</td>\n",
       "      <td>ACABBLM2020</td>\n",
       "      <td>news</td>\n",
       "    </tr>\n",
       "    <tr>\n",
       "      <th>996</th>\n",
       "      <td>ld4k10</td>\n",
       "      <td>Jeffrey Epstein fund abruptly halts payouts to...</td>\n",
       "      <td>34178</td>\n",
       "      <td>1397</td>\n",
       "      <td>newnemo</td>\n",
       "      <td>news</td>\n",
       "    </tr>\n",
       "    <tr>\n",
       "      <th>997</th>\n",
       "      <td>m9qwx2</td>\n",
       "      <td>Pakistan: Two men sentenced to death for motor...</td>\n",
       "      <td>34173</td>\n",
       "      <td>2330</td>\n",
       "      <td>rainbowarriorhere</td>\n",
       "      <td>news</td>\n",
       "    </tr>\n",
       "    <tr>\n",
       "      <th>998</th>\n",
       "      <td>kb4tvn</td>\n",
       "      <td>Minneapolis City Council Votes to Remove $8 Mi...</td>\n",
       "      <td>34160</td>\n",
       "      <td>2874</td>\n",
       "      <td>shwiiiiiiiiing</td>\n",
       "      <td>news</td>\n",
       "    </tr>\n",
       "  </tbody>\n",
       "</table>\n",
       "<p>999 rows × 6 columns</p>\n",
       "</div>"
      ],
      "text/plain": [
       "    title_id                                              title  upvotes  \\\n",
       "0     jptqj9   Joe Biden elected president of the United States   365121   \n",
       "1     mv0fzt  Chauvin found guilty of murder, manslaughter i...   250008   \n",
       "2     l18yys  Trump has left the White House for the last ti...   222632   \n",
       "3     jqfm3b  'Jeopardy' host Alex Trebek dies at 80 due to ...   200815   \n",
       "4     l1d2ko  Joe Biden officially sworn in as the 46th Pres...   176883   \n",
       "..       ...                                                ...      ...   \n",
       "994   jiczco  Californians see power shutoffs as winds, fire...    34241   \n",
       "995   m17qkj  Deputies accused of sharing Kobe Bryant crash ...    34228   \n",
       "996   ld4k10  Jeffrey Epstein fund abruptly halts payouts to...    34178   \n",
       "997   m9qwx2  Pakistan: Two men sentenced to death for motor...    34173   \n",
       "998   kb4tvn  Minneapolis City Council Votes to Remove $8 Mi...    34160   \n",
       "\n",
       "     num_comments             author subreddit  \n",
       "0           28816  throwawaynumber53      news  \n",
       "1           28103        Too_Hood_95      news  \n",
       "2           11810      gumball_Jones      news  \n",
       "3            5411        Orange_fury      news  \n",
       "4            9102   douglasmacarthur      news  \n",
       "..            ...                ...       ...  \n",
       "994          2030      Express_Hyena      news  \n",
       "995          1282        ACABBLM2020      news  \n",
       "996          1397            newnemo      news  \n",
       "997          2330  rainbowarriorhere      news  \n",
       "998          2874     shwiiiiiiiiing      news  \n",
       "\n",
       "[999 rows x 6 columns]"
      ]
     },
     "execution_count": 6,
     "metadata": {},
     "output_type": "execute_result"
    }
   ],
   "source": [
    "# Next up is r/News\n",
    "news_list = []\n",
    "for submission in reddit.subreddit('news').top('year', limit=1000):\n",
    "    headline = {}\n",
    "    headline['title_id'] = submission.id\n",
    "    headline['title'] = submission.title\n",
    "    headline['upvotes'] = submission.score\n",
    "    headline['num_comments'] = submission.num_comments\n",
    "    headline['author'] = submission.author\n",
    "    headline['subreddit'] = submission.subreddit\n",
    "\n",
    "    news_list.append(headline)\n",
    "    \n",
    "news_df = pd.DataFrame(news_list)\n",
    "news_df"
   ]
  },
  {
   "cell_type": "code",
   "execution_count": 7,
   "id": "50701c49",
   "metadata": {},
   "outputs": [
    {
     "data": {
      "text/plain": [
       "\"Chauvin found guilty of murder, manslaughter in George Floyd's death\""
      ]
     },
     "execution_count": 7,
     "metadata": {},
     "output_type": "execute_result"
    }
   ],
   "source": [
    "news_df['title'][1]"
   ]
  },
  {
   "cell_type": "markdown",
   "id": "851515ab",
   "metadata": {},
   "source": [
    "> **Here we are just pulling in the top 1000 posts of the year from both subreddits, so we will have a total of 2000 rows in total when we combine them, with an equal ammount of information from each subreddit**"
   ]
  },
  {
   "cell_type": "code",
   "execution_count": 8,
   "id": "4fbaa1f6",
   "metadata": {},
   "outputs": [
    {
     "data": {
      "text/plain": [
       "title_id        object\n",
       "title           object\n",
       "upvotes          int64\n",
       "num_comments     int64\n",
       "author          object\n",
       "subreddit       object\n",
       "dtype: object"
      ]
     },
     "execution_count": 8,
     "metadata": {},
     "output_type": "execute_result"
    }
   ],
   "source": [
    "onion_df.dtypes"
   ]
  },
  {
   "cell_type": "markdown",
   "id": "ea57cd25",
   "metadata": {},
   "source": [
    "<span id='setup'></span>\n",
    "## Lets clean up the data frames to make them easier to work with  \n",
    "\n",
    "[TOC](#toc)  \n",
    "___"
   ]
  },
  {
   "cell_type": "markdown",
   "id": "fa6f8f2f",
   "metadata": {},
   "source": [
    "### Start by making the title_id the index"
   ]
  },
  {
   "cell_type": "code",
   "execution_count": 9,
   "id": "bd6af85a",
   "metadata": {},
   "outputs": [
    {
     "data": {
      "text/html": [
       "<div>\n",
       "<style scoped>\n",
       "    .dataframe tbody tr th:only-of-type {\n",
       "        vertical-align: middle;\n",
       "    }\n",
       "\n",
       "    .dataframe tbody tr th {\n",
       "        vertical-align: top;\n",
       "    }\n",
       "\n",
       "    .dataframe thead th {\n",
       "        text-align: right;\n",
       "    }\n",
       "</style>\n",
       "<table border=\"1\" class=\"dataframe\">\n",
       "  <thead>\n",
       "    <tr style=\"text-align: right;\">\n",
       "      <th></th>\n",
       "      <th>title</th>\n",
       "      <th>upvotes</th>\n",
       "      <th>num_comments</th>\n",
       "      <th>author</th>\n",
       "      <th>subreddit</th>\n",
       "    </tr>\n",
       "    <tr>\n",
       "      <th>title_id</th>\n",
       "      <th></th>\n",
       "      <th></th>\n",
       "      <th></th>\n",
       "      <th></th>\n",
       "      <th></th>\n",
       "    </tr>\n",
       "  </thead>\n",
       "  <tbody>\n",
       "    <tr>\n",
       "      <th>p8ahzj</th>\n",
       "      <td>OnlyFans CEO Admits Decision To Ban Pornograph...</td>\n",
       "      <td>2970</td>\n",
       "      <td>40</td>\n",
       "      <td>ThatsMyPhoenix</td>\n",
       "      <td>TheOnion</td>\n",
       "    </tr>\n",
       "    <tr>\n",
       "      <th>o2zt6f</th>\n",
       "      <td>‘Loki’ Fan Loves How Show Contains So Many Ref...</td>\n",
       "      <td>2689</td>\n",
       "      <td>52</td>\n",
       "      <td>ThatsMyPhoenix</td>\n",
       "      <td>TheOnion</td>\n",
       "    </tr>\n",
       "    <tr>\n",
       "      <th>jdlpul</th>\n",
       "      <td>Spotify Celebrates 100th Dollar Given To Artists</td>\n",
       "      <td>2570</td>\n",
       "      <td>10</td>\n",
       "      <td>coolwali</td>\n",
       "      <td>TheOnion</td>\n",
       "    </tr>\n",
       "    <tr>\n",
       "      <th>jpcx4n</th>\n",
       "      <td>Media Condemns Biden For Baseless Claim That N...</td>\n",
       "      <td>2534</td>\n",
       "      <td>41</td>\n",
       "      <td>ThatsMyPhoenix</td>\n",
       "      <td>TheOnion</td>\n",
       "    </tr>\n",
       "    <tr>\n",
       "      <th>kjgmwj</th>\n",
       "      <td>\"Political Talk Show Host Suddenly Very Intere...</td>\n",
       "      <td>2526</td>\n",
       "      <td>14</td>\n",
       "      <td>mathis_01_08</td>\n",
       "      <td>TheOnion</td>\n",
       "    </tr>\n",
       "    <tr>\n",
       "      <th>...</th>\n",
       "      <td>...</td>\n",
       "      <td>...</td>\n",
       "      <td>...</td>\n",
       "      <td>...</td>\n",
       "      <td>...</td>\n",
       "    </tr>\n",
       "    <tr>\n",
       "      <th>obs7nx</th>\n",
       "      <td>Ford Introduces New Environmentally Friendly B...</td>\n",
       "      <td>17</td>\n",
       "      <td>0</td>\n",
       "      <td>9fmaverick</td>\n",
       "      <td>TheOnion</td>\n",
       "    </tr>\n",
       "    <tr>\n",
       "      <th>nuldt1</th>\n",
       "      <td>American Public Commended For Lasting 8 Rounds...</td>\n",
       "      <td>17</td>\n",
       "      <td>0</td>\n",
       "      <td>aresef</td>\n",
       "      <td>TheOnion</td>\n",
       "    </tr>\n",
       "    <tr>\n",
       "      <th>nrnp0r</th>\n",
       "      <td>Ron Artest Lands Consulting Role Teaching NBA ...</td>\n",
       "      <td>18</td>\n",
       "      <td>1</td>\n",
       "      <td>aresef</td>\n",
       "      <td>TheOnion</td>\n",
       "    </tr>\n",
       "    <tr>\n",
       "      <th>n7g5zk</th>\n",
       "      <td>FDA Delays Emergency Vaccine Approval Until Th...</td>\n",
       "      <td>15</td>\n",
       "      <td>0</td>\n",
       "      <td>caleb_1223</td>\n",
       "      <td>TheOnion</td>\n",
       "    </tr>\n",
       "    <tr>\n",
       "      <th>n6h5gm</th>\n",
       "      <td>U.S. Under Pressure To Suspend Marvel IP So De...</td>\n",
       "      <td>17</td>\n",
       "      <td>0</td>\n",
       "      <td>aresef</td>\n",
       "      <td>TheOnion</td>\n",
       "    </tr>\n",
       "  </tbody>\n",
       "</table>\n",
       "<p>999 rows × 5 columns</p>\n",
       "</div>"
      ],
      "text/plain": [
       "                                                      title  upvotes  \\\n",
       "title_id                                                               \n",
       "p8ahzj    OnlyFans CEO Admits Decision To Ban Pornograph...     2970   \n",
       "o2zt6f    ‘Loki’ Fan Loves How Show Contains So Many Ref...     2689   \n",
       "jdlpul     Spotify Celebrates 100th Dollar Given To Artists     2570   \n",
       "jpcx4n    Media Condemns Biden For Baseless Claim That N...     2534   \n",
       "kjgmwj    \"Political Talk Show Host Suddenly Very Intere...     2526   \n",
       "...                                                     ...      ...   \n",
       "obs7nx    Ford Introduces New Environmentally Friendly B...       17   \n",
       "nuldt1    American Public Commended For Lasting 8 Rounds...       17   \n",
       "nrnp0r    Ron Artest Lands Consulting Role Teaching NBA ...       18   \n",
       "n7g5zk    FDA Delays Emergency Vaccine Approval Until Th...       15   \n",
       "n6h5gm    U.S. Under Pressure To Suspend Marvel IP So De...       17   \n",
       "\n",
       "          num_comments          author subreddit  \n",
       "title_id                                          \n",
       "p8ahzj              40  ThatsMyPhoenix  TheOnion  \n",
       "o2zt6f              52  ThatsMyPhoenix  TheOnion  \n",
       "jdlpul              10        coolwali  TheOnion  \n",
       "jpcx4n              41  ThatsMyPhoenix  TheOnion  \n",
       "kjgmwj              14    mathis_01_08  TheOnion  \n",
       "...                ...             ...       ...  \n",
       "obs7nx               0      9fmaverick  TheOnion  \n",
       "nuldt1               0          aresef  TheOnion  \n",
       "nrnp0r               1          aresef  TheOnion  \n",
       "n7g5zk               0      caleb_1223  TheOnion  \n",
       "n6h5gm               0          aresef  TheOnion  \n",
       "\n",
       "[999 rows x 5 columns]"
      ]
     },
     "execution_count": 9,
     "metadata": {},
     "output_type": "execute_result"
    }
   ],
   "source": [
    "onion_df.set_index('title_id', inplace = True)\n",
    "news_df.set_index('title_id', inplace = True)\n",
    "onion_df"
   ]
  },
  {
   "cell_type": "markdown",
   "id": "e230ad0f",
   "metadata": {},
   "source": [
    "### Now we gotta combine the two df's into one big one with 2k rows"
   ]
  },
  {
   "cell_type": "code",
   "execution_count": 10,
   "id": "782b7c48",
   "metadata": {},
   "outputs": [
    {
     "data": {
      "text/html": [
       "<div>\n",
       "<style scoped>\n",
       "    .dataframe tbody tr th:only-of-type {\n",
       "        vertical-align: middle;\n",
       "    }\n",
       "\n",
       "    .dataframe tbody tr th {\n",
       "        vertical-align: top;\n",
       "    }\n",
       "\n",
       "    .dataframe thead th {\n",
       "        text-align: right;\n",
       "    }\n",
       "</style>\n",
       "<table border=\"1\" class=\"dataframe\">\n",
       "  <thead>\n",
       "    <tr style=\"text-align: right;\">\n",
       "      <th></th>\n",
       "      <th>title</th>\n",
       "      <th>upvotes</th>\n",
       "      <th>num_comments</th>\n",
       "      <th>author</th>\n",
       "      <th>subreddit</th>\n",
       "    </tr>\n",
       "    <tr>\n",
       "      <th>title_id</th>\n",
       "      <th></th>\n",
       "      <th></th>\n",
       "      <th></th>\n",
       "      <th></th>\n",
       "      <th></th>\n",
       "    </tr>\n",
       "  </thead>\n",
       "  <tbody>\n",
       "    <tr>\n",
       "      <th>p8ahzj</th>\n",
       "      <td>OnlyFans CEO Admits Decision To Ban Pornograph...</td>\n",
       "      <td>2970</td>\n",
       "      <td>40</td>\n",
       "      <td>ThatsMyPhoenix</td>\n",
       "      <td>TheOnion</td>\n",
       "    </tr>\n",
       "    <tr>\n",
       "      <th>o2zt6f</th>\n",
       "      <td>‘Loki’ Fan Loves How Show Contains So Many Ref...</td>\n",
       "      <td>2689</td>\n",
       "      <td>52</td>\n",
       "      <td>ThatsMyPhoenix</td>\n",
       "      <td>TheOnion</td>\n",
       "    </tr>\n",
       "    <tr>\n",
       "      <th>jdlpul</th>\n",
       "      <td>Spotify Celebrates 100th Dollar Given To Artists</td>\n",
       "      <td>2570</td>\n",
       "      <td>10</td>\n",
       "      <td>coolwali</td>\n",
       "      <td>TheOnion</td>\n",
       "    </tr>\n",
       "    <tr>\n",
       "      <th>jpcx4n</th>\n",
       "      <td>Media Condemns Biden For Baseless Claim That N...</td>\n",
       "      <td>2534</td>\n",
       "      <td>41</td>\n",
       "      <td>ThatsMyPhoenix</td>\n",
       "      <td>TheOnion</td>\n",
       "    </tr>\n",
       "    <tr>\n",
       "      <th>kjgmwj</th>\n",
       "      <td>\"Political Talk Show Host Suddenly Very Intere...</td>\n",
       "      <td>2526</td>\n",
       "      <td>14</td>\n",
       "      <td>mathis_01_08</td>\n",
       "      <td>TheOnion</td>\n",
       "    </tr>\n",
       "    <tr>\n",
       "      <th>...</th>\n",
       "      <td>...</td>\n",
       "      <td>...</td>\n",
       "      <td>...</td>\n",
       "      <td>...</td>\n",
       "      <td>...</td>\n",
       "    </tr>\n",
       "    <tr>\n",
       "      <th>jiczco</th>\n",
       "      <td>Californians see power shutoffs as winds, fire...</td>\n",
       "      <td>34241</td>\n",
       "      <td>2030</td>\n",
       "      <td>Express_Hyena</td>\n",
       "      <td>news</td>\n",
       "    </tr>\n",
       "    <tr>\n",
       "      <th>m17qkj</th>\n",
       "      <td>Deputies accused of sharing Kobe Bryant crash ...</td>\n",
       "      <td>34228</td>\n",
       "      <td>1282</td>\n",
       "      <td>ACABBLM2020</td>\n",
       "      <td>news</td>\n",
       "    </tr>\n",
       "    <tr>\n",
       "      <th>ld4k10</th>\n",
       "      <td>Jeffrey Epstein fund abruptly halts payouts to...</td>\n",
       "      <td>34178</td>\n",
       "      <td>1397</td>\n",
       "      <td>newnemo</td>\n",
       "      <td>news</td>\n",
       "    </tr>\n",
       "    <tr>\n",
       "      <th>m9qwx2</th>\n",
       "      <td>Pakistan: Two men sentenced to death for motor...</td>\n",
       "      <td>34173</td>\n",
       "      <td>2330</td>\n",
       "      <td>rainbowarriorhere</td>\n",
       "      <td>news</td>\n",
       "    </tr>\n",
       "    <tr>\n",
       "      <th>kb4tvn</th>\n",
       "      <td>Minneapolis City Council Votes to Remove $8 Mi...</td>\n",
       "      <td>34160</td>\n",
       "      <td>2874</td>\n",
       "      <td>shwiiiiiiiiing</td>\n",
       "      <td>news</td>\n",
       "    </tr>\n",
       "  </tbody>\n",
       "</table>\n",
       "<p>1998 rows × 5 columns</p>\n",
       "</div>"
      ],
      "text/plain": [
       "                                                      title  upvotes  \\\n",
       "title_id                                                               \n",
       "p8ahzj    OnlyFans CEO Admits Decision To Ban Pornograph...     2970   \n",
       "o2zt6f    ‘Loki’ Fan Loves How Show Contains So Many Ref...     2689   \n",
       "jdlpul     Spotify Celebrates 100th Dollar Given To Artists     2570   \n",
       "jpcx4n    Media Condemns Biden For Baseless Claim That N...     2534   \n",
       "kjgmwj    \"Political Talk Show Host Suddenly Very Intere...     2526   \n",
       "...                                                     ...      ...   \n",
       "jiczco    Californians see power shutoffs as winds, fire...    34241   \n",
       "m17qkj    Deputies accused of sharing Kobe Bryant crash ...    34228   \n",
       "ld4k10    Jeffrey Epstein fund abruptly halts payouts to...    34178   \n",
       "m9qwx2    Pakistan: Two men sentenced to death for motor...    34173   \n",
       "kb4tvn    Minneapolis City Council Votes to Remove $8 Mi...    34160   \n",
       "\n",
       "          num_comments             author subreddit  \n",
       "title_id                                             \n",
       "p8ahzj              40     ThatsMyPhoenix  TheOnion  \n",
       "o2zt6f              52     ThatsMyPhoenix  TheOnion  \n",
       "jdlpul              10           coolwali  TheOnion  \n",
       "jpcx4n              41     ThatsMyPhoenix  TheOnion  \n",
       "kjgmwj              14       mathis_01_08  TheOnion  \n",
       "...                ...                ...       ...  \n",
       "jiczco            2030      Express_Hyena      news  \n",
       "m17qkj            1282        ACABBLM2020      news  \n",
       "ld4k10            1397            newnemo      news  \n",
       "m9qwx2            2330  rainbowarriorhere      news  \n",
       "kb4tvn            2874     shwiiiiiiiiing      news  \n",
       "\n",
       "[1998 rows x 5 columns]"
      ]
     },
     "execution_count": 10,
     "metadata": {},
     "output_type": "execute_result"
    }
   ],
   "source": [
    "big_df = pd.concat([onion_df, news_df])\n",
    "big_df"
   ]
  },
  {
   "cell_type": "markdown",
   "id": "5069f159",
   "metadata": {},
   "source": [
    "### Lets make the subreddits into 0 and 1. News will be 1 and onion will be 0"
   ]
  },
  {
   "cell_type": "code",
   "execution_count": 11,
   "id": "8643c570",
   "metadata": {},
   "outputs": [
    {
     "data": {
      "text/html": [
       "<div>\n",
       "<style scoped>\n",
       "    .dataframe tbody tr th:only-of-type {\n",
       "        vertical-align: middle;\n",
       "    }\n",
       "\n",
       "    .dataframe tbody tr th {\n",
       "        vertical-align: top;\n",
       "    }\n",
       "\n",
       "    .dataframe thead th {\n",
       "        text-align: right;\n",
       "    }\n",
       "</style>\n",
       "<table border=\"1\" class=\"dataframe\">\n",
       "  <thead>\n",
       "    <tr style=\"text-align: right;\">\n",
       "      <th></th>\n",
       "      <th>title</th>\n",
       "      <th>upvotes</th>\n",
       "      <th>num_comments</th>\n",
       "      <th>author</th>\n",
       "      <th>subreddit</th>\n",
       "    </tr>\n",
       "    <tr>\n",
       "      <th>title_id</th>\n",
       "      <th></th>\n",
       "      <th></th>\n",
       "      <th></th>\n",
       "      <th></th>\n",
       "      <th></th>\n",
       "    </tr>\n",
       "  </thead>\n",
       "  <tbody>\n",
       "    <tr>\n",
       "      <th>p8ahzj</th>\n",
       "      <td>OnlyFans CEO Admits Decision To Ban Pornograph...</td>\n",
       "      <td>2970</td>\n",
       "      <td>40</td>\n",
       "      <td>ThatsMyPhoenix</td>\n",
       "      <td>0</td>\n",
       "    </tr>\n",
       "    <tr>\n",
       "      <th>o2zt6f</th>\n",
       "      <td>‘Loki’ Fan Loves How Show Contains So Many Ref...</td>\n",
       "      <td>2689</td>\n",
       "      <td>52</td>\n",
       "      <td>ThatsMyPhoenix</td>\n",
       "      <td>0</td>\n",
       "    </tr>\n",
       "    <tr>\n",
       "      <th>jdlpul</th>\n",
       "      <td>Spotify Celebrates 100th Dollar Given To Artists</td>\n",
       "      <td>2570</td>\n",
       "      <td>10</td>\n",
       "      <td>coolwali</td>\n",
       "      <td>0</td>\n",
       "    </tr>\n",
       "    <tr>\n",
       "      <th>jpcx4n</th>\n",
       "      <td>Media Condemns Biden For Baseless Claim That N...</td>\n",
       "      <td>2534</td>\n",
       "      <td>41</td>\n",
       "      <td>ThatsMyPhoenix</td>\n",
       "      <td>0</td>\n",
       "    </tr>\n",
       "    <tr>\n",
       "      <th>kjgmwj</th>\n",
       "      <td>\"Political Talk Show Host Suddenly Very Intere...</td>\n",
       "      <td>2526</td>\n",
       "      <td>14</td>\n",
       "      <td>mathis_01_08</td>\n",
       "      <td>0</td>\n",
       "    </tr>\n",
       "    <tr>\n",
       "      <th>...</th>\n",
       "      <td>...</td>\n",
       "      <td>...</td>\n",
       "      <td>...</td>\n",
       "      <td>...</td>\n",
       "      <td>...</td>\n",
       "    </tr>\n",
       "    <tr>\n",
       "      <th>jiczco</th>\n",
       "      <td>Californians see power shutoffs as winds, fire...</td>\n",
       "      <td>34241</td>\n",
       "      <td>2030</td>\n",
       "      <td>Express_Hyena</td>\n",
       "      <td>1</td>\n",
       "    </tr>\n",
       "    <tr>\n",
       "      <th>m17qkj</th>\n",
       "      <td>Deputies accused of sharing Kobe Bryant crash ...</td>\n",
       "      <td>34228</td>\n",
       "      <td>1282</td>\n",
       "      <td>ACABBLM2020</td>\n",
       "      <td>1</td>\n",
       "    </tr>\n",
       "    <tr>\n",
       "      <th>ld4k10</th>\n",
       "      <td>Jeffrey Epstein fund abruptly halts payouts to...</td>\n",
       "      <td>34178</td>\n",
       "      <td>1397</td>\n",
       "      <td>newnemo</td>\n",
       "      <td>1</td>\n",
       "    </tr>\n",
       "    <tr>\n",
       "      <th>m9qwx2</th>\n",
       "      <td>Pakistan: Two men sentenced to death for motor...</td>\n",
       "      <td>34173</td>\n",
       "      <td>2330</td>\n",
       "      <td>rainbowarriorhere</td>\n",
       "      <td>1</td>\n",
       "    </tr>\n",
       "    <tr>\n",
       "      <th>kb4tvn</th>\n",
       "      <td>Minneapolis City Council Votes to Remove $8 Mi...</td>\n",
       "      <td>34160</td>\n",
       "      <td>2874</td>\n",
       "      <td>shwiiiiiiiiing</td>\n",
       "      <td>1</td>\n",
       "    </tr>\n",
       "  </tbody>\n",
       "</table>\n",
       "<p>1998 rows × 5 columns</p>\n",
       "</div>"
      ],
      "text/plain": [
       "                                                      title  upvotes  \\\n",
       "title_id                                                               \n",
       "p8ahzj    OnlyFans CEO Admits Decision To Ban Pornograph...     2970   \n",
       "o2zt6f    ‘Loki’ Fan Loves How Show Contains So Many Ref...     2689   \n",
       "jdlpul     Spotify Celebrates 100th Dollar Given To Artists     2570   \n",
       "jpcx4n    Media Condemns Biden For Baseless Claim That N...     2534   \n",
       "kjgmwj    \"Political Talk Show Host Suddenly Very Intere...     2526   \n",
       "...                                                     ...      ...   \n",
       "jiczco    Californians see power shutoffs as winds, fire...    34241   \n",
       "m17qkj    Deputies accused of sharing Kobe Bryant crash ...    34228   \n",
       "ld4k10    Jeffrey Epstein fund abruptly halts payouts to...    34178   \n",
       "m9qwx2    Pakistan: Two men sentenced to death for motor...    34173   \n",
       "kb4tvn    Minneapolis City Council Votes to Remove $8 Mi...    34160   \n",
       "\n",
       "          num_comments             author  subreddit  \n",
       "title_id                                              \n",
       "p8ahzj              40     ThatsMyPhoenix          0  \n",
       "o2zt6f              52     ThatsMyPhoenix          0  \n",
       "jdlpul              10           coolwali          0  \n",
       "jpcx4n              41     ThatsMyPhoenix          0  \n",
       "kjgmwj              14       mathis_01_08          0  \n",
       "...                ...                ...        ...  \n",
       "jiczco            2030      Express_Hyena          1  \n",
       "m17qkj            1282        ACABBLM2020          1  \n",
       "ld4k10            1397            newnemo          1  \n",
       "m9qwx2            2330  rainbowarriorhere          1  \n",
       "kb4tvn            2874     shwiiiiiiiiing          1  \n",
       "\n",
       "[1998 rows x 5 columns]"
      ]
     },
     "execution_count": 11,
     "metadata": {},
     "output_type": "execute_result"
    }
   ],
   "source": [
    "big_df['subreddit'] = [0 if sub == 'TheOnion' else 1 for sub in big_df['subreddit']]\n",
    "big_df"
   ]
  },
  {
   "cell_type": "markdown",
   "id": "e389aab1",
   "metadata": {},
   "source": [
    "> Originally I did want to use the map method instead of a list comprehension to do this, but for somereason, the .map() mehtod didn't seem to work that well making the values NaN even when the subreddits were copied and pasted by name making me think that the way the subreddits were passed in might have had some sort of issue interfering with the map"
   ]
  },
  {
   "cell_type": "markdown",
   "id": "57c19567",
   "metadata": {},
   "source": [
    "### As always lets just run a few checks first to make sure our data is good"
   ]
  },
  {
   "cell_type": "code",
   "execution_count": 12,
   "id": "21794e22",
   "metadata": {},
   "outputs": [
    {
     "data": {
      "text/plain": [
       "title            0\n",
       "upvotes          0\n",
       "num_comments     0\n",
       "author          60\n",
       "subreddit        0\n",
       "dtype: int64"
      ]
     },
     "execution_count": 12,
     "metadata": {},
     "output_type": "execute_result"
    }
   ],
   "source": [
    "big_df.isna().sum()"
   ]
  },
  {
   "cell_type": "code",
   "execution_count": 13,
   "id": "89c0d6a6",
   "metadata": {},
   "outputs": [
    {
     "data": {
      "text/plain": [
       "'Report: 70% Of Republicans Believe Election Hasn’t Happened Yet'"
      ]
     },
     "execution_count": 13,
     "metadata": {},
     "output_type": "execute_result"
    }
   ],
   "source": [
    "# Lets just get the first missing data and since this is on reddit, we can actually check instead of speculate\n",
    "big_df[big_df['author'].isna()].iloc[0, 0]"
   ]
  },
  {
   "cell_type": "markdown",
   "id": "d5473fa6",
   "metadata": {},
   "source": [
    "> This author is na i'm assuming because the authors deleted their account.  \n",
    "**it is**\n",
    "![](../imgs/missing_authors.png)  \n",
    "\n",
    "> **In this case, Because we have the title and subreddit, along with the number of of upvotes and comments We might be able to ignore the authors. Not only because there usually tend to be a select who almost always to a very few specific subreddits, it might make it too easy**"
   ]
  },
  {
   "cell_type": "markdown",
   "id": "8539a2f5",
   "metadata": {},
   "source": [
    "### While i'm here I might as well check to see if other than title upvotes can help determine a subreddit"
   ]
  },
  {
   "cell_type": "code",
   "execution_count": 14,
   "id": "7a6412ae",
   "metadata": {},
   "outputs": [
    {
     "data": {
      "image/png": "[encoded data removed]",
      "text/plain": [
       "<Figure size 288x432 with 2 Axes>"
      ]
     },
     "metadata": {
      "needs_background": "light"
     },
     "output_type": "display_data"
    }
   ],
   "source": [
    "corr = big_df.corr()\n",
    "mask = np.zeros_like(corr)\n",
    "mask[np.triu_indices_from(mask)] = True\n",
    "\n",
    "plt.figure(figsize=(4, 6))\n",
    "sns.heatmap(corr[['subreddit']].sort_values(by = 'subreddit', ascending = False),\n",
    "            annot = True,\n",
    "            cmap = 'copper',\n",
    "            vmin = 0.67,\n",
    "            vmax = 1)\n",
    "\n",
    "plt.yticks(size = 11)\n",
    "plt.xticks(size = 11)\n",
    "plt.title('Correlation between Subreddit', size = 13)\n",
    "\n",
    "\n",
    "plt.show()"
   ]
  },
  {
   "cell_type": "markdown",
   "id": "0223f5c4",
   "metadata": {},
   "source": [
    "> We can also use upvote correlations to also help find what subreddit it belongs. It appears that upvotes does seem to have some correltion between the subreddits, possibly because of member difference leading to more views unless they get to the front page. Again, becauce this is all on reddit and public information we actually can check\n",
    ">> **TheOnion:** 164k members  \n",
    ">> **News:** 23.7 million members"
   ]
  },
  {
   "cell_type": "markdown",
   "id": "6457dc97",
   "metadata": {},
   "source": [
    "### Lets go ahead and split our data now\n",
    "Only the title for the moment and we can see how the other features might be used later on, if at all."
   ]
  },
  {
   "cell_type": "code",
   "execution_count": 15,
   "id": "30c7bb6c",
   "metadata": {},
   "outputs": [],
   "source": [
    "X = big_df['title']\n",
    "y = big_df['subreddit']\n",
    "X_train, X_test, y_train, y_test = train_test_split(X, y, stratify=y, random_state=1663)"
   ]
  },
  {
   "cell_type": "markdown",
   "id": "c25934dc",
   "metadata": {},
   "source": [
    "### Lets just make sure we still got 50/50 split as we know that there is a an even ammount of information from both subreddits"
   ]
  },
  {
   "cell_type": "code",
   "execution_count": 16,
   "id": "c587c9b6",
   "metadata": {
    "scrolled": true
   },
   "outputs": [
    {
     "name": "stdout",
     "output_type": "stream",
     "text": [
      "Train:\n",
      "0    0.5\n",
      "1    0.5\n",
      "Name: subreddit, dtype: float64\n",
      "Test:\n",
      "0    0.5\n",
      "1    0.5\n",
      "Name: subreddit, dtype: float64\n"
     ]
    }
   ],
   "source": [
    "print(f'Train:\\n{y_train.value_counts(normalize=True)}')\n",
    "print(f'Test:\\n{y_test.value_counts(normalize=True)}')"
   ]
  },
  {
   "cell_type": "markdown",
   "id": "70c526c2",
   "metadata": {},
   "source": [
    "<span id='baseline'></span>\n",
    "# Establishing the BaseLine for test and goals"
   ]
  },
  {
   "cell_type": "markdown",
   "id": "01c0a6dc",
   "metadata": {},
   "source": [
    "1. Because we have 1,000 posts from both subreddits (r/TheOnion and r/News) there is a 50/50 chance of correctly guess the subbredit given no information, therefore our **baseline score to beat is 50%**  \n",
    "  \n",
    "  \n",
    "2. I am focusing more on accuracy for these model because it's a bit hard to say which is actually worse here. So going for specificty vs sensitivity is a hard choice and will therefor go with the default parameter of accuracy.\n",
    "    * I say it's hard to choose one because one could argue for either side. It could be bad to recieve fake news and think it's true, especially if it's something crazy as TheOnion can sometimes get. Someone could act in a way they normally would not have and possibly ruin their life (if we're going to extremes here, but in both cases). On the flip side, we can have someone recieve real news that they would percieve as fake news and choose to ignore it, and then miss out on life changing opportunities, or possibly ruining their lives as well."
   ]
  },
  {
   "cell_type": "markdown",
   "id": "c1a32eea",
   "metadata": {},
   "source": [
    "### Why I won't be using KNN in this notebook\n",
    "While i did try KNN in my scratch-paper notebook, the results were so underwhelming and unhelpful I decided to not inlcude it into this final notebook. They would at best barely beat beat the baseline even when using gridsearch to look for the best hyperparameters"
   ]
  },
  {
   "cell_type": "markdown",
   "id": "f94a1147",
   "metadata": {},
   "source": [
    "## Lets run a countvectorizer test<span id='cvec'></span>\n",
    "[TOC](#toc)\n",
    "___"
   ]
  },
  {
   "cell_type": "code",
   "execution_count": 17,
   "id": "abb82d9b",
   "metadata": {},
   "outputs": [
    {
     "data": {
      "text/plain": [
       "<1498x5663 sparse matrix of type '<class 'numpy.int64'>'\n",
       "\twith 18788 stored elements in Compressed Sparse Row format>"
      ]
     },
     "execution_count": 17,
     "metadata": {},
     "output_type": "execute_result"
    }
   ],
   "source": [
    "cvec = CountVectorizer()\n",
    "T_train = cvec.fit_transform(X_train) # T_train for transformized train\n",
    "T_test = cvec.transform(X_test)\n",
    "T_train"
   ]
  },
  {
   "cell_type": "code",
   "execution_count": 18,
   "id": "ec0913c3",
   "metadata": {},
   "outputs": [
    {
     "data": {
      "text/html": [
       "<div>\n",
       "<style scoped>\n",
       "    .dataframe tbody tr th:only-of-type {\n",
       "        vertical-align: middle;\n",
       "    }\n",
       "\n",
       "    .dataframe tbody tr th {\n",
       "        vertical-align: top;\n",
       "    }\n",
       "\n",
       "    .dataframe thead th {\n",
       "        text-align: right;\n",
       "    }\n",
       "</style>\n",
       "<table border=\"1\" class=\"dataframe\">\n",
       "  <thead>\n",
       "    <tr style=\"text-align: right;\">\n",
       "      <th></th>\n",
       "      <th>000</th>\n",
       "      <th>01</th>\n",
       "      <th>10</th>\n",
       "      <th>100</th>\n",
       "      <th>100k</th>\n",
       "      <th>109</th>\n",
       "      <th>10m</th>\n",
       "      <th>11</th>\n",
       "      <th>115</th>\n",
       "      <th>116</th>\n",
       "      <th>...</th>\n",
       "      <th>zack</th>\n",
       "      <th>zealand</th>\n",
       "      <th>zhao</th>\n",
       "      <th>zip</th>\n",
       "      <th>zone</th>\n",
       "      <th>zones</th>\n",
       "      <th>zookeepers</th>\n",
       "      <th>zoom</th>\n",
       "      <th>zorb</th>\n",
       "      <th>zz</th>\n",
       "    </tr>\n",
       "  </thead>\n",
       "  <tbody>\n",
       "    <tr>\n",
       "      <th>0</th>\n",
       "      <td>0</td>\n",
       "      <td>0</td>\n",
       "      <td>0</td>\n",
       "      <td>0</td>\n",
       "      <td>0</td>\n",
       "      <td>0</td>\n",
       "      <td>0</td>\n",
       "      <td>0</td>\n",
       "      <td>0</td>\n",
       "      <td>0</td>\n",
       "      <td>...</td>\n",
       "      <td>0</td>\n",
       "      <td>0</td>\n",
       "      <td>0</td>\n",
       "      <td>0</td>\n",
       "      <td>0</td>\n",
       "      <td>0</td>\n",
       "      <td>0</td>\n",
       "      <td>0</td>\n",
       "      <td>0</td>\n",
       "      <td>0</td>\n",
       "    </tr>\n",
       "    <tr>\n",
       "      <th>1</th>\n",
       "      <td>0</td>\n",
       "      <td>0</td>\n",
       "      <td>0</td>\n",
       "      <td>0</td>\n",
       "      <td>0</td>\n",
       "      <td>0</td>\n",
       "      <td>0</td>\n",
       "      <td>0</td>\n",
       "      <td>0</td>\n",
       "      <td>0</td>\n",
       "      <td>...</td>\n",
       "      <td>0</td>\n",
       "      <td>0</td>\n",
       "      <td>0</td>\n",
       "      <td>0</td>\n",
       "      <td>0</td>\n",
       "      <td>0</td>\n",
       "      <td>0</td>\n",
       "      <td>0</td>\n",
       "      <td>0</td>\n",
       "      <td>0</td>\n",
       "    </tr>\n",
       "    <tr>\n",
       "      <th>2</th>\n",
       "      <td>0</td>\n",
       "      <td>0</td>\n",
       "      <td>0</td>\n",
       "      <td>0</td>\n",
       "      <td>0</td>\n",
       "      <td>0</td>\n",
       "      <td>0</td>\n",
       "      <td>0</td>\n",
       "      <td>0</td>\n",
       "      <td>0</td>\n",
       "      <td>...</td>\n",
       "      <td>0</td>\n",
       "      <td>0</td>\n",
       "      <td>0</td>\n",
       "      <td>0</td>\n",
       "      <td>0</td>\n",
       "      <td>0</td>\n",
       "      <td>0</td>\n",
       "      <td>0</td>\n",
       "      <td>0</td>\n",
       "      <td>0</td>\n",
       "    </tr>\n",
       "    <tr>\n",
       "      <th>3</th>\n",
       "      <td>0</td>\n",
       "      <td>0</td>\n",
       "      <td>0</td>\n",
       "      <td>0</td>\n",
       "      <td>0</td>\n",
       "      <td>0</td>\n",
       "      <td>0</td>\n",
       "      <td>0</td>\n",
       "      <td>0</td>\n",
       "      <td>0</td>\n",
       "      <td>...</td>\n",
       "      <td>0</td>\n",
       "      <td>0</td>\n",
       "      <td>0</td>\n",
       "      <td>0</td>\n",
       "      <td>0</td>\n",
       "      <td>0</td>\n",
       "      <td>0</td>\n",
       "      <td>0</td>\n",
       "      <td>0</td>\n",
       "      <td>0</td>\n",
       "    </tr>\n",
       "    <tr>\n",
       "      <th>4</th>\n",
       "      <td>0</td>\n",
       "      <td>0</td>\n",
       "      <td>0</td>\n",
       "      <td>0</td>\n",
       "      <td>0</td>\n",
       "      <td>0</td>\n",
       "      <td>0</td>\n",
       "      <td>0</td>\n",
       "      <td>0</td>\n",
       "      <td>0</td>\n",
       "      <td>...</td>\n",
       "      <td>0</td>\n",
       "      <td>0</td>\n",
       "      <td>0</td>\n",
       "      <td>0</td>\n",
       "      <td>0</td>\n",
       "      <td>0</td>\n",
       "      <td>0</td>\n",
       "      <td>0</td>\n",
       "      <td>0</td>\n",
       "      <td>0</td>\n",
       "    </tr>\n",
       "  </tbody>\n",
       "</table>\n",
       "<p>5 rows × 5663 columns</p>\n",
       "</div>"
      ],
      "text/plain": [
       "   000  01  10  100  100k  109  10m  11  115  116  ...  zack  zealand  zhao  \\\n",
       "0    0   0   0    0     0    0    0   0    0    0  ...     0        0     0   \n",
       "1    0   0   0    0     0    0    0   0    0    0  ...     0        0     0   \n",
       "2    0   0   0    0     0    0    0   0    0    0  ...     0        0     0   \n",
       "3    0   0   0    0     0    0    0   0    0    0  ...     0        0     0   \n",
       "4    0   0   0    0     0    0    0   0    0    0  ...     0        0     0   \n",
       "\n",
       "   zip  zone  zones  zookeepers  zoom  zorb  zz  \n",
       "0    0     0      0           0     0     0   0  \n",
       "1    0     0      0           0     0     0   0  \n",
       "2    0     0      0           0     0     0   0  \n",
       "3    0     0      0           0     0     0   0  \n",
       "4    0     0      0           0     0     0   0  \n",
       "\n",
       "[5 rows x 5663 columns]"
      ]
     },
     "execution_count": 18,
     "metadata": {},
     "output_type": "execute_result"
    }
   ],
   "source": [
    "# Lets get a dataframe going and see what we have with countvect\n",
    "T_train_df = pd.DataFrame(T_train.todense(),\n",
    "                          columns = cvec.get_feature_names())\n",
    "T_train_df.head()"
   ]
  },
  {
   "cell_type": "markdown",
   "id": "ecf817d9",
   "metadata": {},
   "source": [
    " > To be honest, i'm a bit shocked at how small the bag of words we have actually, but a lot of these are just short one sentence summaries and there are only so many words"
   ]
  },
  {
   "cell_type": "markdown",
   "id": "f699b2c5",
   "metadata": {},
   "source": [
    "### Lets see how the defaults do first with the Multinomial Naive Bayes"
   ]
  },
  {
   "cell_type": "code",
   "execution_count": 19,
   "id": "24619d8b",
   "metadata": {},
   "outputs": [
    {
     "name": "stdout",
     "output_type": "stream",
     "text": [
      "Train Score:  0.9719626168224299\n",
      "Test Score:  0.874\n"
     ]
    }
   ],
   "source": [
    "bnb = BernoulliNB()\n",
    "bnb.fit(T_train, y_train)\n",
    "print('Train Score: ',bnb.score(T_train, y_train))\n",
    "print('Test Score: ', bnb.score(T_test, y_test))"
   ]
  },
  {
   "cell_type": "code",
   "execution_count": 20,
   "id": "999f5a16",
   "metadata": {},
   "outputs": [
    {
     "name": "stdout",
     "output_type": "stream",
     "text": [
      "Train Score:  0.9739652870493992\n",
      "Test Score:  0.87\n"
     ]
    }
   ],
   "source": [
    "## Lets also try the multinomial nb\n",
    "mnb= MultinomialNB()\n",
    "mnb.fit(T_train, y_train)\n",
    "print('Train Score: ',mnb.score(T_train, y_train))\n",
    "print('Test Score: ', mnb.score(T_test, y_test))"
   ]
  },
  {
   "cell_type": "markdown",
   "id": "56d20600",
   "metadata": {},
   "source": [
    " > it seems as though the Multinomial score is a bit better, but lets keep going and do some cross val scores to see where we actually are in terms of values as our variance for both are a bit high"
   ]
  },
  {
   "cell_type": "code",
   "execution_count": 21,
   "id": "c8746339",
   "metadata": {},
   "outputs": [
    {
     "name": "stdout",
     "output_type": "stream",
     "text": [
      "Training score:  0.8170903010033446\n",
      "Testing Score:  0.786\n"
     ]
    }
   ],
   "source": [
    "# Check cross val of Multinomial Naive bayes\n",
    "print('Training score: ',cross_val_score(MultinomialNB(), T_train, y_train).mean())\n",
    "print('Testing Score: ', cross_val_score(MultinomialNB(), T_test, y_test).mean())"
   ]
  },
  {
   "cell_type": "code",
   "execution_count": 22,
   "id": "c4b35c80",
   "metadata": {},
   "outputs": [
    {
     "name": "stdout",
     "output_type": "stream",
     "text": [
      "Training score:  0.8130903010033446\n",
      "Testing Score:  0.792\n"
     ]
    }
   ],
   "source": [
    "# Lets do cross val of Bernoulli naive bayes\n",
    "print('Training score: ',cross_val_score(BernoulliNB(), T_train, y_train).mean())\n",
    "print('Testing Score: ', cross_val_score(BernoulliNB(), T_test, y_test).mean())"
   ]
  },
  {
   "cell_type": "markdown",
   "id": "b28b003f",
   "metadata": {},
   "source": [
    "> At least we are seeing similar and consistent results between the testing set in terms of bias and variance, however the multinomial seems to be doing a bit better, what if we try a pipeline and gridsearch for the best params"
   ]
  },
  {
   "cell_type": "markdown",
   "id": "b16b6b62",
   "metadata": {},
   "source": [
    "## Setting up a pipeline and gridsearch for the Multinomial Naive bayes<span id='pipe1'></span>\n",
    "[TOC](#toc)\n",
    "___"
   ]
  },
  {
   "cell_type": "code",
   "execution_count": 23,
   "id": "7ff014f7",
   "metadata": {},
   "outputs": [],
   "source": [
    "# Lets just make sure our X and y are all good to go in case we changed something above\n",
    "X = big_df['title']\n",
    "y = big_df['subreddit']\n",
    "X_train, X_test, y_train, y_test = train_test_split(X, y, stratify=y, random_state=14260)"
   ]
  },
  {
   "cell_type": "code",
   "execution_count": 24,
   "id": "2462e20e",
   "metadata": {},
   "outputs": [],
   "source": [
    "mnb_pipe = Pipeline([\n",
    "    ('cvec', CountVectorizer()),\n",
    "    ('mnb', MultinomialNB())\n",
    "])\n",
    "\n",
    "mbp_params = {'cvec__ngram_range':[(1,1), (1,2), (2,2)],\n",
    "               'cvec__max_df': [0.90, 0.95, 1.0],\n",
    "               'cvec__max_features': [2000, 3000, 4000, None],\n",
    "               'cvec__min_df': [1, 2, 3, 4, 5],\n",
    "               'cvec__stop_words':['english', None],\n",
    "               'mnb__alpha': [0.5, 1, 2]}"
   ]
  },
  {
   "cell_type": "code",
   "execution_count": 25,
   "id": "adbc7510",
   "metadata": {},
   "outputs": [
    {
     "name": "stdout",
     "output_type": "stream",
     "text": [
      "Fitting 5 folds for each of 1080 candidates, totalling 5400 fits\n"
     ]
    },
    {
     "data": {
      "text/plain": [
       "GridSearchCV(cv=5,\n",
       "             estimator=Pipeline(steps=[('cvec', CountVectorizer()),\n",
       "                                       ('mnb', MultinomialNB())]),\n",
       "             param_grid={'cvec__max_df': [0.9, 0.95, 1.0],\n",
       "                         'cvec__max_features': [2000, 3000, 4000, None],\n",
       "                         'cvec__min_df': [1, 2, 3, 4, 5],\n",
       "                         'cvec__ngram_range': [(1, 1), (1, 2), (2, 2)],\n",
       "                         'cvec__stop_words': ['english', None],\n",
       "                         'mnb__alpha': [0.5, 1, 2]},\n",
       "             verbose=1)"
      ]
     },
     "execution_count": 25,
     "metadata": {},
     "output_type": "execute_result"
    }
   ],
   "source": [
    "mnb_gs = GridSearchCV(mnb_pipe,\n",
    "                     mbp_params,\n",
    "                     cv = 5,\n",
    "                     verbose = 1)\n",
    "\n",
    "mnb_gs.fit(X_train, y_train)"
   ]
  },
  {
   "cell_type": "code",
   "execution_count": 26,
   "id": "a0860ec7",
   "metadata": {},
   "outputs": [
    {
     "name": "stdout",
     "output_type": "stream",
     "text": [
      "{'cvec__max_df': 0.9, 'cvec__max_features': None, 'cvec__min_df': 1, 'cvec__ngram_range': (1, 1), 'cvec__stop_words': None, 'mnb__alpha': 1}\n"
     ]
    },
    {
     "data": {
      "text/plain": [
       "0.8351103678929765"
      ]
     },
     "execution_count": 26,
     "metadata": {},
     "output_type": "execute_result"
    }
   ],
   "source": [
    "print(mnb_gs.best_params_)\n",
    "mnb_gs.best_score_"
   ]
  },
  {
   "cell_type": "markdown",
   "id": "1fc3091c",
   "metadata": {},
   "source": [
    "> **I'm assuming it does better with the stop words included because these are news summaries, they will actually help in terms of which words will show up and be beneficial in terms of the few words per article**"
   ]
  },
  {
   "cell_type": "code",
   "execution_count": 27,
   "id": "cb8cbb1c",
   "metadata": {},
   "outputs": [
    {
     "data": {
      "text/plain": [
       "Pipeline(steps=[('cvec', CountVectorizer(max_df=0.9)),\n",
       "                ('mnb', MultinomialNB(alpha=1))])"
      ]
     },
     "execution_count": 27,
     "metadata": {},
     "output_type": "execute_result"
    }
   ],
   "source": [
    "mnb_gs.best_estimator_"
   ]
  },
  {
   "cell_type": "code",
   "execution_count": 28,
   "id": "103b4ead",
   "metadata": {},
   "outputs": [
    {
     "name": "stdout",
     "output_type": "stream",
     "text": [
      "0.9773030707610146\n",
      "0.854\n"
     ]
    }
   ],
   "source": [
    "print(mnb_gs.score(X_train, y_train))\n",
    "print(mnb_gs.score(X_test, y_test))"
   ]
  },
  {
   "cell_type": "markdown",
   "id": "8e6fe58d",
   "metadata": {},
   "source": [
    "> One reason I the model might be struggling so hard with the testing set vs the training, is there are a lot of news from all around, and therefore will lead to words and phrases that didn't show up in the training set, but now show up in the testing set."
   ]
  },
  {
   "cell_type": "markdown",
   "id": "a9e607c9",
   "metadata": {},
   "source": [
    "### Anyways, lets go ahead and make a confusion matrix of this just so we can see what our scores actually are."
   ]
  },
  {
   "cell_type": "code",
   "execution_count": 29,
   "id": "db5ced20",
   "metadata": {},
   "outputs": [
    {
     "data": {
      "image/png": "[encoded data removed]",
      "text/plain": [
       "<Figure size 432x288 with 2 Axes>"
      ]
     },
     "metadata": {
      "needs_background": "light"
     },
     "output_type": "display_data"
    }
   ],
   "source": [
    "plot_confusion_matrix(mnb_gs, X_test, y_test, cmap ='OrRd');\n",
    "plt.title('Multinomial with Count Vectorizer')\n",
    "\n",
    "plt.show()"
   ]
  },
  {
   "cell_type": "markdown",
   "id": "238b615c",
   "metadata": {},
   "source": [
    "#### Lets also get all of our test scores, by hand to try to get used to the formulas and what they mean."
   ]
  },
  {
   "cell_type": "code",
   "execution_count": 30,
   "id": "2456e6b7",
   "metadata": {},
   "outputs": [
    {
     "name": "stdout",
     "output_type": "stream",
     "text": [
      "Accuracy: 0.854\n",
      "Misclassification Rate: 0.14600000000000002\n",
      "Sensitivity 0.908\n",
      "Specifcity 0.8\n",
      "percision 0.8194945848375451\n"
     ]
    }
   ],
   "source": [
    "tn, fp, fn, tp = confusion_matrix(y_test, mnb_gs.predict(X_test)).ravel()\n",
    "\n",
    "## Print out our scores\n",
    "accuracy = (tp + tn) / (tp + tn + fp +fn)\n",
    "misclass_rate = 1 - accuracy\n",
    "sensitivity = tp/(tp + fn)\n",
    "specificity = tn/(tn+fp)\n",
    "percision = tp/ (tp+fp)\n",
    "\n",
    "print('Accuracy:', accuracy)\n",
    "print('Misclassification Rate:', misclass_rate)\n",
    "print('Sensitivity', sensitivity)\n",
    "print('Specifcity', specificity)\n",
    "print('percision', percision)"
   ]
  },
  {
   "cell_type": "markdown",
   "id": "17b3e0af",
   "metadata": {},
   "source": [
    "### Lets also generate an ROC-AUC to check how well distributed our models are \n",
    "This was taken from lesson 4.05, where \"The ROC-AUC tells how much the model is capable of distinguishing between classes\""
   ]
  },
  {
   "cell_type": "code",
   "execution_count": 31,
   "id": "28263116",
   "metadata": {},
   "outputs": [
    {
     "data": {
      "image/png": "[encoded data removed]",
      "text/plain": [
       "<Figure size 432x288 with 1 Axes>"
      ]
     },
     "metadata": {
      "needs_background": "light"
     },
     "output_type": "display_data"
    }
   ],
   "source": [
    "# from Lesson 4.05\n",
    "# ROC curve\n",
    "plot_roc_curve(mnb_gs, X_test, y_test);\n",
    "\n",
    "# add worst case scenario line\n",
    "plt.plot([0,1], [0,1],\n",
    "        label = 'baseline',\n",
    "        linestyle = '--')\n",
    "\n",
    "# add a legend\n",
    "plt.legend();"
   ]
  },
  {
   "cell_type": "markdown",
   "id": "696da148",
   "metadata": {},
   "source": [
    "> It seems as though our model is at least fairly decent at telling apart real news from fake news. Being that 1 is the highest the AUC can be, the fact that we have a 0.93 means that while not perfect, our model does seem to have some sort of capability of differentiating between the two."
   ]
  },
  {
   "cell_type": "code",
   "execution_count": 32,
   "id": "b6ee4df0",
   "metadata": {},
   "outputs": [
    {
     "data": {
      "text/plain": [
       "0.8614800759013282"
      ]
     },
     "execution_count": 32,
     "metadata": {},
     "output_type": "execute_result"
    }
   ],
   "source": [
    "# Lets also check our F1 score while we're already here\n",
    "f1_score(y_test, mnb_gs.predict(X_test))"
   ]
  },
  {
   "cell_type": "markdown",
   "id": "ae992d4a",
   "metadata": {},
   "source": [
    "> In this case, our F1 score is a metric to test if we have low recall or preceision in which case we will have a lower score even if our accuracy is high. That way if we don't value accuracy but instead another metric it will be shown here. Because all our scores were around the same to each other though, our F1 managed to balance it self out to around what we had and wasen't greatly changed from the accuracy"
   ]
  },
  {
   "cell_type": "markdown",
   "id": "17de7c5a",
   "metadata": {},
   "source": [
    "## You know, lets start making a dataframe of what our scores are<span id='scores'>"
   ]
  },
  {
   "cell_type": "code",
   "execution_count": 33,
   "id": "4f2703dc",
   "metadata": {},
   "outputs": [],
   "source": [
    "result_df = pd.DataFrame(columns = ['best_params', 'training score', 'testing score'])\n",
    "def add_info(model_name):\n",
    "    holder = {}\n",
    "    holder['best_params'] = model_name.best_params_\n",
    "    holder['training score'] = model_name.score(X_train, y_train)\n",
    "    holder['testing score'] = model_name.score(X_test, y_test)\n",
    "    \n",
    "    # lets actually also add some more information\n",
    "    tn, fp, fn, tp = confusion_matrix(y_test, model_name.predict(X_test)).ravel()\n",
    "    accuracy = (tp + tn) / (tp + tn + fp +fn)\n",
    "    misclass_rate = 1 - accuracy\n",
    "    sensitivity = tp/(tp + fn)\n",
    "    specificity = tn/(tn+fp)\n",
    "    percision = tp/ (tp+fp)\n",
    "    try:\n",
    "        auc = roc_auc_score(y_test, model_name.predict_proba(X_test)[:,1])\n",
    "    except:\n",
    "        auc = 'No predict_prob'\n",
    "    # add the scores into our dict\n",
    "    # holder['Accuracy'] = accuracy (This is literally the same as the testing score as base metric is accuracy)\n",
    "    holder['Misclassification Rate'] = misclass_rate\n",
    "    holder['Sensitivity'] = sensitivity\n",
    "    holder['Specifcity'] = specificity\n",
    "    holder['percision'] = percision\n",
    "    holder['AUC'] = auc\n",
    "\n",
    "    return result_df.append((holder), ignore_index=True)"
   ]
  },
  {
   "cell_type": "code",
   "execution_count": 34,
   "id": "dd74ae6a",
   "metadata": {},
   "outputs": [
    {
     "data": {
      "text/html": [
       "<div>\n",
       "<style scoped>\n",
       "    .dataframe tbody tr th:only-of-type {\n",
       "        vertical-align: middle;\n",
       "    }\n",
       "\n",
       "    .dataframe tbody tr th {\n",
       "        vertical-align: top;\n",
       "    }\n",
       "\n",
       "    .dataframe thead th {\n",
       "        text-align: right;\n",
       "    }\n",
       "</style>\n",
       "<table border=\"1\" class=\"dataframe\">\n",
       "  <thead>\n",
       "    <tr style=\"text-align: right;\">\n",
       "      <th></th>\n",
       "      <th>best_params</th>\n",
       "      <th>training score</th>\n",
       "      <th>testing score</th>\n",
       "      <th>AUC</th>\n",
       "      <th>Misclassification Rate</th>\n",
       "      <th>Sensitivity</th>\n",
       "      <th>Specifcity</th>\n",
       "      <th>percision</th>\n",
       "    </tr>\n",
       "  </thead>\n",
       "  <tbody>\n",
       "    <tr>\n",
       "      <th>0</th>\n",
       "      <td>{'cvec__max_df': 0.9, 'cvec__max_features': No...</td>\n",
       "      <td>0.977303</td>\n",
       "      <td>0.854</td>\n",
       "      <td>0.922112</td>\n",
       "      <td>0.146</td>\n",
       "      <td>0.908</td>\n",
       "      <td>0.8</td>\n",
       "      <td>0.819495</td>\n",
       "    </tr>\n",
       "  </tbody>\n",
       "</table>\n",
       "</div>"
      ],
      "text/plain": [
       "                                         best_params  training score  \\\n",
       "0  {'cvec__max_df': 0.9, 'cvec__max_features': No...        0.977303   \n",
       "\n",
       "   testing score       AUC  Misclassification Rate  Sensitivity  Specifcity  \\\n",
       "0          0.854  0.922112                   0.146        0.908         0.8   \n",
       "\n",
       "   percision  \n",
       "0   0.819495  "
      ]
     },
     "execution_count": 34,
     "metadata": {},
     "output_type": "execute_result"
    }
   ],
   "source": [
    "result_df = add_info(mnb_gs)\n",
    "result_df"
   ]
  },
  {
   "cell_type": "code",
   "execution_count": 35,
   "id": "c8587192",
   "metadata": {},
   "outputs": [
    {
     "data": {
      "text/plain": [
       "{'cvec__max_df': 0.9,\n",
       " 'cvec__max_features': None,\n",
       " 'cvec__min_df': 1,\n",
       " 'cvec__ngram_range': (1, 1),\n",
       " 'cvec__stop_words': None,\n",
       " 'mnb__alpha': 1}"
      ]
     },
     "execution_count": 35,
     "metadata": {},
     "output_type": "execute_result"
    }
   ],
   "source": [
    "result_df['best_params'][0]"
   ]
  },
  {
   "cell_type": "markdown",
   "id": "4d2fac6d",
   "metadata": {},
   "source": [
    "> **The best_params look crowded, but i can always just check them invidiually I guess. Because I might add different paramemters for different model, I don't want to make a column for each one as there will be a lot of NaN's later on if I do decided to add them**"
   ]
  },
  {
   "cell_type": "markdown",
   "id": "cb8d1bc6",
   "metadata": {},
   "source": [
    "<span id ='tfidf1'></span>\n",
    "## Time for a TF-IDF transformer and see if it works better than the countvect.\n",
    "[TOC](#toc)"
   ]
  },
  {
   "cell_type": "code",
   "execution_count": 36,
   "id": "e57318e0",
   "metadata": {},
   "outputs": [],
   "source": [
    "tfidf_pipe = Pipeline([\n",
    "    ('tfidf', TfidfVectorizer()),\n",
    "    ('mnb', MultinomialNB())\n",
    "])\n",
    "\n",
    "tfidf_params = {'tfidf__ngram_range':[(1,1), (1,2), (2,2)],\n",
    "               'tfidf__max_df': [0.90, 0.95, 1.0],\n",
    "               'tfidf__max_features': [2000, 3000, 4000, None],\n",
    "               'tfidf__min_df': [1, 2, 3, 4, 5],\n",
    "               'tfidf__stop_words': ['english', None],\n",
    "               'mnb__alpha': [0.5, 1, 2, 3]}"
   ]
  },
  {
   "cell_type": "code",
   "execution_count": 37,
   "id": "db409110",
   "metadata": {},
   "outputs": [
    {
     "name": "stdout",
     "output_type": "stream",
     "text": [
      "Fitting 5 folds for each of 1440 candidates, totalling 7200 fits\n"
     ]
    },
    {
     "data": {
      "text/plain": [
       "GridSearchCV(cv=5,\n",
       "             estimator=Pipeline(steps=[('tfidf', TfidfVectorizer()),\n",
       "                                       ('mnb', MultinomialNB())]),\n",
       "             param_grid={'mnb__alpha': [0.5, 1, 2, 3],\n",
       "                         'tfidf__max_df': [0.9, 0.95, 1.0],\n",
       "                         'tfidf__max_features': [2000, 3000, 4000, None],\n",
       "                         'tfidf__min_df': [1, 2, 3, 4, 5],\n",
       "                         'tfidf__ngram_range': [(1, 1), (1, 2), (2, 2)],\n",
       "                         'tfidf__stop_words': ['english', None]},\n",
       "             verbose=1)"
      ]
     },
     "execution_count": 37,
     "metadata": {},
     "output_type": "execute_result"
    }
   ],
   "source": [
    "tfidf_gs = GridSearchCV(tfidf_pipe,\n",
    "                     tfidf_params,\n",
    "                     cv = 5,\n",
    "                     verbose = 1)\n",
    "\n",
    "tfidf_gs.fit(X_train, y_train)"
   ]
  },
  {
   "cell_type": "code",
   "execution_count": 38,
   "id": "de354dec",
   "metadata": {},
   "outputs": [
    {
     "data": {
      "text/plain": [
       "Pipeline(steps=[('tfidf', TfidfVectorizer(max_df=0.9, max_features=2000)),\n",
       "                ('mnb', MultinomialNB(alpha=3))])"
      ]
     },
     "execution_count": 38,
     "metadata": {},
     "output_type": "execute_result"
    }
   ],
   "source": [
    "tfidf_gs.best_estimator_"
   ]
  },
  {
   "cell_type": "code",
   "execution_count": 39,
   "id": "745a3c30",
   "metadata": {},
   "outputs": [
    {
     "data": {
      "text/plain": [
       "0.8384503901895206"
      ]
     },
     "execution_count": 39,
     "metadata": {},
     "output_type": "execute_result"
    }
   ],
   "source": [
    "tfidf_gs.best_score_"
   ]
  },
  {
   "cell_type": "code",
   "execution_count": 40,
   "id": "d04b3529",
   "metadata": {},
   "outputs": [
    {
     "name": "stdout",
     "output_type": "stream",
     "text": [
      "0.9345794392523364\n",
      "0.822\n"
     ]
    }
   ],
   "source": [
    "print(tfidf_gs.score(X_train, y_train))\n",
    "print(tfidf_gs.score(X_test, y_test))"
   ]
  },
  {
   "cell_type": "markdown",
   "id": "b1c7f58f",
   "metadata": {},
   "source": [
    "### Confusion matrix and ROC-AUC time"
   ]
  },
  {
   "cell_type": "code",
   "execution_count": 41,
   "id": "86a24257",
   "metadata": {},
   "outputs": [
    {
     "data": {
      "image/png": "[encoded data removed]",
      "text/plain": [
       "<Figure size 432x288 with 2 Axes>"
      ]
     },
     "metadata": {
      "needs_background": "light"
     },
     "output_type": "display_data"
    }
   ],
   "source": [
    "plot_confusion_matrix(tfidf_gs, X_test, y_test, cmap ='mako')\n",
    "plt.title('Multinomial with TF-IDF')\n",
    "\n",
    "plt.show()"
   ]
  },
  {
   "cell_type": "code",
   "execution_count": 42,
   "id": "c70a5631",
   "metadata": {},
   "outputs": [
    {
     "name": "stdout",
     "output_type": "stream",
     "text": [
      "Accuracy: 0.822\n",
      "Misclassification Rate: 0.17800000000000005\n",
      "Sensitivity 0.852\n",
      "Specifcity 0.792\n",
      "percision 0.8037735849056604\n"
     ]
    }
   ],
   "source": [
    "tn, fp, fn, tp = confusion_matrix(y_test, tfidf_gs.predict(X_test)).ravel()\n",
    "\n",
    "## Print out our scores\n",
    "accuracy = (tp + tn) / (tp + tn + fp +fn)\n",
    "misclass_rate = 1 - accuracy\n",
    "sensitivity = tp/(tp + fn)\n",
    "specificity = tn/(tn+fp)\n",
    "percision = tp/ (tp+fp)\n",
    "\n",
    "print('Accuracy:', accuracy)\n",
    "print('Misclassification Rate:', misclass_rate)\n",
    "print('Sensitivity', sensitivity)\n",
    "print('Specifcity', specificity)\n",
    "print('percision', percision)"
   ]
  },
  {
   "cell_type": "code",
   "execution_count": 43,
   "id": "ed909de6",
   "metadata": {},
   "outputs": [
    {
     "data": {
      "image/png": "[encoded data removed]",
      "text/plain": [
       "<Figure size 432x288 with 1 Axes>"
      ]
     },
     "metadata": {
      "needs_background": "light"
     },
     "output_type": "display_data"
    }
   ],
   "source": [
    "# from Lesson 4.05\n",
    "# ROC curve\n",
    "plot_roc_curve(tfidf_gs, X_test, y_test);\n",
    "\n",
    "# add worst case scenario line\n",
    "plt.plot([0,1], [0,1],\n",
    "        label = 'baseline',\n",
    "        linestyle = '--')\n",
    "\n",
    "# add a legend\n",
    "plt.legend();"
   ]
  },
  {
   "cell_type": "markdown",
   "id": "95e4c895",
   "metadata": {},
   "source": [
    "> still running into similar problems here. Lets maybe try a different approach in improving our scores, treating these vectorized columns as dummy columns and adding them to the df"
   ]
  },
  {
   "cell_type": "code",
   "execution_count": 44,
   "id": "76a91b0b",
   "metadata": {},
   "outputs": [
    {
     "data": {
      "text/html": [
       "<div>\n",
       "<style scoped>\n",
       "    .dataframe tbody tr th:only-of-type {\n",
       "        vertical-align: middle;\n",
       "    }\n",
       "\n",
       "    .dataframe tbody tr th {\n",
       "        vertical-align: top;\n",
       "    }\n",
       "\n",
       "    .dataframe thead th {\n",
       "        text-align: right;\n",
       "    }\n",
       "</style>\n",
       "<table border=\"1\" class=\"dataframe\">\n",
       "  <thead>\n",
       "    <tr style=\"text-align: right;\">\n",
       "      <th></th>\n",
       "      <th>best_params</th>\n",
       "      <th>training score</th>\n",
       "      <th>testing score</th>\n",
       "      <th>AUC</th>\n",
       "      <th>Misclassification Rate</th>\n",
       "      <th>Sensitivity</th>\n",
       "      <th>Specifcity</th>\n",
       "      <th>percision</th>\n",
       "    </tr>\n",
       "  </thead>\n",
       "  <tbody>\n",
       "    <tr>\n",
       "      <th>0</th>\n",
       "      <td>{'cvec__max_df': 0.9, 'cvec__max_features': No...</td>\n",
       "      <td>0.977303</td>\n",
       "      <td>0.854</td>\n",
       "      <td>0.922112</td>\n",
       "      <td>0.146</td>\n",
       "      <td>0.908</td>\n",
       "      <td>0.800</td>\n",
       "      <td>0.819495</td>\n",
       "    </tr>\n",
       "    <tr>\n",
       "      <th>1</th>\n",
       "      <td>{'mnb__alpha': 3, 'tfidf__max_df': 0.9, 'tfidf...</td>\n",
       "      <td>0.934579</td>\n",
       "      <td>0.822</td>\n",
       "      <td>0.905728</td>\n",
       "      <td>0.178</td>\n",
       "      <td>0.852</td>\n",
       "      <td>0.792</td>\n",
       "      <td>0.803774</td>\n",
       "    </tr>\n",
       "  </tbody>\n",
       "</table>\n",
       "</div>"
      ],
      "text/plain": [
       "                                         best_params  training score  \\\n",
       "0  {'cvec__max_df': 0.9, 'cvec__max_features': No...        0.977303   \n",
       "1  {'mnb__alpha': 3, 'tfidf__max_df': 0.9, 'tfidf...        0.934579   \n",
       "\n",
       "   testing score       AUC  Misclassification Rate  Sensitivity  Specifcity  \\\n",
       "0          0.854  0.922112                   0.146        0.908       0.800   \n",
       "1          0.822  0.905728                   0.178        0.852       0.792   \n",
       "\n",
       "   percision  \n",
       "0   0.819495  \n",
       "1   0.803774  "
      ]
     },
     "execution_count": 44,
     "metadata": {},
     "output_type": "execute_result"
    }
   ],
   "source": [
    "result_df = add_info(tfidf_gs)\n",
    "result_df"
   ]
  },
  {
   "cell_type": "markdown",
   "id": "0f16b977",
   "metadata": {},
   "source": [
    "<span id='svm'></span>\n",
    "## Another Test I wanna try is the SVM ( Support Vector Machine ) model. \n",
    "This is a model this time instead of a transformer like before, but we might do it with both the transformers\n",
    "[TOC](#toc)"
   ]
  },
  {
   "cell_type": "code",
   "execution_count": 45,
   "id": "89861dd1",
   "metadata": {},
   "outputs": [
    {
     "data": {
      "text/plain": [
       "SVC()"
      ]
     },
     "execution_count": 45,
     "metadata": {},
     "output_type": "execute_result"
    }
   ],
   "source": [
    "# lets try the default values first\n",
    "svmc = SVC()\n",
    "cvec_svc = CountVectorizer()\n",
    "X_train_svc = cvec_svc.fit_transform(X_train)\n",
    "X_test_svc = cvec_svc.transform(X_test)\n",
    "svmc.fit(X_train_svc, y_train)"
   ]
  },
  {
   "cell_type": "code",
   "execution_count": 46,
   "id": "0632292f",
   "metadata": {},
   "outputs": [
    {
     "name": "stdout",
     "output_type": "stream",
     "text": [
      "0.9913217623497997\n",
      "0.81\n"
     ]
    }
   ],
   "source": [
    "print(svmc.score(X_train_svc, y_train))\n",
    "print(svmc.score(X_test_svc, y_test))"
   ]
  },
  {
   "cell_type": "markdown",
   "id": "d093940a",
   "metadata": {},
   "source": [
    "### Lets try a pipe line for svc now, seems like the score isn't that bad"
   ]
  },
  {
   "cell_type": "code",
   "execution_count": 47,
   "id": "9107116f",
   "metadata": {},
   "outputs": [
    {
     "name": "stdout",
     "output_type": "stream",
     "text": [
      "Fitting 5 folds for each of 96 candidates, totalling 480 fits\n"
     ]
    },
    {
     "data": {
      "text/plain": [
       "GridSearchCV(cv=5,\n",
       "             estimator=Pipeline(steps=[('tfidf', TfidfVectorizer()),\n",
       "                                       ('svc', SVC())]),\n",
       "             n_jobs=-1,\n",
       "             param_grid={'svc__C': [0.01, 1], 'svc__degree': [2, 3],\n",
       "                         'svc__kernel': ['poly', 'rbf'],\n",
       "                         'svc__probability': [True], 'tfidf__max_df': [0.9],\n",
       "                         'tfidf__max_features': [3000, None],\n",
       "                         'tfidf__min_df': [1, 2, 3],\n",
       "                         'tfidf__ngram_range': [(1, 1), (1, 2)]},\n",
       "             verbose=1)"
      ]
     },
     "execution_count": 47,
     "metadata": {},
     "output_type": "execute_result"
    }
   ],
   "source": [
    "svc_pipe = Pipeline([\n",
    "    ('tfidf', TfidfVectorizer()),\n",
    "    ('svc', SVC())\n",
    "])\n",
    "\n",
    "svc_params = {'tfidf__ngram_range':[(1,1), (1,2)],\n",
    "               'tfidf__max_df': [0.90],\n",
    "               'tfidf__max_features': [3000, None],\n",
    "               'tfidf__min_df': [1, 2, 3],\n",
    "               'svc__C': [0.01, 1],\n",
    "               'svc__degree': [2, 3],\n",
    "               'svc__kernel': ['poly','rbf'],\n",
    "               'svc__probability': [True]}\n",
    "\n",
    "svc_gs = GridSearchCV(svc_pipe,\n",
    "                      svc_params,\n",
    "                      cv = 5,\n",
    "                      verbose = 1,\n",
    "                      n_jobs = -1)\n",
    "\n",
    "svc_gs.fit(X_train, y_train)"
   ]
  },
  {
   "cell_type": "code",
   "execution_count": 48,
   "id": "76d7e9df",
   "metadata": {},
   "outputs": [
    {
     "data": {
      "text/plain": [
       "{'svc__C': 1,\n",
       " 'svc__degree': 2,\n",
       " 'svc__kernel': 'poly',\n",
       " 'svc__probability': True,\n",
       " 'tfidf__max_df': 0.9,\n",
       " 'tfidf__max_features': None,\n",
       " 'tfidf__min_df': 1,\n",
       " 'tfidf__ngram_range': (1, 1)}"
      ]
     },
     "execution_count": 48,
     "metadata": {},
     "output_type": "execute_result"
    }
   ],
   "source": [
    "svc_gs.best_params_"
   ]
  },
  {
   "cell_type": "code",
   "execution_count": 49,
   "id": "aae2444a",
   "metadata": {},
   "outputs": [
    {
     "name": "stdout",
     "output_type": "stream",
     "text": [
      "0.9993324432576769\n",
      "0.846\n"
     ]
    }
   ],
   "source": [
    "print(svc_gs.score(X_train, y_train))\n",
    "print(svc_gs.score(X_test, y_test))"
   ]
  },
  {
   "cell_type": "markdown",
   "id": "d4c44e3c",
   "metadata": {},
   "source": [
    "### Confusion Matrix and ROC-AUC time"
   ]
  },
  {
   "cell_type": "code",
   "execution_count": 50,
   "id": "bc34aaf1",
   "metadata": {},
   "outputs": [
    {
     "data": {
      "image/png": "[encoded data removed]",
      "text/plain": [
       "<Figure size 432x288 with 2 Axes>"
      ]
     },
     "metadata": {
      "needs_background": "light"
     },
     "output_type": "display_data"
    }
   ],
   "source": [
    "plot_confusion_matrix(svc_gs, X_test, y_test, cmap ='rocket')\n",
    "plt.title('SVC')\n",
    "\n",
    "plt.show()"
   ]
  },
  {
   "cell_type": "code",
   "execution_count": 51,
   "id": "8947060c",
   "metadata": {},
   "outputs": [
    {
     "name": "stdout",
     "output_type": "stream",
     "text": [
      "Accuracy: 0.846\n",
      "Misclassification Rate: 0.15400000000000003\n",
      "Sensitivity 0.848\n",
      "Specifcity 0.844\n",
      "percision 0.8446215139442231\n"
     ]
    }
   ],
   "source": [
    "tn, fp, fn, tp = confusion_matrix(y_test, svc_gs.predict(X_test)).ravel()\n",
    "\n",
    "## Print out our scores\n",
    "accuracy = (tp + tn) / (tp + tn + fp +fn)\n",
    "misclass_rate = 1 - accuracy\n",
    "sensitivity = tp/(tp + fn)\n",
    "specificity = tn/(tn+fp)\n",
    "percision = tp/ (tp+fp)\n",
    "\n",
    "print('Accuracy:', accuracy)\n",
    "print('Misclassification Rate:', misclass_rate)\n",
    "print('Sensitivity', sensitivity)\n",
    "print('Specifcity', specificity)\n",
    "print('percision', percision)"
   ]
  },
  {
   "cell_type": "code",
   "execution_count": 52,
   "id": "9d5aa490",
   "metadata": {},
   "outputs": [
    {
     "data": {
      "image/png": "[encoded data removed]",
      "text/plain": [
       "<Figure size 432x288 with 1 Axes>"
      ]
     },
     "metadata": {
      "needs_background": "light"
     },
     "output_type": "display_data"
    }
   ],
   "source": [
    "# from Lesson 4.05\n",
    "# ROC curve\n",
    "plot_roc_curve(svc_gs, X_test, y_test);\n",
    "\n",
    "# add worst case scenario line\n",
    "plt.plot([0,1], [0,1],\n",
    "        label = 'baseline',\n",
    "        linestyle = '--')\n",
    "\n",
    "# add a legend\n",
    "plt.legend();"
   ]
  },
  {
   "cell_type": "code",
   "execution_count": 53,
   "id": "5c23cf80",
   "metadata": {},
   "outputs": [
    {
     "data": {
      "text/html": [
       "<div>\n",
       "<style scoped>\n",
       "    .dataframe tbody tr th:only-of-type {\n",
       "        vertical-align: middle;\n",
       "    }\n",
       "\n",
       "    .dataframe tbody tr th {\n",
       "        vertical-align: top;\n",
       "    }\n",
       "\n",
       "    .dataframe thead th {\n",
       "        text-align: right;\n",
       "    }\n",
       "</style>\n",
       "<table border=\"1\" class=\"dataframe\">\n",
       "  <thead>\n",
       "    <tr style=\"text-align: right;\">\n",
       "      <th></th>\n",
       "      <th>best_params</th>\n",
       "      <th>training score</th>\n",
       "      <th>testing score</th>\n",
       "      <th>AUC</th>\n",
       "      <th>Misclassification Rate</th>\n",
       "      <th>Sensitivity</th>\n",
       "      <th>Specifcity</th>\n",
       "      <th>percision</th>\n",
       "    </tr>\n",
       "  </thead>\n",
       "  <tbody>\n",
       "    <tr>\n",
       "      <th>0</th>\n",
       "      <td>{'cvec__max_df': 0.9, 'cvec__max_features': No...</td>\n",
       "      <td>0.977303</td>\n",
       "      <td>0.854</td>\n",
       "      <td>0.922112</td>\n",
       "      <td>0.146</td>\n",
       "      <td>0.908</td>\n",
       "      <td>0.800</td>\n",
       "      <td>0.819495</td>\n",
       "    </tr>\n",
       "    <tr>\n",
       "      <th>1</th>\n",
       "      <td>{'mnb__alpha': 3, 'tfidf__max_df': 0.9, 'tfidf...</td>\n",
       "      <td>0.934579</td>\n",
       "      <td>0.822</td>\n",
       "      <td>0.905728</td>\n",
       "      <td>0.178</td>\n",
       "      <td>0.852</td>\n",
       "      <td>0.792</td>\n",
       "      <td>0.803774</td>\n",
       "    </tr>\n",
       "    <tr>\n",
       "      <th>2</th>\n",
       "      <td>{'svc__C': 1, 'svc__degree': 2, 'svc__kernel':...</td>\n",
       "      <td>0.999332</td>\n",
       "      <td>0.846</td>\n",
       "      <td>0.921848</td>\n",
       "      <td>0.154</td>\n",
       "      <td>0.848</td>\n",
       "      <td>0.844</td>\n",
       "      <td>0.844622</td>\n",
       "    </tr>\n",
       "  </tbody>\n",
       "</table>\n",
       "</div>"
      ],
      "text/plain": [
       "                                         best_params  training score  \\\n",
       "0  {'cvec__max_df': 0.9, 'cvec__max_features': No...        0.977303   \n",
       "1  {'mnb__alpha': 3, 'tfidf__max_df': 0.9, 'tfidf...        0.934579   \n",
       "2  {'svc__C': 1, 'svc__degree': 2, 'svc__kernel':...        0.999332   \n",
       "\n",
       "   testing score       AUC  Misclassification Rate  Sensitivity  Specifcity  \\\n",
       "0          0.854  0.922112                   0.146        0.908       0.800   \n",
       "1          0.822  0.905728                   0.178        0.852       0.792   \n",
       "2          0.846  0.921848                   0.154        0.848       0.844   \n",
       "\n",
       "   percision  \n",
       "0   0.819495  \n",
       "1   0.803774  \n",
       "2   0.844622  "
      ]
     },
     "execution_count": 53,
     "metadata": {},
     "output_type": "execute_result"
    }
   ],
   "source": [
    "# Add to our results\n",
    "result_df = add_info(svc_gs)\n",
    "result_df"
   ]
  },
  {
   "cell_type": "markdown",
   "id": "b006b17a",
   "metadata": {},
   "source": [
    "<span id ='logreg'></span>\n",
    "## What about a Logistic Regression?\n",
    "[TOC](#toc)"
   ]
  },
  {
   "cell_type": "code",
   "execution_count": 54,
   "id": "36831927",
   "metadata": {},
   "outputs": [
    {
     "name": "stdout",
     "output_type": "stream",
     "text": [
      "Fitting 5 folds for each of 1080 candidates, totalling 5400 fits\n"
     ]
    },
    {
     "data": {
      "text/plain": [
       "GridSearchCV(cv=5,\n",
       "             estimator=Pipeline(steps=[('tfidf', TfidfVectorizer()),\n",
       "                                       ('lr', LogisticRegression())]),\n",
       "             n_jobs=8,\n",
       "             param_grid={'lr__C': [0.5, 1, 2, 3], 'lr__penalty': ['l1', 'l2'],\n",
       "                         'lr__solver': ['liblinear'],\n",
       "                         'tfidf__max_df': [0.9, 0.95, 1.0],\n",
       "                         'tfidf__max_features': [2000, 3000, None],\n",
       "                         'tfidf__min_df': [1, 2, 3, 4, 5],\n",
       "                         'tfidf__ngram_range': [(1, 1), (1, 2), (1, 3)]},\n",
       "             verbose=1)"
      ]
     },
     "execution_count": 54,
     "metadata": {},
     "output_type": "execute_result"
    }
   ],
   "source": [
    "log_pipe = Pipeline([('tfidf', TfidfVectorizer()),\n",
    "                     ('lr', LogisticRegression())])\n",
    "\n",
    "log_params = {'tfidf__ngram_range':[(1,1), (1,2), (1,3)],\n",
    "               'tfidf__max_df': [0.90, 0.95, 1.0],\n",
    "               'tfidf__max_features': [2000, 3000, None],\n",
    "               'tfidf__min_df': [1, 2, 3, 4, 5],\n",
    "               'lr__C' : [0.5, 1, 2, 3],\n",
    "               'lr__penalty': ['l1', 'l2'],\n",
    "               'lr__solver': ['liblinear']}\n",
    "\n",
    "log_gs = GridSearchCV(log_pipe,\n",
    "                      log_params,\n",
    "                      cv = 5,\n",
    "                      verbose = 1,\n",
    "                      n_jobs=8)\n",
    "\n",
    "log_gs.fit(X_train, y_train)"
   ]
  },
  {
   "cell_type": "code",
   "execution_count": 55,
   "id": "6eecdb83",
   "metadata": {},
   "outputs": [
    {
     "name": "stdout",
     "output_type": "stream",
     "text": [
      "0.836448160535117\n"
     ]
    },
    {
     "data": {
      "text/plain": [
       "{'lr__C': 2,\n",
       " 'lr__penalty': 'l2',\n",
       " 'lr__solver': 'liblinear',\n",
       " 'tfidf__max_df': 0.9,\n",
       " 'tfidf__max_features': None,\n",
       " 'tfidf__min_df': 1,\n",
       " 'tfidf__ngram_range': (1, 2)}"
      ]
     },
     "execution_count": 55,
     "metadata": {},
     "output_type": "execute_result"
    }
   ],
   "source": [
    "print(log_gs.best_score_)\n",
    "log_gs.best_params_"
   ]
  },
  {
   "cell_type": "code",
   "execution_count": 56,
   "id": "34a23915",
   "metadata": {},
   "outputs": [
    {
     "name": "stdout",
     "output_type": "stream",
     "text": [
      "0.9986648865153538\n",
      "0.832\n"
     ]
    }
   ],
   "source": [
    "print(log_gs.score(X_train, y_train))\n",
    "print(log_gs.score(X_test, y_test))"
   ]
  },
  {
   "cell_type": "code",
   "execution_count": 57,
   "id": "ecab657f",
   "metadata": {},
   "outputs": [
    {
     "data": {
      "text/html": [
       "<div>\n",
       "<style scoped>\n",
       "    .dataframe tbody tr th:only-of-type {\n",
       "        vertical-align: middle;\n",
       "    }\n",
       "\n",
       "    .dataframe tbody tr th {\n",
       "        vertical-align: top;\n",
       "    }\n",
       "\n",
       "    .dataframe thead th {\n",
       "        text-align: right;\n",
       "    }\n",
       "</style>\n",
       "<table border=\"1\" class=\"dataframe\">\n",
       "  <thead>\n",
       "    <tr style=\"text-align: right;\">\n",
       "      <th></th>\n",
       "      <th>best_params</th>\n",
       "      <th>training score</th>\n",
       "      <th>testing score</th>\n",
       "      <th>AUC</th>\n",
       "      <th>Misclassification Rate</th>\n",
       "      <th>Sensitivity</th>\n",
       "      <th>Specifcity</th>\n",
       "      <th>percision</th>\n",
       "    </tr>\n",
       "  </thead>\n",
       "  <tbody>\n",
       "    <tr>\n",
       "      <th>0</th>\n",
       "      <td>{'cvec__max_df': 0.9, 'cvec__max_features': No...</td>\n",
       "      <td>0.977303</td>\n",
       "      <td>0.854</td>\n",
       "      <td>0.922112</td>\n",
       "      <td>0.146</td>\n",
       "      <td>0.908</td>\n",
       "      <td>0.800</td>\n",
       "      <td>0.819495</td>\n",
       "    </tr>\n",
       "    <tr>\n",
       "      <th>1</th>\n",
       "      <td>{'mnb__alpha': 3, 'tfidf__max_df': 0.9, 'tfidf...</td>\n",
       "      <td>0.934579</td>\n",
       "      <td>0.822</td>\n",
       "      <td>0.905728</td>\n",
       "      <td>0.178</td>\n",
       "      <td>0.852</td>\n",
       "      <td>0.792</td>\n",
       "      <td>0.803774</td>\n",
       "    </tr>\n",
       "    <tr>\n",
       "      <th>2</th>\n",
       "      <td>{'svc__C': 1, 'svc__degree': 2, 'svc__kernel':...</td>\n",
       "      <td>0.999332</td>\n",
       "      <td>0.846</td>\n",
       "      <td>0.921848</td>\n",
       "      <td>0.154</td>\n",
       "      <td>0.848</td>\n",
       "      <td>0.844</td>\n",
       "      <td>0.844622</td>\n",
       "    </tr>\n",
       "    <tr>\n",
       "      <th>3</th>\n",
       "      <td>{'lr__C': 2, 'lr__penalty': 'l2', 'lr__solver'...</td>\n",
       "      <td>0.998665</td>\n",
       "      <td>0.832</td>\n",
       "      <td>0.906544</td>\n",
       "      <td>0.168</td>\n",
       "      <td>0.840</td>\n",
       "      <td>0.824</td>\n",
       "      <td>0.826772</td>\n",
       "    </tr>\n",
       "  </tbody>\n",
       "</table>\n",
       "</div>"
      ],
      "text/plain": [
       "                                         best_params  training score  \\\n",
       "0  {'cvec__max_df': 0.9, 'cvec__max_features': No...        0.977303   \n",
       "1  {'mnb__alpha': 3, 'tfidf__max_df': 0.9, 'tfidf...        0.934579   \n",
       "2  {'svc__C': 1, 'svc__degree': 2, 'svc__kernel':...        0.999332   \n",
       "3  {'lr__C': 2, 'lr__penalty': 'l2', 'lr__solver'...        0.998665   \n",
       "\n",
       "   testing score       AUC  Misclassification Rate  Sensitivity  Specifcity  \\\n",
       "0          0.854  0.922112                   0.146        0.908       0.800   \n",
       "1          0.822  0.905728                   0.178        0.852       0.792   \n",
       "2          0.846  0.921848                   0.154        0.848       0.844   \n",
       "3          0.832  0.906544                   0.168        0.840       0.824   \n",
       "\n",
       "   percision  \n",
       "0   0.819495  \n",
       "1   0.803774  \n",
       "2   0.844622  \n",
       "3   0.826772  "
      ]
     },
     "execution_count": 57,
     "metadata": {},
     "output_type": "execute_result"
    }
   ],
   "source": [
    "result_df = add_info(log_gs)\n",
    "result_df"
   ]
  },
  {
   "cell_type": "code",
   "execution_count": 58,
   "id": "a2f37589",
   "metadata": {},
   "outputs": [
    {
     "data": {
      "text/plain": [
       "Text(0.5, 1.0, 'Logistic Regression')"
      ]
     },
     "execution_count": 58,
     "metadata": {},
     "output_type": "execute_result"
    },
    {
     "data": {
      "image/png": "[encoded data removed]",
      "text/plain": [
       "<Figure size 432x288 with 2 Axes>"
      ]
     },
     "metadata": {
      "needs_background": "light"
     },
     "output_type": "display_data"
    }
   ],
   "source": [
    "plot_confusion_matrix(log_gs, X_test, y_test, cmap ='afmhot')\n",
    "plt.title('Logistic Regression')"
   ]
  },
  {
   "cell_type": "code",
   "execution_count": 59,
   "id": "01369d7b",
   "metadata": {},
   "outputs": [
    {
     "name": "stdout",
     "output_type": "stream",
     "text": [
      "Accuracy: 0.832\n",
      "Misclassification Rate: 0.16800000000000004\n",
      "Sensitivity 0.84\n",
      "Specifcity 0.824\n",
      "percision 0.8267716535433071\n"
     ]
    }
   ],
   "source": [
    "tn, fp, fn, tp = confusion_matrix(y_test, log_gs.predict(X_test)).ravel()\n",
    "\n",
    "## Print out our scores\n",
    "accuracy = (tp + tn) / (tp + tn + fp +fn)\n",
    "misclass_rate = 1 - accuracy\n",
    "sensitivity = tp/(tp + fn)\n",
    "specificity = tn/(tn+fp)\n",
    "percision = tp/ (tp+fp)\n",
    "\n",
    "print('Accuracy:', accuracy)\n",
    "print('Misclassification Rate:', misclass_rate)\n",
    "print('Sensitivity', sensitivity)\n",
    "print('Specifcity', specificity)\n",
    "print('percision', percision)"
   ]
  },
  {
   "cell_type": "code",
   "execution_count": 60,
   "id": "156c2f04",
   "metadata": {},
   "outputs": [
    {
     "data": {
      "image/png": "[encoded data removed]",
      "text/plain": [
       "<Figure size 432x288 with 1 Axes>"
      ]
     },
     "metadata": {
      "needs_background": "light"
     },
     "output_type": "display_data"
    }
   ],
   "source": [
    "# from Lesson 4.05\n",
    "# ROC curve\n",
    "plot_roc_curve(log_gs, X_test, y_test);\n",
    "\n",
    "# add worst case scenario line\n",
    "plt.plot([0,1], [0,1],\n",
    "        label = 'baseline',\n",
    "        linestyle = '--')\n",
    "\n",
    "# add a legend\n",
    "plt.legend();"
   ]
  },
  {
   "cell_type": "markdown",
   "id": "3ef8220d",
   "metadata": {},
   "source": [
    "<span id='rfc'></span>\n",
    "## Random Forest Classifier\n",
    "[TOC](#toc)"
   ]
  },
  {
   "cell_type": "code",
   "execution_count": 61,
   "id": "210b6f1a",
   "metadata": {},
   "outputs": [
    {
     "name": "stdout",
     "output_type": "stream",
     "text": [
      "Training score: 1.0\n",
      "Testing score: 0.762\n"
     ]
    }
   ],
   "source": [
    "## First things first, lets see get a baseline with the defualt params, which will probably be overfit, as well cvs\n",
    "tfidf_1 = TfidfVectorizer()\n",
    "X_train_tf = tfidf_1.fit_transform(X_train)\n",
    "X_test_tf = tfidf_1.transform(X_test)\n",
    "\n",
    "\n",
    "rf = RandomForestClassifier()\n",
    "rf.fit(X_train_tf, y_train)\n",
    "\n",
    "print(f'Training score: {rf.score(X_train_tf, y_train)}')\n",
    "print(f'Testing score: {rf.score(X_test_tf, y_test)}')"
   ]
  },
  {
   "cell_type": "markdown",
   "id": "20f2fdcc",
   "metadata": {},
   "source": [
    "> this actually isnt too bad for default parameters, but now lets do a pipeline to try to optomize things here"
   ]
  },
  {
   "cell_type": "code",
   "execution_count": 62,
   "id": "97bca820",
   "metadata": {},
   "outputs": [
    {
     "name": "stdout",
     "output_type": "stream",
     "text": [
      "Fitting 5 folds for each of 144 candidates, totalling 720 fits\n"
     ]
    },
    {
     "data": {
      "text/plain": [
       "GridSearchCV(cv=5,\n",
       "             estimator=Pipeline(steps=[('tfidf', TfidfVectorizer()),\n",
       "                                       ('rf', RandomForestClassifier())]),\n",
       "             n_jobs=8,\n",
       "             param_grid={'rf__ccp_alpha': [1e-07, 1e-08],\n",
       "                         'rf__max_depth': [50, 100, 150],\n",
       "                         'rf__max_features': ['auto', 'log2'],\n",
       "                         'rf__min_samples_leaf': [1, 2],\n",
       "                         'rf__min_samples_split': [7, 8],\n",
       "                         'rf__n_estimators': [200, 250, 300],\n",
       "                         'tfidf__max_df': [0.9],\n",
       "                         'tfidf__ngram_range': [(1, 2)]},\n",
       "             verbose=1)"
      ]
     },
     "execution_count": 62,
     "metadata": {},
     "output_type": "execute_result"
    }
   ],
   "source": [
    "# Time to make a pipeline\n",
    "\n",
    "# a normal tfidf vectorizer seems to work better than countvect and tfidf transformer \n",
    "rf_pipe = Pipeline([ ('tfidf', TfidfVectorizer()),\n",
    "                     ('rf', RandomForestClassifier())])\n",
    "\n",
    "rf_params = {'tfidf__ngram_range':[(1,2)],\n",
    "             'tfidf__max_df': [0.90],\n",
    "             'rf__n_estimators': [200, 250, 300],\n",
    "             'rf__max_depth': [50, 100, 150],\n",
    "             'rf__min_samples_split' : [7, 8],\n",
    "             'rf__max_features': ['auto', 'log2'],\n",
    "             'rf__min_samples_leaf': [1, 2],\n",
    "             'rf__ccp_alpha' : [1e-07, 1e-08]}\n",
    "\n",
    "rf_gs = GridSearchCV(rf_pipe,\n",
    "                     rf_params,\n",
    "                     cv = 5,\n",
    "                     verbose = 1,\n",
    "                     n_jobs = 8)\n",
    "\n",
    "rf_gs.fit(X_train, y_train)"
   ]
  },
  {
   "cell_type": "code",
   "execution_count": 63,
   "id": "74892f4b",
   "metadata": {},
   "outputs": [
    {
     "data": {
      "text/plain": [
       "{'rf__ccp_alpha': 1e-08,\n",
       " 'rf__max_depth': 100,\n",
       " 'rf__max_features': 'log2',\n",
       " 'rf__min_samples_leaf': 1,\n",
       " 'rf__min_samples_split': 8,\n",
       " 'rf__n_estimators': 250,\n",
       " 'tfidf__max_df': 0.9,\n",
       " 'tfidf__ngram_range': (1, 2)}"
      ]
     },
     "execution_count": 63,
     "metadata": {},
     "output_type": "execute_result"
    }
   ],
   "source": [
    "rf_gs.best_params_"
   ]
  },
  {
   "cell_type": "code",
   "execution_count": 64,
   "id": "826c488c",
   "metadata": {},
   "outputs": [
    {
     "name": "stdout",
     "output_type": "stream",
     "text": [
      "0.9946595460614153\n",
      "0.82\n"
     ]
    }
   ],
   "source": [
    "print(rf_gs.score(X_train, y_train))\n",
    "print(rf_gs.score(X_test, y_test))"
   ]
  },
  {
   "cell_type": "code",
   "execution_count": 65,
   "id": "d1fa73a7",
   "metadata": {},
   "outputs": [
    {
     "data": {
      "image/png": "[encoded data removed]",
      "text/plain": [
       "<Figure size 432x288 with 2 Axes>"
      ]
     },
     "metadata": {
      "needs_background": "light"
     },
     "output_type": "display_data"
    }
   ],
   "source": [
    "plot_confusion_matrix(rf_gs, X_test, y_test, cmap ='cubehelix')\n",
    "plt.title('Random Forest')\n",
    "\n",
    "plt.show()"
   ]
  },
  {
   "cell_type": "code",
   "execution_count": 66,
   "id": "71d5f542",
   "metadata": {},
   "outputs": [
    {
     "data": {
      "image/png": "[encoded data removed]",
      "text/plain": [
       "<Figure size 432x288 with 1 Axes>"
      ]
     },
     "metadata": {
      "needs_background": "light"
     },
     "output_type": "display_data"
    }
   ],
   "source": [
    "# from Lesson 4.05\n",
    "# ROC curve\n",
    "plot_roc_curve(log_gs, X_test, y_test);\n",
    "\n",
    "# add worst case scenario line\n",
    "plt.plot([0,1], [0,1],\n",
    "        label = 'baseline',\n",
    "        linestyle = '--')\n",
    "\n",
    "# add a legend\n",
    "plt.legend();"
   ]
  },
  {
   "cell_type": "code",
   "execution_count": 67,
   "id": "953d5c65",
   "metadata": {},
   "outputs": [
    {
     "data": {
      "text/html": [
       "<div>\n",
       "<style scoped>\n",
       "    .dataframe tbody tr th:only-of-type {\n",
       "        vertical-align: middle;\n",
       "    }\n",
       "\n",
       "    .dataframe tbody tr th {\n",
       "        vertical-align: top;\n",
       "    }\n",
       "\n",
       "    .dataframe thead th {\n",
       "        text-align: right;\n",
       "    }\n",
       "</style>\n",
       "<table border=\"1\" class=\"dataframe\">\n",
       "  <thead>\n",
       "    <tr style=\"text-align: right;\">\n",
       "      <th></th>\n",
       "      <th>best_params</th>\n",
       "      <th>training score</th>\n",
       "      <th>testing score</th>\n",
       "      <th>AUC</th>\n",
       "      <th>Misclassification Rate</th>\n",
       "      <th>Sensitivity</th>\n",
       "      <th>Specifcity</th>\n",
       "      <th>percision</th>\n",
       "    </tr>\n",
       "  </thead>\n",
       "  <tbody>\n",
       "    <tr>\n",
       "      <th>0</th>\n",
       "      <td>{'cvec__max_df': 0.9, 'cvec__max_features': No...</td>\n",
       "      <td>0.977303</td>\n",
       "      <td>0.854</td>\n",
       "      <td>0.922112</td>\n",
       "      <td>0.146</td>\n",
       "      <td>0.908</td>\n",
       "      <td>0.800</td>\n",
       "      <td>0.819495</td>\n",
       "    </tr>\n",
       "    <tr>\n",
       "      <th>1</th>\n",
       "      <td>{'mnb__alpha': 3, 'tfidf__max_df': 0.9, 'tfidf...</td>\n",
       "      <td>0.934579</td>\n",
       "      <td>0.822</td>\n",
       "      <td>0.905728</td>\n",
       "      <td>0.178</td>\n",
       "      <td>0.852</td>\n",
       "      <td>0.792</td>\n",
       "      <td>0.803774</td>\n",
       "    </tr>\n",
       "    <tr>\n",
       "      <th>2</th>\n",
       "      <td>{'svc__C': 1, 'svc__degree': 2, 'svc__kernel':...</td>\n",
       "      <td>0.999332</td>\n",
       "      <td>0.846</td>\n",
       "      <td>0.921848</td>\n",
       "      <td>0.154</td>\n",
       "      <td>0.848</td>\n",
       "      <td>0.844</td>\n",
       "      <td>0.844622</td>\n",
       "    </tr>\n",
       "    <tr>\n",
       "      <th>3</th>\n",
       "      <td>{'lr__C': 2, 'lr__penalty': 'l2', 'lr__solver'...</td>\n",
       "      <td>0.998665</td>\n",
       "      <td>0.832</td>\n",
       "      <td>0.906544</td>\n",
       "      <td>0.168</td>\n",
       "      <td>0.840</td>\n",
       "      <td>0.824</td>\n",
       "      <td>0.826772</td>\n",
       "    </tr>\n",
       "    <tr>\n",
       "      <th>4</th>\n",
       "      <td>{'rf__ccp_alpha': 1e-08, 'rf__max_depth': 100,...</td>\n",
       "      <td>0.994660</td>\n",
       "      <td>0.820</td>\n",
       "      <td>0.895728</td>\n",
       "      <td>0.180</td>\n",
       "      <td>0.824</td>\n",
       "      <td>0.816</td>\n",
       "      <td>0.817460</td>\n",
       "    </tr>\n",
       "  </tbody>\n",
       "</table>\n",
       "</div>"
      ],
      "text/plain": [
       "                                         best_params  training score  \\\n",
       "0  {'cvec__max_df': 0.9, 'cvec__max_features': No...        0.977303   \n",
       "1  {'mnb__alpha': 3, 'tfidf__max_df': 0.9, 'tfidf...        0.934579   \n",
       "2  {'svc__C': 1, 'svc__degree': 2, 'svc__kernel':...        0.999332   \n",
       "3  {'lr__C': 2, 'lr__penalty': 'l2', 'lr__solver'...        0.998665   \n",
       "4  {'rf__ccp_alpha': 1e-08, 'rf__max_depth': 100,...        0.994660   \n",
       "\n",
       "   testing score       AUC  Misclassification Rate  Sensitivity  Specifcity  \\\n",
       "0          0.854  0.922112                   0.146        0.908       0.800   \n",
       "1          0.822  0.905728                   0.178        0.852       0.792   \n",
       "2          0.846  0.921848                   0.154        0.848       0.844   \n",
       "3          0.832  0.906544                   0.168        0.840       0.824   \n",
       "4          0.820  0.895728                   0.180        0.824       0.816   \n",
       "\n",
       "   percision  \n",
       "0   0.819495  \n",
       "1   0.803774  \n",
       "2   0.844622  \n",
       "3   0.826772  \n",
       "4   0.817460  "
      ]
     },
     "execution_count": 67,
     "metadata": {},
     "output_type": "execute_result"
    }
   ],
   "source": [
    "result_df = add_info(rf_gs)\n",
    "result_df"
   ]
  },
  {
   "cell_type": "markdown",
   "id": "6776ea80",
   "metadata": {},
   "source": [
    "<span id ='mix1'></span>\n",
    "## Let's try something we haven't learned if we can do or not, but with logistic regression or svm, it might be possible to combine the basically dummified version of the title along with number of comments and number of upvotes. <span id ='mix1'></span>\n",
    "[TOC](#toc)"
   ]
  },
  {
   "cell_type": "code",
   "execution_count": 68,
   "id": "4cc01ab8",
   "metadata": {},
   "outputs": [
    {
     "name": "stdout",
     "output_type": "stream",
     "text": [
      "(1498, 20713)\n",
      "(500, 20713)\n"
     ]
    }
   ],
   "source": [
    "## Our X_train and X_test are still okay to be transformed right now, lets make a df out of it\n",
    "# lets go basic with countvect first to see what we get before making a whole pipeline for it\n",
    "cvec_2 = CountVectorizer(max_df=0.9, ngram_range=(1,2))  \n",
    "X_train_cvec = cvec_2.fit_transform(X_train, y_train)\n",
    "X_test_cvec = cvec_2.transform(X_test)\n",
    "\n",
    "\n",
    "# Turn our transformed X_train and X_test into dataframes as thats what will be needed\n",
    "X_train_df = pd.DataFrame(X_train_cvec.todense(),\n",
    "                         columns = cvec_2.get_feature_names(),\n",
    "                         index = X_train.index)\n",
    "X_test_df = pd.DataFrame(X_test_cvec.todense(),\n",
    "                         columns = cvec_2.get_feature_names(),\n",
    "                        index = X_test.index)\n",
    "\n",
    "# Make sure they have the same number of columns\n",
    "print(X_train_df.shape)\n",
    "print(X_test_df.shape)"
   ]
  },
  {
   "cell_type": "code",
   "execution_count": 69,
   "id": "45b23047",
   "metadata": {},
   "outputs": [
    {
     "data": {
      "text/html": [
       "<div>\n",
       "<style scoped>\n",
       "    .dataframe tbody tr th:only-of-type {\n",
       "        vertical-align: middle;\n",
       "    }\n",
       "\n",
       "    .dataframe tbody tr th {\n",
       "        vertical-align: top;\n",
       "    }\n",
       "\n",
       "    .dataframe thead th {\n",
       "        text-align: right;\n",
       "    }\n",
       "</style>\n",
       "<table border=\"1\" class=\"dataframe\">\n",
       "  <thead>\n",
       "    <tr style=\"text-align: right;\">\n",
       "      <th></th>\n",
       "      <th>000</th>\n",
       "      <th>000 acres</th>\n",
       "      <th>000 beds</th>\n",
       "      <th>000 covid</th>\n",
       "      <th>000 deaths</th>\n",
       "      <th>000 each</th>\n",
       "      <th>000 earned</th>\n",
       "      <th>000 electric</th>\n",
       "      <th>000 employees</th>\n",
       "      <th>000 friends</th>\n",
       "      <th>...</th>\n",
       "      <th>zones</th>\n",
       "      <th>zones out</th>\n",
       "      <th>zookeepers</th>\n",
       "      <th>zookeepers confirm</th>\n",
       "      <th>zoom</th>\n",
       "      <th>zoom shared</th>\n",
       "      <th>zoom will</th>\n",
       "      <th>zorb</th>\n",
       "      <th>zz</th>\n",
       "      <th>zz top</th>\n",
       "    </tr>\n",
       "    <tr>\n",
       "      <th>title_id</th>\n",
       "      <th></th>\n",
       "      <th></th>\n",
       "      <th></th>\n",
       "      <th></th>\n",
       "      <th></th>\n",
       "      <th></th>\n",
       "      <th></th>\n",
       "      <th></th>\n",
       "      <th></th>\n",
       "      <th></th>\n",
       "      <th></th>\n",
       "      <th></th>\n",
       "      <th></th>\n",
       "      <th></th>\n",
       "      <th></th>\n",
       "      <th></th>\n",
       "      <th></th>\n",
       "      <th></th>\n",
       "      <th></th>\n",
       "      <th></th>\n",
       "      <th></th>\n",
       "    </tr>\n",
       "  </thead>\n",
       "  <tbody>\n",
       "    <tr>\n",
       "      <th>m7zo4g</th>\n",
       "      <td>0</td>\n",
       "      <td>0</td>\n",
       "      <td>0</td>\n",
       "      <td>0</td>\n",
       "      <td>0</td>\n",
       "      <td>0</td>\n",
       "      <td>0</td>\n",
       "      <td>0</td>\n",
       "      <td>0</td>\n",
       "      <td>0</td>\n",
       "      <td>...</td>\n",
       "      <td>0</td>\n",
       "      <td>0</td>\n",
       "      <td>0</td>\n",
       "      <td>0</td>\n",
       "      <td>0</td>\n",
       "      <td>0</td>\n",
       "      <td>0</td>\n",
       "      <td>0</td>\n",
       "      <td>0</td>\n",
       "      <td>0</td>\n",
       "    </tr>\n",
       "    <tr>\n",
       "      <th>or7x1k</th>\n",
       "      <td>0</td>\n",
       "      <td>0</td>\n",
       "      <td>0</td>\n",
       "      <td>0</td>\n",
       "      <td>0</td>\n",
       "      <td>0</td>\n",
       "      <td>0</td>\n",
       "      <td>0</td>\n",
       "      <td>0</td>\n",
       "      <td>0</td>\n",
       "      <td>...</td>\n",
       "      <td>0</td>\n",
       "      <td>0</td>\n",
       "      <td>0</td>\n",
       "      <td>0</td>\n",
       "      <td>0</td>\n",
       "      <td>0</td>\n",
       "      <td>0</td>\n",
       "      <td>0</td>\n",
       "      <td>0</td>\n",
       "      <td>0</td>\n",
       "    </tr>\n",
       "    <tr>\n",
       "      <th>oou7kh</th>\n",
       "      <td>0</td>\n",
       "      <td>0</td>\n",
       "      <td>0</td>\n",
       "      <td>0</td>\n",
       "      <td>0</td>\n",
       "      <td>0</td>\n",
       "      <td>0</td>\n",
       "      <td>0</td>\n",
       "      <td>0</td>\n",
       "      <td>0</td>\n",
       "      <td>...</td>\n",
       "      <td>0</td>\n",
       "      <td>0</td>\n",
       "      <td>0</td>\n",
       "      <td>0</td>\n",
       "      <td>0</td>\n",
       "      <td>0</td>\n",
       "      <td>0</td>\n",
       "      <td>0</td>\n",
       "      <td>0</td>\n",
       "      <td>0</td>\n",
       "    </tr>\n",
       "  </tbody>\n",
       "</table>\n",
       "<p>3 rows × 20713 columns</p>\n",
       "</div>"
      ],
      "text/plain": [
       "          000  000 acres  000 beds  000 covid  000 deaths  000 each  \\\n",
       "title_id                                                              \n",
       "m7zo4g      0          0         0          0           0         0   \n",
       "or7x1k      0          0         0          0           0         0   \n",
       "oou7kh      0          0         0          0           0         0   \n",
       "\n",
       "          000 earned  000 electric  000 employees  000 friends  ...  zones  \\\n",
       "title_id                                                        ...          \n",
       "m7zo4g             0             0              0            0  ...      0   \n",
       "or7x1k             0             0              0            0  ...      0   \n",
       "oou7kh             0             0              0            0  ...      0   \n",
       "\n",
       "          zones out  zookeepers  zookeepers confirm  zoom  zoom shared  \\\n",
       "title_id                                                                 \n",
       "m7zo4g            0           0                   0     0            0   \n",
       "or7x1k            0           0                   0     0            0   \n",
       "oou7kh            0           0                   0     0            0   \n",
       "\n",
       "          zoom will  zorb  zz  zz top  \n",
       "title_id                               \n",
       "m7zo4g            0     0   0       0  \n",
       "or7x1k            0     0   0       0  \n",
       "oou7kh            0     0   0       0  \n",
       "\n",
       "[3 rows x 20713 columns]"
      ]
     },
     "execution_count": 69,
     "metadata": {},
     "output_type": "execute_result"
    }
   ],
   "source": [
    "# Lets just check the train_df to make sure the index is there as we will combine using indicies\n",
    "X_train_df.head(3)"
   ]
  },
  {
   "cell_type": "code",
   "execution_count": 70,
   "id": "2ce24bf3",
   "metadata": {},
   "outputs": [
    {
     "data": {
      "text/html": [
       "<div>\n",
       "<style scoped>\n",
       "    .dataframe tbody tr th:only-of-type {\n",
       "        vertical-align: middle;\n",
       "    }\n",
       "\n",
       "    .dataframe tbody tr th {\n",
       "        vertical-align: top;\n",
       "    }\n",
       "\n",
       "    .dataframe thead th {\n",
       "        text-align: right;\n",
       "    }\n",
       "</style>\n",
       "<table border=\"1\" class=\"dataframe\">\n",
       "  <thead>\n",
       "    <tr style=\"text-align: right;\">\n",
       "      <th></th>\n",
       "      <th>num_comments</th>\n",
       "      <th>upvotes</th>\n",
       "      <th>000</th>\n",
       "      <th>000 acres</th>\n",
       "      <th>000 beds</th>\n",
       "      <th>000 covid</th>\n",
       "      <th>000 deaths</th>\n",
       "      <th>000 each</th>\n",
       "      <th>000 earned</th>\n",
       "      <th>000 electric</th>\n",
       "      <th>...</th>\n",
       "      <th>zones</th>\n",
       "      <th>zones out</th>\n",
       "      <th>zookeepers</th>\n",
       "      <th>zookeepers confirm</th>\n",
       "      <th>zoom</th>\n",
       "      <th>zoom shared</th>\n",
       "      <th>zoom will</th>\n",
       "      <th>zorb</th>\n",
       "      <th>zz</th>\n",
       "      <th>zz top</th>\n",
       "    </tr>\n",
       "    <tr>\n",
       "      <th>title_id</th>\n",
       "      <th></th>\n",
       "      <th></th>\n",
       "      <th></th>\n",
       "      <th></th>\n",
       "      <th></th>\n",
       "      <th></th>\n",
       "      <th></th>\n",
       "      <th></th>\n",
       "      <th></th>\n",
       "      <th></th>\n",
       "      <th></th>\n",
       "      <th></th>\n",
       "      <th></th>\n",
       "      <th></th>\n",
       "      <th></th>\n",
       "      <th></th>\n",
       "      <th></th>\n",
       "      <th></th>\n",
       "      <th></th>\n",
       "      <th></th>\n",
       "      <th></th>\n",
       "    </tr>\n",
       "  </thead>\n",
       "  <tbody>\n",
       "    <tr>\n",
       "      <th>kjgmwj</th>\n",
       "      <td>14</td>\n",
       "      <td>2526</td>\n",
       "      <td>0</td>\n",
       "      <td>0</td>\n",
       "      <td>0</td>\n",
       "      <td>0</td>\n",
       "      <td>0</td>\n",
       "      <td>0</td>\n",
       "      <td>0</td>\n",
       "      <td>0</td>\n",
       "      <td>...</td>\n",
       "      <td>0</td>\n",
       "      <td>0</td>\n",
       "      <td>0</td>\n",
       "      <td>0</td>\n",
       "      <td>0</td>\n",
       "      <td>0</td>\n",
       "      <td>0</td>\n",
       "      <td>0</td>\n",
       "      <td>0</td>\n",
       "      <td>0</td>\n",
       "    </tr>\n",
       "    <tr>\n",
       "      <th>p0zhkl</th>\n",
       "      <td>25</td>\n",
       "      <td>2398</td>\n",
       "      <td>0</td>\n",
       "      <td>0</td>\n",
       "      <td>0</td>\n",
       "      <td>0</td>\n",
       "      <td>0</td>\n",
       "      <td>0</td>\n",
       "      <td>0</td>\n",
       "      <td>0</td>\n",
       "      <td>...</td>\n",
       "      <td>0</td>\n",
       "      <td>0</td>\n",
       "      <td>0</td>\n",
       "      <td>0</td>\n",
       "      <td>0</td>\n",
       "      <td>0</td>\n",
       "      <td>0</td>\n",
       "      <td>0</td>\n",
       "      <td>0</td>\n",
       "      <td>0</td>\n",
       "    </tr>\n",
       "    <tr>\n",
       "      <th>ks1tm5</th>\n",
       "      <td>23</td>\n",
       "      <td>2383</td>\n",
       "      <td>0</td>\n",
       "      <td>0</td>\n",
       "      <td>0</td>\n",
       "      <td>0</td>\n",
       "      <td>0</td>\n",
       "      <td>0</td>\n",
       "      <td>0</td>\n",
       "      <td>0</td>\n",
       "      <td>...</td>\n",
       "      <td>0</td>\n",
       "      <td>0</td>\n",
       "      <td>0</td>\n",
       "      <td>0</td>\n",
       "      <td>0</td>\n",
       "      <td>0</td>\n",
       "      <td>0</td>\n",
       "      <td>0</td>\n",
       "      <td>0</td>\n",
       "      <td>0</td>\n",
       "    </tr>\n",
       "    <tr>\n",
       "      <th>kl9gh4</th>\n",
       "      <td>77</td>\n",
       "      <td>2264</td>\n",
       "      <td>0</td>\n",
       "      <td>0</td>\n",
       "      <td>0</td>\n",
       "      <td>0</td>\n",
       "      <td>0</td>\n",
       "      <td>0</td>\n",
       "      <td>0</td>\n",
       "      <td>0</td>\n",
       "      <td>...</td>\n",
       "      <td>0</td>\n",
       "      <td>0</td>\n",
       "      <td>0</td>\n",
       "      <td>0</td>\n",
       "      <td>0</td>\n",
       "      <td>0</td>\n",
       "      <td>0</td>\n",
       "      <td>0</td>\n",
       "      <td>0</td>\n",
       "      <td>0</td>\n",
       "    </tr>\n",
       "    <tr>\n",
       "      <th>k1kuff</th>\n",
       "      <td>23</td>\n",
       "      <td>2066</td>\n",
       "      <td>0</td>\n",
       "      <td>0</td>\n",
       "      <td>0</td>\n",
       "      <td>0</td>\n",
       "      <td>0</td>\n",
       "      <td>0</td>\n",
       "      <td>0</td>\n",
       "      <td>0</td>\n",
       "      <td>...</td>\n",
       "      <td>0</td>\n",
       "      <td>0</td>\n",
       "      <td>0</td>\n",
       "      <td>0</td>\n",
       "      <td>0</td>\n",
       "      <td>0</td>\n",
       "      <td>0</td>\n",
       "      <td>0</td>\n",
       "      <td>0</td>\n",
       "      <td>0</td>\n",
       "    </tr>\n",
       "  </tbody>\n",
       "</table>\n",
       "<p>5 rows × 20715 columns</p>\n",
       "</div>"
      ],
      "text/plain": [
       "          num_comments  upvotes  000  000 acres  000 beds  000 covid  \\\n",
       "title_id                                                               \n",
       "kjgmwj              14     2526    0          0         0          0   \n",
       "p0zhkl              25     2398    0          0         0          0   \n",
       "ks1tm5              23     2383    0          0         0          0   \n",
       "kl9gh4              77     2264    0          0         0          0   \n",
       "k1kuff              23     2066    0          0         0          0   \n",
       "\n",
       "          000 deaths  000 each  000 earned  000 electric  ...  zones  \\\n",
       "title_id                                                  ...          \n",
       "kjgmwj             0         0           0             0  ...      0   \n",
       "p0zhkl             0         0           0             0  ...      0   \n",
       "ks1tm5             0         0           0             0  ...      0   \n",
       "kl9gh4             0         0           0             0  ...      0   \n",
       "k1kuff             0         0           0             0  ...      0   \n",
       "\n",
       "          zones out  zookeepers  zookeepers confirm  zoom  zoom shared  \\\n",
       "title_id                                                                 \n",
       "kjgmwj            0           0                   0     0            0   \n",
       "p0zhkl            0           0                   0     0            0   \n",
       "ks1tm5            0           0                   0     0            0   \n",
       "kl9gh4            0           0                   0     0            0   \n",
       "k1kuff            0           0                   0     0            0   \n",
       "\n",
       "          zoom will  zorb  zz  zz top  \n",
       "title_id                               \n",
       "kjgmwj            0     0   0       0  \n",
       "p0zhkl            0     0   0       0  \n",
       "ks1tm5            0     0   0       0  \n",
       "kl9gh4            0     0   0       0  \n",
       "k1kuff            0     0   0       0  \n",
       "\n",
       "[5 rows x 20715 columns]"
      ]
     },
     "execution_count": 70,
     "metadata": {},
     "output_type": "execute_result"
    }
   ],
   "source": [
    "X_train_mix = pd.merge(big_df[['num_comments', 'upvotes']], X_train_df, left_index = True, right_index=True)\n",
    "X_test_mix = pd.merge(big_df[['num_comments', 'upvotes']], X_test_df, left_index = True, right_index=True)\n",
    "X_test_mix.head()"
   ]
  },
  {
   "cell_type": "code",
   "execution_count": 71,
   "id": "3f24825f",
   "metadata": {},
   "outputs": [
    {
     "name": "stdout",
     "output_type": "stream",
     "text": [
      "0.9899866488651535\n",
      "0.494\n"
     ]
    }
   ],
   "source": [
    "## Time to scale it as we have multiple scales now and use logistic Regression\n",
    "sc = StandardScaler()\n",
    "X_train_sc = sc.fit_transform(X_train_mix)\n",
    "X_test_sc = sc.transform(X_test_mix)\n",
    "\n",
    "## Lets now lets try a logistic_reg\n",
    "lr = LogisticRegression(max_iter = 1000)\n",
    "lr.fit(X_train_sc, y_train)\n",
    "print(lr.score(X_train_sc, y_train))\n",
    "print(lr.score(X_test_sc, y_test))"
   ]
  },
  {
   "cell_type": "markdown",
   "id": "97d255e5",
   "metadata": {},
   "source": [
    "> okay, what happened here. Why is the testing score so low. This is 100% a very overfit model. I guess thats why the naive bayes is of importance when dealing with these as they will \"assume\" indepence of words when there actually isn't. Lets scrap the idea of using it all at once, maybe we can do seperate model and then incorporate their probability to help one another."
   ]
  },
  {
   "cell_type": "markdown",
   "id": "e8b33d65",
   "metadata": {},
   "source": [
    "<span id='cvec+tfidf'></span>\n",
    "## Imma try something weird here, what if I try running countvect first then TF-IDF in a pipeline?\n",
    "**I know they're similar, tf-idf is like an upgraded version of it, but what if the double check can help my accuracy?**  \n",
    "[TOC](#toc)"
   ]
  },
  {
   "cell_type": "code",
   "execution_count": 72,
   "id": "32459721",
   "metadata": {},
   "outputs": [
    {
     "data": {
      "text/plain": [
       "title_id\n",
       "m7zo4g    Biden orders US flags flown at half-staff afte...\n",
       "or7x1k    German TV reporter fired after caught smearing...\n",
       "oou7kh    Man found dead with ‘I touch little girls’ wri...\n",
       "Name: title, dtype: object"
      ]
     },
     "execution_count": 72,
     "metadata": {},
     "output_type": "execute_result"
    }
   ],
   "source": [
    "# Lets just make sure our X_train hasen't been transformed accidentally or had something happen to it\n",
    "X_train[:3]"
   ]
  },
  {
   "cell_type": "code",
   "execution_count": 73,
   "id": "fdb01177",
   "metadata": {},
   "outputs": [],
   "source": [
    "# lets start by making a new pipeline with similar params as before \n",
    "combo_pipe = Pipeline([('cvec', CountVectorizer()),\n",
    "                       ('tfidf', TfidfTransformer()),\n",
    "                       ('mnb', MultinomialNB())])\n",
    "\n",
    "combo_params = {'cvec__ngram_range':[(1,1), (1,2), (2,2)],\n",
    "                'cvec__max_df': [0.90, 0.95, 1.0],\n",
    "                'cvec__max_features': [2000, 3000, 4000, None],\n",
    "                'cvec__min_df': [1, 2, 3, 4, 5],\n",
    "                'tfidf__use_idf': [True, False],\n",
    "                'tfidf__norm': ['l1', 'l2'],\n",
    "                'tfidf__smooth_idf': [True, False]}"
   ]
  },
  {
   "cell_type": "markdown",
   "id": "4c143f49",
   "metadata": {},
   "source": [
    "> Had to use a transformer instead of vectorizer for TF-IDF because I kept getting an error till I checked [this website](https://www.titanwolf.org/Network/q/f9fc5f00-9aef-4178-8c1b-653d26ad9832/y) that said to use the transformer instead of vec when having a double transformation"
   ]
  },
  {
   "cell_type": "code",
   "execution_count": 74,
   "id": "2e508fc6",
   "metadata": {},
   "outputs": [
    {
     "name": "stdout",
     "output_type": "stream",
     "text": [
      "Fitting 5 folds for each of 1440 candidates, totalling 7200 fits\n"
     ]
    },
    {
     "data": {
      "text/plain": [
       "GridSearchCV(cv=5,\n",
       "             estimator=Pipeline(steps=[('cvec', CountVectorizer()),\n",
       "                                       ('tfidf', TfidfTransformer()),\n",
       "                                       ('mnb', MultinomialNB())]),\n",
       "             param_grid={'cvec__max_df': [0.9, 0.95, 1.0],\n",
       "                         'cvec__max_features': [2000, 3000, 4000, None],\n",
       "                         'cvec__min_df': [1, 2, 3, 4, 5],\n",
       "                         'cvec__ngram_range': [(1, 1), (1, 2), (2, 2)],\n",
       "                         'tfidf__norm': ['l1', 'l2'],\n",
       "                         'tfidf__smooth_idf': [True, False],\n",
       "                         'tfidf__use_idf': [True, False]},\n",
       "             verbose=1)"
      ]
     },
     "execution_count": 74,
     "metadata": {},
     "output_type": "execute_result"
    }
   ],
   "source": [
    "# Now lets make a grid for this pipeline \n",
    "combo_gs = GridSearchCV(combo_pipe,\n",
    "                        combo_params,\n",
    "                        cv = 5,\n",
    "                        verbose = 1)\n",
    "\n",
    "combo_gs.fit(list(X_train), y_train) \n",
    "# using a list because without it said it needed a list passed instead of what I had"
   ]
  },
  {
   "cell_type": "code",
   "execution_count": 75,
   "id": "d1ea5b4b",
   "metadata": {},
   "outputs": [
    {
     "name": "stdout",
     "output_type": "stream",
     "text": [
      "0.8417904124860647\n"
     ]
    },
    {
     "data": {
      "text/plain": [
       "{'cvec__max_df': 0.9,\n",
       " 'cvec__max_features': 2000,\n",
       " 'cvec__min_df': 1,\n",
       " 'cvec__ngram_range': (1, 1),\n",
       " 'tfidf__norm': 'l1',\n",
       " 'tfidf__smooth_idf': False,\n",
       " 'tfidf__use_idf': True}"
      ]
     },
     "execution_count": 75,
     "metadata": {},
     "output_type": "execute_result"
    }
   ],
   "source": [
    "print(combo_gs.best_score_)\n",
    "combo_gs.best_params_"
   ]
  },
  {
   "cell_type": "code",
   "execution_count": 76,
   "id": "8027da6e",
   "metadata": {},
   "outputs": [
    {
     "name": "stdout",
     "output_type": "stream",
     "text": [
      "0.9385847797062751\n",
      "0.82\n"
     ]
    }
   ],
   "source": [
    "print(combo_gs.score(X_train, y_train))\n",
    "print(combo_gs.score(X_test, y_test))"
   ]
  },
  {
   "cell_type": "code",
   "execution_count": 77,
   "id": "67c17704",
   "metadata": {},
   "outputs": [
    {
     "data": {
      "text/html": [
       "<div>\n",
       "<style scoped>\n",
       "    .dataframe tbody tr th:only-of-type {\n",
       "        vertical-align: middle;\n",
       "    }\n",
       "\n",
       "    .dataframe tbody tr th {\n",
       "        vertical-align: top;\n",
       "    }\n",
       "\n",
       "    .dataframe thead th {\n",
       "        text-align: right;\n",
       "    }\n",
       "</style>\n",
       "<table border=\"1\" class=\"dataframe\">\n",
       "  <thead>\n",
       "    <tr style=\"text-align: right;\">\n",
       "      <th></th>\n",
       "      <th>best_params</th>\n",
       "      <th>training score</th>\n",
       "      <th>testing score</th>\n",
       "      <th>AUC</th>\n",
       "      <th>Misclassification Rate</th>\n",
       "      <th>Sensitivity</th>\n",
       "      <th>Specifcity</th>\n",
       "      <th>percision</th>\n",
       "    </tr>\n",
       "  </thead>\n",
       "  <tbody>\n",
       "    <tr>\n",
       "      <th>0</th>\n",
       "      <td>{'cvec__max_df': 0.9, 'cvec__max_features': No...</td>\n",
       "      <td>0.977303</td>\n",
       "      <td>0.854</td>\n",
       "      <td>0.922112</td>\n",
       "      <td>0.146</td>\n",
       "      <td>0.908</td>\n",
       "      <td>0.800</td>\n",
       "      <td>0.819495</td>\n",
       "    </tr>\n",
       "    <tr>\n",
       "      <th>1</th>\n",
       "      <td>{'mnb__alpha': 3, 'tfidf__max_df': 0.9, 'tfidf...</td>\n",
       "      <td>0.934579</td>\n",
       "      <td>0.822</td>\n",
       "      <td>0.905728</td>\n",
       "      <td>0.178</td>\n",
       "      <td>0.852</td>\n",
       "      <td>0.792</td>\n",
       "      <td>0.803774</td>\n",
       "    </tr>\n",
       "    <tr>\n",
       "      <th>2</th>\n",
       "      <td>{'svc__C': 1, 'svc__degree': 2, 'svc__kernel':...</td>\n",
       "      <td>0.999332</td>\n",
       "      <td>0.846</td>\n",
       "      <td>0.921848</td>\n",
       "      <td>0.154</td>\n",
       "      <td>0.848</td>\n",
       "      <td>0.844</td>\n",
       "      <td>0.844622</td>\n",
       "    </tr>\n",
       "    <tr>\n",
       "      <th>3</th>\n",
       "      <td>{'lr__C': 2, 'lr__penalty': 'l2', 'lr__solver'...</td>\n",
       "      <td>0.998665</td>\n",
       "      <td>0.832</td>\n",
       "      <td>0.906544</td>\n",
       "      <td>0.168</td>\n",
       "      <td>0.840</td>\n",
       "      <td>0.824</td>\n",
       "      <td>0.826772</td>\n",
       "    </tr>\n",
       "    <tr>\n",
       "      <th>4</th>\n",
       "      <td>{'rf__ccp_alpha': 1e-08, 'rf__max_depth': 100,...</td>\n",
       "      <td>0.994660</td>\n",
       "      <td>0.820</td>\n",
       "      <td>0.895728</td>\n",
       "      <td>0.180</td>\n",
       "      <td>0.824</td>\n",
       "      <td>0.816</td>\n",
       "      <td>0.817460</td>\n",
       "    </tr>\n",
       "    <tr>\n",
       "      <th>5</th>\n",
       "      <td>{'cvec__max_df': 0.9, 'cvec__max_features': 20...</td>\n",
       "      <td>0.938585</td>\n",
       "      <td>0.820</td>\n",
       "      <td>0.903232</td>\n",
       "      <td>0.180</td>\n",
       "      <td>0.828</td>\n",
       "      <td>0.812</td>\n",
       "      <td>0.814961</td>\n",
       "    </tr>\n",
       "  </tbody>\n",
       "</table>\n",
       "</div>"
      ],
      "text/plain": [
       "                                         best_params  training score  \\\n",
       "0  {'cvec__max_df': 0.9, 'cvec__max_features': No...        0.977303   \n",
       "1  {'mnb__alpha': 3, 'tfidf__max_df': 0.9, 'tfidf...        0.934579   \n",
       "2  {'svc__C': 1, 'svc__degree': 2, 'svc__kernel':...        0.999332   \n",
       "3  {'lr__C': 2, 'lr__penalty': 'l2', 'lr__solver'...        0.998665   \n",
       "4  {'rf__ccp_alpha': 1e-08, 'rf__max_depth': 100,...        0.994660   \n",
       "5  {'cvec__max_df': 0.9, 'cvec__max_features': 20...        0.938585   \n",
       "\n",
       "   testing score       AUC  Misclassification Rate  Sensitivity  Specifcity  \\\n",
       "0          0.854  0.922112                   0.146        0.908       0.800   \n",
       "1          0.822  0.905728                   0.178        0.852       0.792   \n",
       "2          0.846  0.921848                   0.154        0.848       0.844   \n",
       "3          0.832  0.906544                   0.168        0.840       0.824   \n",
       "4          0.820  0.895728                   0.180        0.824       0.816   \n",
       "5          0.820  0.903232                   0.180        0.828       0.812   \n",
       "\n",
       "   percision  \n",
       "0   0.819495  \n",
       "1   0.803774  \n",
       "2   0.844622  \n",
       "3   0.826772  \n",
       "4   0.817460  \n",
       "5   0.814961  "
      ]
     },
     "execution_count": 77,
     "metadata": {},
     "output_type": "execute_result"
    }
   ],
   "source": [
    "# Lets add this into our df I guess, but not too happy with the scores, but at least they went up\n",
    "result_df = add_info(combo_gs)\n",
    "result_df"
   ]
  },
  {
   "cell_type": "code",
   "execution_count": 78,
   "id": "47d07ea5",
   "metadata": {},
   "outputs": [
    {
     "data": {
      "text/plain": [
       "Text(0.5, 1.0, 'CountVect & TF-IDF')"
      ]
     },
     "execution_count": 78,
     "metadata": {},
     "output_type": "execute_result"
    },
    {
     "data": {
      "image/png": "[encoded data removed]",
      "text/plain": [
       "<Figure size 432x288 with 2 Axes>"
      ]
     },
     "metadata": {
      "needs_background": "light"
     },
     "output_type": "display_data"
    }
   ],
   "source": [
    "plot_confusion_matrix(combo_gs, X_test, y_test, cmap ='flare')\n",
    "plt.title('CountVect & TF-IDF')"
   ]
  },
  {
   "cell_type": "code",
   "execution_count": 79,
   "id": "d84a924c",
   "metadata": {},
   "outputs": [
    {
     "data": {
      "image/png": "[encoded data removed]",
      "text/plain": [
       "<Figure size 432x288 with 1 Axes>"
      ]
     },
     "metadata": {
      "needs_background": "light"
     },
     "output_type": "display_data"
    }
   ],
   "source": [
    "# ROC curve\n",
    "plot_roc_curve(combo_gs, X_test, y_test);\n",
    "\n",
    "# add worst case scenario line\n",
    "plt.plot([0,1], [0,1],\n",
    "        label = 'baseline',\n",
    "        linestyle = '--')\n",
    "\n",
    "# add a legend\n",
    "plt.legend();"
   ]
  },
  {
   "cell_type": "markdown",
   "id": "ceeaa757",
   "metadata": {},
   "source": [
    "<span id ='a_mistake'></span>\n",
    "## This took over 20 minutes to run so i will be commenting it out and not running it agian.\n",
    "[TOC](#toc)"
   ]
  },
  {
   "cell_type": "markdown",
   "id": "ec8d3ef1",
   "metadata": {},
   "source": [
    "``` python\n",
    "# lets start by making a new pipeline with similar params as before \n",
    "combo_pipe_2 = Pipeline([('cvec', CountVectorizer()),\n",
    "                       ('tfidf', TfidfTransformer()),\n",
    "                       ('svm', SVC())])\n",
    "\n",
    "combo_params_2 = {'cvec__ngram_range':[(1,1), (1,2), (2,2)],\n",
    "                'cvec__max_df': [0.90, 0.95, 1.0],\n",
    "                'cvec__max_features': [2000, 3000, 4000, None],\n",
    "                'cvec__min_df': [1, 2, 3, 4, 5],\n",
    "                'tfidf__use_idf': [True, False],\n",
    "                'tfidf__norm': ['l1', 'l2'],\n",
    "                'tfidf__smooth_idf': [True, False]}\n",
    "```\n",
    "---"
   ]
  },
  {
   "cell_type": "markdown",
   "id": "a88411f3",
   "metadata": {},
   "source": [
    "---\n",
    "``` python\n",
    "# Now lets make a grid for this pipeline \n",
    "combo_gs = GridSearchCV(combo_pipe_2,\n",
    "                        combo_params_2,\n",
    "                        cv = 5,\n",
    "                        verbose = 1)\n",
    "\n",
    "combo_gs.fit(list(X_train), y_train)\n",
    "```\n",
    "**OUTPUT**\n",
    "```\n",
    "GridSearchCV(cv=5,  \n",
    "             estimator=Pipeline(steps=[('cvec', CountVectorizer()),  \n",
    "                                       ('tfidf', TfidfTransformer()),  \n",
    "                                       ('svm', SVC())]),  \n",
    "             param_grid={'cvec__max_df': [0.9, 0.95, 1.0],  \n",
    "                         'cvec__max_features': [2000, 3000, 4000, None],  \n",
    "                         'cvec__min_df': [1, 2, 3, 4, 5],  \n",
    "                         'cvec__ngram_range': [(1, 1), (1, 2), (2, 2)],  \n",
    "                         'tfidf__norm': ['l1', 'l2'],  \n",
    "                         'tfidf__smooth_idf': [True, False],  \n",
    "                         'tfidf__use_idf': [True, False]},  \n",
    "             verbose=1)\n",
    "```\n",
    "---"
   ]
  },
  {
   "cell_type": "markdown",
   "id": "d6a9ba83",
   "metadata": {},
   "source": [
    "``` python\n",
    "print(combo_gs.score(X_train, y_train))\n",
    "print(combo_gs.score(X_test, y_test))\n",
    "``` \n",
    "    1.0  \n",
    "    0.83"
   ]
  },
  {
   "cell_type": "markdown",
   "id": "b45c0324",
   "metadata": {},
   "source": [
    "> anyways, it was similar to the original SVC test from before"
   ]
  },
  {
   "cell_type": "markdown",
   "id": "0512ba10",
   "metadata": {},
   "source": [
    "<span id ='upvotes'></span>\n",
    "## Before getting to try newer models, lets just check how well a model with the number of upvotes does to see if we can use that as a model to combine with another successful model  \n",
    "[TOC](#toc)"
   ]
  },
  {
   "cell_type": "code",
   "execution_count": 80,
   "id": "e9e4b153",
   "metadata": {},
   "outputs": [],
   "source": [
    "X_upvotes = big_df[['upvotes']]\n",
    "y_upvotes = big_df['subreddit']\n",
    "\n",
    "X_train_up, X_test_up, y_train_up, y_test_up = train_test_split(X_upvotes, y_upvotes, stratify=y, random_state = 3)"
   ]
  },
  {
   "cell_type": "code",
   "execution_count": 81,
   "id": "8bf165a3",
   "metadata": {},
   "outputs": [
    {
     "name": "stdout",
     "output_type": "stream",
     "text": [
      "1.0\n",
      "1.0\n"
     ]
    }
   ],
   "source": [
    "# make the logreg model\n",
    "lr = LogisticRegression()\n",
    "lr.fit(X_train_up, y_train_up)\n",
    "\n",
    "print(lr.score(X_train_up, y_train_up))\n",
    "print(lr.score(X_test_up, y_test_up))"
   ]
  },
  {
   "cell_type": "markdown",
   "id": "9ada7871",
   "metadata": {},
   "source": [
    "> Hmm. Is this because there is such a big difference in viewer base per subreddit? because lets not forget the gap  \n",
    "> **TheOnion:** 164k members  \n",
    "> **News:**     23.7 million members"
   ]
  },
  {
   "cell_type": "code",
   "execution_count": 82,
   "id": "268232e5",
   "metadata": {},
   "outputs": [
    {
     "data": {
      "text/plain": [
       "array([1., 1., 1., 1., 1.])"
      ]
     },
     "execution_count": 82,
     "metadata": {},
     "output_type": "execute_result"
    }
   ],
   "source": [
    "# Lets do one more check \n",
    "cross_val_score(LogisticRegression(), X_upvotes, y_upvotes)"
   ]
  },
  {
   "cell_type": "markdown",
   "id": "d18af1ef",
   "metadata": {},
   "source": [
    "### Lets take a look at the distribution of them to see if maybe the answer about this will be more apparent"
   ]
  },
  {
   "cell_type": "code",
   "execution_count": 83,
   "id": "e8b623f4",
   "metadata": {},
   "outputs": [
    {
     "data": {
      "text/plain": [
       "Text(0.5, 1.0, 'Upvotes vs Subreddit')"
      ]
     },
     "execution_count": 83,
     "metadata": {},
     "output_type": "execute_result"
    },
    {
     "data": {
      "image/png": "[encoded data removed]",
      "text/plain": [
       "<Figure size 576x288 with 1 Axes>"
      ]
     },
     "metadata": {
      "needs_background": "light"
     },
     "output_type": "display_data"
    }
   ],
   "source": [
    "plt.figure(figsize=(8, 4))\n",
    "sns.scatterplot(x = X_upvotes['upvotes'], y = y);\n",
    "\n",
    "plt.axis([0, 150000, -0.05, 1.05]);\n",
    "plt.title('Upvotes vs Subreddit', size = 12)"
   ]
  },
  {
   "cell_type": "markdown",
   "id": "34200b0a",
   "metadata": {},
   "source": [
    "> Yeah this makes sense. There is no onion post with more than the least upvoted news post.  \n",
    "  \n",
    "> Because this will give us a perfect model, lets also not include the number of upvotes and number of comments"
   ]
  },
  {
   "cell_type": "markdown",
   "id": "04acbb45",
   "metadata": {},
   "source": [
    "<span id = 'sentiment_anaylsis'></span>\n",
    "## Okay, so we can't use the numeric columns for number of upvotes, or comments, but what if we still try to use two different types of model, the 2nd one being a sentient analysis, so we go through each column and decide where it belongs that way\n",
    "Taken from lessons 5.06 for how to install and use it  \n",
    "[TOC](#toc)"
   ]
  },
  {
   "cell_type": "code",
   "execution_count": 84,
   "id": "01597161",
   "metadata": {},
   "outputs": [
    {
     "name": "stderr",
     "output_type": "stream",
     "text": [
      "No model was supplied, defaulted to distilbert-base-uncased-finetuned-sst-2-english (https://huggingface.co/distilbert-base-uncased-finetuned-sst-2-english)\n"
     ]
    }
   ],
   "source": [
    "# Instantiate the sentiment-analysis using the hugging-face transformer pipeline\n",
    "sent = pipeline('sentiment-analysis')"
   ]
  },
  {
   "cell_type": "code",
   "execution_count": 85,
   "id": "72aee1a0",
   "metadata": {},
   "outputs": [
    {
     "name": "stdout",
     "output_type": "stream",
     "text": [
      "[{'label': 'POSITIVE', 'score': 0.999847412109375}]\n",
      "[{'label': 'NEGATIVE', 'score': 0.9998001456260681}]\n",
      "[{'label': 'POSITIVE', 'score': 0.9998753070831299}]\n",
      "[{'label': 'NEGATIVE', 'score': 0.9997389912605286}]\n"
     ]
    }
   ],
   "source": [
    "# Lets just make sure it works\n",
    "print(sent('I am good'))\n",
    "print(sent('I am bad'))\n",
    "print(sent('Love it'))\n",
    "print(sent('Hate it'))"
   ]
  },
  {
   "cell_type": "markdown",
   "id": "b053cc88",
   "metadata": {},
   "source": [
    "### Running a loop to get a list of dictionary to make a dataframe from the results"
   ]
  },
  {
   "cell_type": "code",
   "execution_count": 86,
   "id": "c1da88da",
   "metadata": {},
   "outputs": [
    {
     "data": {
      "text/html": [
       "<div>\n",
       "<style scoped>\n",
       "    .dataframe tbody tr th:only-of-type {\n",
       "        vertical-align: middle;\n",
       "    }\n",
       "\n",
       "    .dataframe tbody tr th {\n",
       "        vertical-align: top;\n",
       "    }\n",
       "\n",
       "    .dataframe thead th {\n",
       "        text-align: right;\n",
       "    }\n",
       "</style>\n",
       "<table border=\"1\" class=\"dataframe\">\n",
       "  <thead>\n",
       "    <tr style=\"text-align: right;\">\n",
       "      <th></th>\n",
       "      <th>label</th>\n",
       "      <th>score</th>\n",
       "    </tr>\n",
       "  </thead>\n",
       "  <tbody>\n",
       "    <tr>\n",
       "      <th>0</th>\n",
       "      <td>NEGATIVE</td>\n",
       "      <td>0.983922</td>\n",
       "    </tr>\n",
       "    <tr>\n",
       "      <th>1</th>\n",
       "      <td>POSITIVE</td>\n",
       "      <td>0.987925</td>\n",
       "    </tr>\n",
       "    <tr>\n",
       "      <th>2</th>\n",
       "      <td>POSITIVE</td>\n",
       "      <td>0.998012</td>\n",
       "    </tr>\n",
       "    <tr>\n",
       "      <th>3</th>\n",
       "      <td>NEGATIVE</td>\n",
       "      <td>0.996081</td>\n",
       "    </tr>\n",
       "    <tr>\n",
       "      <th>4</th>\n",
       "      <td>POSITIVE</td>\n",
       "      <td>0.806375</td>\n",
       "    </tr>\n",
       "    <tr>\n",
       "      <th>...</th>\n",
       "      <td>...</td>\n",
       "      <td>...</td>\n",
       "    </tr>\n",
       "    <tr>\n",
       "      <th>1993</th>\n",
       "      <td>NEGATIVE</td>\n",
       "      <td>0.987961</td>\n",
       "    </tr>\n",
       "    <tr>\n",
       "      <th>1994</th>\n",
       "      <td>NEGATIVE</td>\n",
       "      <td>0.993715</td>\n",
       "    </tr>\n",
       "    <tr>\n",
       "      <th>1995</th>\n",
       "      <td>NEGATIVE</td>\n",
       "      <td>0.999641</td>\n",
       "    </tr>\n",
       "    <tr>\n",
       "      <th>1996</th>\n",
       "      <td>NEGATIVE</td>\n",
       "      <td>0.990542</td>\n",
       "    </tr>\n",
       "    <tr>\n",
       "      <th>1997</th>\n",
       "      <td>NEGATIVE</td>\n",
       "      <td>0.933244</td>\n",
       "    </tr>\n",
       "  </tbody>\n",
       "</table>\n",
       "<p>1998 rows × 2 columns</p>\n",
       "</div>"
      ],
      "text/plain": [
       "         label     score\n",
       "0     NEGATIVE  0.983922\n",
       "1     POSITIVE  0.987925\n",
       "2     POSITIVE  0.998012\n",
       "3     NEGATIVE  0.996081\n",
       "4     POSITIVE  0.806375\n",
       "...        ...       ...\n",
       "1993  NEGATIVE  0.987961\n",
       "1994  NEGATIVE  0.993715\n",
       "1995  NEGATIVE  0.999641\n",
       "1996  NEGATIVE  0.990542\n",
       "1997  NEGATIVE  0.933244\n",
       "\n",
       "[1998 rows x 2 columns]"
      ]
     },
     "execution_count": 86,
     "metadata": {},
     "output_type": "execute_result"
    }
   ],
   "source": [
    "train_sens = []\n",
    "for x in X:\n",
    "    dict_hold = {}\n",
    "    dict_hold['label'] = sent(x)[0]['label']\n",
    "    dict_hold['score'] = sent(x)[0]['score']\n",
    "    \n",
    "    train_sens.append(dict_hold)\n",
    "    \n",
    "sent_df = pd.DataFrame(train_sens)\n",
    "sent_df"
   ]
  },
  {
   "cell_type": "code",
   "execution_count": 87,
   "id": "0edca886",
   "metadata": {},
   "outputs": [
    {
     "data": {
      "text/html": [
       "<div>\n",
       "<style scoped>\n",
       "    .dataframe tbody tr th:only-of-type {\n",
       "        vertical-align: middle;\n",
       "    }\n",
       "\n",
       "    .dataframe tbody tr th {\n",
       "        vertical-align: top;\n",
       "    }\n",
       "\n",
       "    .dataframe thead th {\n",
       "        text-align: right;\n",
       "    }\n",
       "</style>\n",
       "<table border=\"1\" class=\"dataframe\">\n",
       "  <thead>\n",
       "    <tr style=\"text-align: right;\">\n",
       "      <th></th>\n",
       "      <th>label</th>\n",
       "      <th>score</th>\n",
       "    </tr>\n",
       "  </thead>\n",
       "  <tbody>\n",
       "    <tr>\n",
       "      <th>0</th>\n",
       "      <td>0</td>\n",
       "      <td>0.983922</td>\n",
       "    </tr>\n",
       "    <tr>\n",
       "      <th>1</th>\n",
       "      <td>1</td>\n",
       "      <td>0.987925</td>\n",
       "    </tr>\n",
       "    <tr>\n",
       "      <th>2</th>\n",
       "      <td>1</td>\n",
       "      <td>0.998012</td>\n",
       "    </tr>\n",
       "    <tr>\n",
       "      <th>3</th>\n",
       "      <td>0</td>\n",
       "      <td>0.996081</td>\n",
       "    </tr>\n",
       "    <tr>\n",
       "      <th>4</th>\n",
       "      <td>1</td>\n",
       "      <td>0.806375</td>\n",
       "    </tr>\n",
       "    <tr>\n",
       "      <th>...</th>\n",
       "      <td>...</td>\n",
       "      <td>...</td>\n",
       "    </tr>\n",
       "    <tr>\n",
       "      <th>1993</th>\n",
       "      <td>0</td>\n",
       "      <td>0.987961</td>\n",
       "    </tr>\n",
       "    <tr>\n",
       "      <th>1994</th>\n",
       "      <td>0</td>\n",
       "      <td>0.993715</td>\n",
       "    </tr>\n",
       "    <tr>\n",
       "      <th>1995</th>\n",
       "      <td>0</td>\n",
       "      <td>0.999641</td>\n",
       "    </tr>\n",
       "    <tr>\n",
       "      <th>1996</th>\n",
       "      <td>0</td>\n",
       "      <td>0.990542</td>\n",
       "    </tr>\n",
       "    <tr>\n",
       "      <th>1997</th>\n",
       "      <td>0</td>\n",
       "      <td>0.933244</td>\n",
       "    </tr>\n",
       "  </tbody>\n",
       "</table>\n",
       "<p>1998 rows × 2 columns</p>\n",
       "</div>"
      ],
      "text/plain": [
       "      label     score\n",
       "0         0  0.983922\n",
       "1         1  0.987925\n",
       "2         1  0.998012\n",
       "3         0  0.996081\n",
       "4         1  0.806375\n",
       "...     ...       ...\n",
       "1993      0  0.987961\n",
       "1994      0  0.993715\n",
       "1995      0  0.999641\n",
       "1996      0  0.990542\n",
       "1997      0  0.933244\n",
       "\n",
       "[1998 rows x 2 columns]"
      ]
     },
     "execution_count": 87,
     "metadata": {},
     "output_type": "execute_result"
    }
   ],
   "source": [
    "## lets also change the lables for 1 for positive and 0 for negative\n",
    "sent_df['label'] = sent_df['label'].map({'NEGATIVE': 0, 'POSITIVE':1})\n",
    "sent_df"
   ]
  },
  {
   "cell_type": "code",
   "execution_count": 88,
   "id": "950dd5ca",
   "metadata": {},
   "outputs": [
    {
     "data": {
      "text/html": [
       "<div>\n",
       "<style scoped>\n",
       "    .dataframe tbody tr th:only-of-type {\n",
       "        vertical-align: middle;\n",
       "    }\n",
       "\n",
       "    .dataframe tbody tr th {\n",
       "        vertical-align: top;\n",
       "    }\n",
       "\n",
       "    .dataframe thead th {\n",
       "        text-align: right;\n",
       "    }\n",
       "</style>\n",
       "<table border=\"1\" class=\"dataframe\">\n",
       "  <thead>\n",
       "    <tr style=\"text-align: right;\">\n",
       "      <th></th>\n",
       "      <th>label</th>\n",
       "      <th>score</th>\n",
       "      <th>subreddit</th>\n",
       "    </tr>\n",
       "  </thead>\n",
       "  <tbody>\n",
       "    <tr>\n",
       "      <th>0</th>\n",
       "      <td>0</td>\n",
       "      <td>0.983922</td>\n",
       "      <td>0</td>\n",
       "    </tr>\n",
       "    <tr>\n",
       "      <th>1</th>\n",
       "      <td>1</td>\n",
       "      <td>0.987925</td>\n",
       "      <td>0</td>\n",
       "    </tr>\n",
       "    <tr>\n",
       "      <th>2</th>\n",
       "      <td>1</td>\n",
       "      <td>0.998012</td>\n",
       "      <td>0</td>\n",
       "    </tr>\n",
       "    <tr>\n",
       "      <th>3</th>\n",
       "      <td>0</td>\n",
       "      <td>0.996081</td>\n",
       "      <td>0</td>\n",
       "    </tr>\n",
       "    <tr>\n",
       "      <th>4</th>\n",
       "      <td>1</td>\n",
       "      <td>0.806375</td>\n",
       "      <td>0</td>\n",
       "    </tr>\n",
       "    <tr>\n",
       "      <th>...</th>\n",
       "      <td>...</td>\n",
       "      <td>...</td>\n",
       "      <td>...</td>\n",
       "    </tr>\n",
       "    <tr>\n",
       "      <th>1993</th>\n",
       "      <td>0</td>\n",
       "      <td>0.987961</td>\n",
       "      <td>1</td>\n",
       "    </tr>\n",
       "    <tr>\n",
       "      <th>1994</th>\n",
       "      <td>0</td>\n",
       "      <td>0.993715</td>\n",
       "      <td>1</td>\n",
       "    </tr>\n",
       "    <tr>\n",
       "      <th>1995</th>\n",
       "      <td>0</td>\n",
       "      <td>0.999641</td>\n",
       "      <td>1</td>\n",
       "    </tr>\n",
       "    <tr>\n",
       "      <th>1996</th>\n",
       "      <td>0</td>\n",
       "      <td>0.990542</td>\n",
       "      <td>1</td>\n",
       "    </tr>\n",
       "    <tr>\n",
       "      <th>1997</th>\n",
       "      <td>0</td>\n",
       "      <td>0.933244</td>\n",
       "      <td>1</td>\n",
       "    </tr>\n",
       "  </tbody>\n",
       "</table>\n",
       "<p>1998 rows × 3 columns</p>\n",
       "</div>"
      ],
      "text/plain": [
       "      label     score  subreddit\n",
       "0         0  0.983922          0\n",
       "1         1  0.987925          0\n",
       "2         1  0.998012          0\n",
       "3         0  0.996081          0\n",
       "4         1  0.806375          0\n",
       "...     ...       ...        ...\n",
       "1993      0  0.987961          1\n",
       "1994      0  0.993715          1\n",
       "1995      0  0.999641          1\n",
       "1996      0  0.990542          1\n",
       "1997      0  0.933244          1\n",
       "\n",
       "[1998 rows x 3 columns]"
      ]
     },
     "execution_count": 88,
     "metadata": {},
     "output_type": "execute_result"
    }
   ],
   "source": [
    "# Lets add the target values now\n",
    "sent_df['subreddit'] = y.values\n",
    "sent_df"
   ]
  },
  {
   "cell_type": "markdown",
   "id": "2aa27ba4",
   "metadata": {},
   "source": [
    "### Because there are only numbers 0.5 - 1 based on positive and negative, lets make the negative their score, but going the other way. So the closer to 0 they are, the more negative"
   ]
  },
  {
   "cell_type": "code",
   "execution_count": 89,
   "id": "1957600f",
   "metadata": {},
   "outputs": [
    {
     "name": "stderr",
     "output_type": "stream",
     "text": [
      "C:\\Users\\16615\\AppData\\Local\\Temp/ipykernel_10792/331087675.py:4: SettingWithCopyWarning: \n",
      "A value is trying to be set on a copy of a slice from a DataFrame\n",
      "\n",
      "See the caveats in the documentation: https://pandas.pydata.org/pandas-docs/stable/user_guide/indexing.html#returning-a-view-versus-a-copy\n",
      "  sent_df['score'][index] = 1-sent_df['score'][index]\n"
     ]
    },
    {
     "data": {
      "text/html": [
       "<div>\n",
       "<style scoped>\n",
       "    .dataframe tbody tr th:only-of-type {\n",
       "        vertical-align: middle;\n",
       "    }\n",
       "\n",
       "    .dataframe tbody tr th {\n",
       "        vertical-align: top;\n",
       "    }\n",
       "\n",
       "    .dataframe thead th {\n",
       "        text-align: right;\n",
       "    }\n",
       "</style>\n",
       "<table border=\"1\" class=\"dataframe\">\n",
       "  <thead>\n",
       "    <tr style=\"text-align: right;\">\n",
       "      <th></th>\n",
       "      <th>label</th>\n",
       "      <th>score</th>\n",
       "      <th>subreddit</th>\n",
       "    </tr>\n",
       "  </thead>\n",
       "  <tbody>\n",
       "    <tr>\n",
       "      <th>0</th>\n",
       "      <td>0</td>\n",
       "      <td>0.016078</td>\n",
       "      <td>0</td>\n",
       "    </tr>\n",
       "    <tr>\n",
       "      <th>1</th>\n",
       "      <td>1</td>\n",
       "      <td>0.987925</td>\n",
       "      <td>0</td>\n",
       "    </tr>\n",
       "    <tr>\n",
       "      <th>2</th>\n",
       "      <td>1</td>\n",
       "      <td>0.998012</td>\n",
       "      <td>0</td>\n",
       "    </tr>\n",
       "    <tr>\n",
       "      <th>3</th>\n",
       "      <td>0</td>\n",
       "      <td>0.003919</td>\n",
       "      <td>0</td>\n",
       "    </tr>\n",
       "    <tr>\n",
       "      <th>4</th>\n",
       "      <td>1</td>\n",
       "      <td>0.806375</td>\n",
       "      <td>0</td>\n",
       "    </tr>\n",
       "    <tr>\n",
       "      <th>...</th>\n",
       "      <td>...</td>\n",
       "      <td>...</td>\n",
       "      <td>...</td>\n",
       "    </tr>\n",
       "    <tr>\n",
       "      <th>1993</th>\n",
       "      <td>0</td>\n",
       "      <td>0.012039</td>\n",
       "      <td>1</td>\n",
       "    </tr>\n",
       "    <tr>\n",
       "      <th>1994</th>\n",
       "      <td>0</td>\n",
       "      <td>0.006285</td>\n",
       "      <td>1</td>\n",
       "    </tr>\n",
       "    <tr>\n",
       "      <th>1995</th>\n",
       "      <td>0</td>\n",
       "      <td>0.000359</td>\n",
       "      <td>1</td>\n",
       "    </tr>\n",
       "    <tr>\n",
       "      <th>1996</th>\n",
       "      <td>0</td>\n",
       "      <td>0.009458</td>\n",
       "      <td>1</td>\n",
       "    </tr>\n",
       "    <tr>\n",
       "      <th>1997</th>\n",
       "      <td>0</td>\n",
       "      <td>0.066756</td>\n",
       "      <td>1</td>\n",
       "    </tr>\n",
       "  </tbody>\n",
       "</table>\n",
       "<p>1998 rows × 3 columns</p>\n",
       "</div>"
      ],
      "text/plain": [
       "      label     score  subreddit\n",
       "0         0  0.016078          0\n",
       "1         1  0.987925          0\n",
       "2         1  0.998012          0\n",
       "3         0  0.003919          0\n",
       "4         1  0.806375          0\n",
       "...     ...       ...        ...\n",
       "1993      0  0.012039          1\n",
       "1994      0  0.006285          1\n",
       "1995      0  0.000359          1\n",
       "1996      0  0.009458          1\n",
       "1997      0  0.066756          1\n",
       "\n",
       "[1998 rows x 3 columns]"
      ]
     },
     "execution_count": 89,
     "metadata": {},
     "output_type": "execute_result"
    }
   ],
   "source": [
    "neg_scores_index = sent_df[sent_df['label'] == 0].index\n",
    "\n",
    "for index in neg_scores_index:\n",
    "    sent_df['score'][index] = 1-sent_df['score'][index]\n",
    "    \n",
    "sent_df"
   ]
  },
  {
   "cell_type": "code",
   "execution_count": 90,
   "id": "5b9261b3",
   "metadata": {},
   "outputs": [],
   "source": [
    "# Lets get to predicting now\n",
    "X_sent = sent_df[['label','score']]\n",
    "y_sent = sent_df['subreddit']\n",
    "\n",
    "Xs_train, Xs_test, ys_train, ys_test = train_test_split(X_sent, y_sent, stratify=y, random_state=42)"
   ]
  },
  {
   "cell_type": "code",
   "execution_count": 91,
   "id": "6b1d66ed",
   "metadata": {},
   "outputs": [
    {
     "name": "stdout",
     "output_type": "stream",
     "text": [
      "0.5554072096128171\n",
      "0.576\n"
     ]
    }
   ],
   "source": [
    "# since both the x's are on a scale of 0 - 1, i don't think i need to standard scale this\n",
    "lr = LogisticRegression() # lets just try default values first to see if its even worth pursing logreg with gridsearch\n",
    "lr.fit(Xs_train, ys_train)\n",
    "\n",
    "print(lr.score(Xs_train, ys_train))\n",
    "print(lr.score(Xs_test, ys_test))"
   ]
  },
  {
   "cell_type": "markdown",
   "id": "3ab29307",
   "metadata": {},
   "source": [
    "> The scores are suspiciously close the to the baseline making me believe that they are fairly well split between each subreddit."
   ]
  },
  {
   "cell_type": "code",
   "execution_count": 92,
   "id": "7fdd9de3",
   "metadata": {},
   "outputs": [],
   "source": [
    "sent_df['label'] = ['Negative' if num == 0 else 'Positive' for num in sent_df['label']]"
   ]
  },
  {
   "cell_type": "code",
   "execution_count": 93,
   "id": "bd4fb5ff",
   "metadata": {},
   "outputs": [
    {
     "data": {
      "text/html": [
       "<div>\n",
       "<style scoped>\n",
       "    .dataframe tbody tr th:only-of-type {\n",
       "        vertical-align: middle;\n",
       "    }\n",
       "\n",
       "    .dataframe tbody tr th {\n",
       "        vertical-align: top;\n",
       "    }\n",
       "\n",
       "    .dataframe thead th {\n",
       "        text-align: right;\n",
       "    }\n",
       "</style>\n",
       "<table border=\"1\" class=\"dataframe\">\n",
       "  <thead>\n",
       "    <tr style=\"text-align: right;\">\n",
       "      <th></th>\n",
       "      <th>label</th>\n",
       "      <th>score</th>\n",
       "      <th>subreddit</th>\n",
       "    </tr>\n",
       "  </thead>\n",
       "  <tbody>\n",
       "    <tr>\n",
       "      <th>0</th>\n",
       "      <td>Negative</td>\n",
       "      <td>0.016078</td>\n",
       "      <td>0</td>\n",
       "    </tr>\n",
       "    <tr>\n",
       "      <th>1</th>\n",
       "      <td>Positive</td>\n",
       "      <td>0.987925</td>\n",
       "      <td>0</td>\n",
       "    </tr>\n",
       "    <tr>\n",
       "      <th>2</th>\n",
       "      <td>Positive</td>\n",
       "      <td>0.998012</td>\n",
       "      <td>0</td>\n",
       "    </tr>\n",
       "    <tr>\n",
       "      <th>3</th>\n",
       "      <td>Negative</td>\n",
       "      <td>0.003919</td>\n",
       "      <td>0</td>\n",
       "    </tr>\n",
       "    <tr>\n",
       "      <th>4</th>\n",
       "      <td>Positive</td>\n",
       "      <td>0.806375</td>\n",
       "      <td>0</td>\n",
       "    </tr>\n",
       "    <tr>\n",
       "      <th>...</th>\n",
       "      <td>...</td>\n",
       "      <td>...</td>\n",
       "      <td>...</td>\n",
       "    </tr>\n",
       "    <tr>\n",
       "      <th>1993</th>\n",
       "      <td>Negative</td>\n",
       "      <td>0.012039</td>\n",
       "      <td>1</td>\n",
       "    </tr>\n",
       "    <tr>\n",
       "      <th>1994</th>\n",
       "      <td>Negative</td>\n",
       "      <td>0.006285</td>\n",
       "      <td>1</td>\n",
       "    </tr>\n",
       "    <tr>\n",
       "      <th>1995</th>\n",
       "      <td>Negative</td>\n",
       "      <td>0.000359</td>\n",
       "      <td>1</td>\n",
       "    </tr>\n",
       "    <tr>\n",
       "      <th>1996</th>\n",
       "      <td>Negative</td>\n",
       "      <td>0.009458</td>\n",
       "      <td>1</td>\n",
       "    </tr>\n",
       "    <tr>\n",
       "      <th>1997</th>\n",
       "      <td>Negative</td>\n",
       "      <td>0.066756</td>\n",
       "      <td>1</td>\n",
       "    </tr>\n",
       "  </tbody>\n",
       "</table>\n",
       "<p>1998 rows × 3 columns</p>\n",
       "</div>"
      ],
      "text/plain": [
       "         label     score  subreddit\n",
       "0     Negative  0.016078          0\n",
       "1     Positive  0.987925          0\n",
       "2     Positive  0.998012          0\n",
       "3     Negative  0.003919          0\n",
       "4     Positive  0.806375          0\n",
       "...        ...       ...        ...\n",
       "1993  Negative  0.012039          1\n",
       "1994  Negative  0.006285          1\n",
       "1995  Negative  0.000359          1\n",
       "1996  Negative  0.009458          1\n",
       "1997  Negative  0.066756          1\n",
       "\n",
       "[1998 rows x 3 columns]"
      ]
     },
     "execution_count": 93,
     "metadata": {},
     "output_type": "execute_result"
    }
   ],
   "source": [
    "sent_df"
   ]
  },
  {
   "cell_type": "code",
   "execution_count": 94,
   "id": "9bb28409",
   "metadata": {},
   "outputs": [
    {
     "data": {
      "image/png": "[encoded data removed]",
      "text/plain": [
       "<Figure size 432x288 with 1 Axes>"
      ]
     },
     "metadata": {
      "needs_background": "light"
     },
     "output_type": "display_data"
    }
   ],
   "source": [
    "# now we just need to graph score vs subreddit to see how it actually looks\n",
    "sns.scatterplot(x = sent_df['score'], y = sent_df['subreddit'], hue = sent_df['label']);\n",
    "plt.title('Sentiment Score vs Subreddit');"
   ]
  },
  {
   "cell_type": "markdown",
   "id": "9cec07c3",
   "metadata": {},
   "source": [
    "> This explains the the logistic regression slightly more than 50% model. The sensitivity scores are fairly well split, except for some small portions (like y = 1 @ 0.7).  \n",
    "**The hue was just added to make sure I split the negative and positive scores properly**  \n",
    "  \n",
    "> Sensitivity will just be another factor we won't be able to use. However, as is our model is performing decently."
   ]
  },
  {
   "cell_type": "markdown",
   "id": "6495afe7",
   "metadata": {},
   "source": [
    "<span id='other_models'></span>\n",
    "## Some models not included in this notebook.\n",
    "In my scratch paper notebook I also attemped to test the Gaussian and Bernulli Naive bayes a bit more in depth, but after looking up what they are actually used for concluded it doesn't make sense to include them in the final notebook. An example of the Bernulli in this notebook is found [here](#cvec). Because I don't care as much about the abscense of a particular word in the document, as I do for finding relevant key words that can be used to classify (therefore just more words in general to have a bigger collection) I decided to stick with the multinomial nb.   \n",
    "  \n",
    "For the Gaussian model, it tends to work better on continous data because it uses the assumption of a normal distribution and therefor wouldn't even be too helpful in our case of BOW. I did manage to get it to work, but the model was very overfit, as well as running into issues when trying to create a pipeline. I will inlucde some work I used for it though  \n",
    "[TOC](#toc)"
   ]
  },
  {
   "cell_type": "markdown",
   "id": "f39aa531",
   "metadata": {},
   "source": [
    "``` python\n",
    "cvec_3 = CountVectorizer() # default params first just to see what this is about\n",
    "X_train_cv = cvec_3.fit_transform(X_train)\n",
    "X_test_cv = cvec_3.transform(X_test)\n",
    "\n",
    "\n",
    "gnb = GaussianNB() # lets try default params first\n",
    "gnb.fit(X_train_cv.toarray(), y_train)\n",
    "\n",
    "print(gnb.score(X_train_cv.todense(), y_train))\n",
    "print(gnb.score(X_test_cv.todense(), y_test))\n",
    "```\n",
    "[Output]  \n",
    "0.9913333333333333  \n",
    "0.748\n",
    "____"
   ]
  },
  {
   "cell_type": "markdown",
   "id": "2020fe44",
   "metadata": {},
   "source": [
    "``` python\n",
    "gnb_pipeline = Pipeline([('cvec', CountVectorizer()),\n",
    "                         ('tfidf', TfidfTransformer()),\n",
    "                         ('gnb', GaussianNB())])\n",
    "\n",
    "gnb_params = {'cvec__ngram_range':[(1,1), (1,2), (2,2)],\n",
    "                'cvec__max_df': [0.90, 0.95, 1.0],\n",
    "                'cvec__max_features': [2000, 3000, 4000, None],\n",
    "                'cvec__min_df': [1, 2, 3, 4, 5],\n",
    "                'tfidf__use_idf': [True, False],\n",
    "                'tfidf__norm': ['l1', 'l2'],\n",
    "                'tfidf__smooth_idf': [True, False]}\n",
    "\n",
    "gnb_gs = GridSearchCV(gnb_pipeline,\n",
    "                      gnb_params,\n",
    "                      cv = 5,\n",
    "                      verbose = 1)\n",
    "\n",
    "gnb_gs.fit(X_train, y_train)\n",
    "```"
   ]
  },
  {
   "cell_type": "markdown",
   "id": "43e2a99b",
   "metadata": {},
   "source": [
    "And when trying to figure out how to get my pipeline to work with the Gaussian model, I came across this piece of advice from [github](https://github.com/scikit-learn/scikit-learn/issues/6440)\n",
    "![](../imgs/no_gaus.png)"
   ]
  },
  {
   "cell_type": "markdown",
   "id": "41b65987",
   "metadata": {},
   "source": [
    "<span id='enmod'></span>\n",
    "## One last attempt at trying to get a better accuracy score. We will combine the predictions of the top 5 models and average them.\n",
    "#### Idea of combing the scores and making the dataframe and all was taking lesson 6.02"
   ]
  },
  {
   "cell_type": "markdown",
   "id": "e34a6899",
   "metadata": {},
   "source": [
    "Because we used the same test split for all of the models, (never altering the original split with a random state), the order of the X_test and y_test values should be the same and we can therefor make a dataframe of the result, however, just in case we should add them by the title_index  \n",
    "[TOC](#toc)"
   ]
  },
  {
   "cell_type": "code",
   "execution_count": 95,
   "id": "7880661b",
   "metadata": {},
   "outputs": [
    {
     "data": {
      "text/html": [
       "<div>\n",
       "<style scoped>\n",
       "    .dataframe tbody tr th:only-of-type {\n",
       "        vertical-align: middle;\n",
       "    }\n",
       "\n",
       "    .dataframe tbody tr th {\n",
       "        vertical-align: top;\n",
       "    }\n",
       "\n",
       "    .dataframe thead th {\n",
       "        text-align: right;\n",
       "    }\n",
       "</style>\n",
       "<table border=\"1\" class=\"dataframe\">\n",
       "  <thead>\n",
       "    <tr style=\"text-align: right;\">\n",
       "      <th></th>\n",
       "      <th>Train_Model_0</th>\n",
       "      <th>Train_Model_1</th>\n",
       "      <th>Train_Model_2</th>\n",
       "      <th>Train_Model_3</th>\n",
       "      <th>Train_Model_4</th>\n",
       "    </tr>\n",
       "    <tr>\n",
       "      <th>title_id</th>\n",
       "      <th></th>\n",
       "      <th></th>\n",
       "      <th></th>\n",
       "      <th></th>\n",
       "      <th></th>\n",
       "    </tr>\n",
       "  </thead>\n",
       "  <tbody>\n",
       "    <tr>\n",
       "      <th>m7zo4g</th>\n",
       "      <td>1</td>\n",
       "      <td>1</td>\n",
       "      <td>1</td>\n",
       "      <td>1</td>\n",
       "      <td>1</td>\n",
       "    </tr>\n",
       "    <tr>\n",
       "      <th>or7x1k</th>\n",
       "      <td>1</td>\n",
       "      <td>1</td>\n",
       "      <td>1</td>\n",
       "      <td>1</td>\n",
       "      <td>1</td>\n",
       "    </tr>\n",
       "    <tr>\n",
       "      <th>oou7kh</th>\n",
       "      <td>1</td>\n",
       "      <td>1</td>\n",
       "      <td>1</td>\n",
       "      <td>1</td>\n",
       "      <td>1</td>\n",
       "    </tr>\n",
       "    <tr>\n",
       "      <th>prg0kg</th>\n",
       "      <td>0</td>\n",
       "      <td>0</td>\n",
       "      <td>0</td>\n",
       "      <td>0</td>\n",
       "      <td>0</td>\n",
       "    </tr>\n",
       "    <tr>\n",
       "      <th>jshht6</th>\n",
       "      <td>0</td>\n",
       "      <td>0</td>\n",
       "      <td>0</td>\n",
       "      <td>0</td>\n",
       "      <td>0</td>\n",
       "    </tr>\n",
       "  </tbody>\n",
       "</table>\n",
       "</div>"
      ],
      "text/plain": [
       "          Train_Model_0  Train_Model_1  Train_Model_2  Train_Model_3  \\\n",
       "title_id                                                               \n",
       "m7zo4g                1              1              1              1   \n",
       "or7x1k                1              1              1              1   \n",
       "oou7kh                1              1              1              1   \n",
       "prg0kg                0              0              0              0   \n",
       "jshht6                0              0              0              0   \n",
       "\n",
       "          Train_Model_4  \n",
       "title_id                 \n",
       "m7zo4g                1  \n",
       "or7x1k                1  \n",
       "oou7kh                1  \n",
       "prg0kg                0  \n",
       "jshht6                0  "
      ]
     },
     "execution_count": 95,
     "metadata": {},
     "output_type": "execute_result"
    }
   ],
   "source": [
    "# make a list of the models to iter through\n",
    "model_list = [mnb_gs, tfidf_gs, svc_gs, rf_gs, combo_gs]\n",
    "\n",
    "# new dateframe that will only hold the predictions\n",
    "train_models_preds_df = pd.DataFrame(index = X_train.index)\n",
    "\n",
    "for i in range(len(model_list)):\n",
    "    train_models_preds_df[f'Train_Model_{i}'] = model_list[i].predict(X_train)\n",
    "    \n",
    "train_models_preds_df.head()"
   ]
  },
  {
   "cell_type": "code",
   "execution_count": 96,
   "id": "57fc6106",
   "metadata": {},
   "outputs": [
    {
     "data": {
      "text/html": [
       "<div>\n",
       "<style scoped>\n",
       "    .dataframe tbody tr th:only-of-type {\n",
       "        vertical-align: middle;\n",
       "    }\n",
       "\n",
       "    .dataframe tbody tr th {\n",
       "        vertical-align: top;\n",
       "    }\n",
       "\n",
       "    .dataframe thead th {\n",
       "        text-align: right;\n",
       "    }\n",
       "</style>\n",
       "<table border=\"1\" class=\"dataframe\">\n",
       "  <thead>\n",
       "    <tr style=\"text-align: right;\">\n",
       "      <th></th>\n",
       "      <th>Test_Model_0</th>\n",
       "      <th>Test_Model_1</th>\n",
       "      <th>Test_Model_2</th>\n",
       "      <th>Test_Model_3</th>\n",
       "      <th>Test_Model_4</th>\n",
       "    </tr>\n",
       "    <tr>\n",
       "      <th>title_id</th>\n",
       "      <th></th>\n",
       "      <th></th>\n",
       "      <th></th>\n",
       "      <th></th>\n",
       "      <th></th>\n",
       "    </tr>\n",
       "  </thead>\n",
       "  <tbody>\n",
       "    <tr>\n",
       "      <th>k6wkgk</th>\n",
       "      <td>0</td>\n",
       "      <td>1</td>\n",
       "      <td>0</td>\n",
       "      <td>0</td>\n",
       "      <td>1</td>\n",
       "    </tr>\n",
       "    <tr>\n",
       "      <th>mcc3gr</th>\n",
       "      <td>1</td>\n",
       "      <td>0</td>\n",
       "      <td>1</td>\n",
       "      <td>0</td>\n",
       "      <td>0</td>\n",
       "    </tr>\n",
       "    <tr>\n",
       "      <th>k3elf4</th>\n",
       "      <td>0</td>\n",
       "      <td>0</td>\n",
       "      <td>0</td>\n",
       "      <td>0</td>\n",
       "      <td>0</td>\n",
       "    </tr>\n",
       "    <tr>\n",
       "      <th>lkbf2k</th>\n",
       "      <td>1</td>\n",
       "      <td>0</td>\n",
       "      <td>1</td>\n",
       "      <td>0</td>\n",
       "      <td>0</td>\n",
       "    </tr>\n",
       "    <tr>\n",
       "      <th>m17qkj</th>\n",
       "      <td>1</td>\n",
       "      <td>1</td>\n",
       "      <td>1</td>\n",
       "      <td>1</td>\n",
       "      <td>1</td>\n",
       "    </tr>\n",
       "  </tbody>\n",
       "</table>\n",
       "</div>"
      ],
      "text/plain": [
       "          Test_Model_0  Test_Model_1  Test_Model_2  Test_Model_3  Test_Model_4\n",
       "title_id                                                                      \n",
       "k6wkgk               0             1             0             0             1\n",
       "mcc3gr               1             0             1             0             0\n",
       "k3elf4               0             0             0             0             0\n",
       "lkbf2k               1             0             1             0             0\n",
       "m17qkj               1             1             1             1             1"
      ]
     },
     "execution_count": 96,
     "metadata": {},
     "output_type": "execute_result"
    }
   ],
   "source": [
    "# make a list of the models to iter through\n",
    "model_list = [mnb_gs, tfidf_gs, svc_gs, rf_gs, combo_gs]\n",
    "\n",
    "# new dateframe that will only hold the predictions\n",
    "test_models_preds_df = pd.DataFrame(index = X_test.index)\n",
    "\n",
    "for i in range(len(model_list)):\n",
    "    test_models_preds_df[f'Test_Model_{i}'] = model_list[i].predict(X_test)\n",
    "    \n",
    "test_models_preds_df.head()"
   ]
  },
  {
   "cell_type": "markdown",
   "id": "8e8da8b4",
   "metadata": {},
   "source": [
    "> hmm, doesn't look like there is too much variation, but we do know they have different scores, but lets see how well this actually does"
   ]
  },
  {
   "cell_type": "code",
   "execution_count": 97,
   "id": "85ccb0ec",
   "metadata": {},
   "outputs": [
    {
     "data": {
      "text/html": [
       "<div>\n",
       "<style scoped>\n",
       "    .dataframe tbody tr th:only-of-type {\n",
       "        vertical-align: middle;\n",
       "    }\n",
       "\n",
       "    .dataframe tbody tr th {\n",
       "        vertical-align: top;\n",
       "    }\n",
       "\n",
       "    .dataframe thead th {\n",
       "        text-align: right;\n",
       "    }\n",
       "</style>\n",
       "<table border=\"1\" class=\"dataframe\">\n",
       "  <thead>\n",
       "    <tr style=\"text-align: right;\">\n",
       "      <th></th>\n",
       "      <th>Train_Model_0</th>\n",
       "      <th>Train_Model_1</th>\n",
       "      <th>Train_Model_2</th>\n",
       "      <th>Train_Model_3</th>\n",
       "      <th>Train_Model_4</th>\n",
       "      <th>predictions</th>\n",
       "    </tr>\n",
       "    <tr>\n",
       "      <th>title_id</th>\n",
       "      <th></th>\n",
       "      <th></th>\n",
       "      <th></th>\n",
       "      <th></th>\n",
       "      <th></th>\n",
       "      <th></th>\n",
       "    </tr>\n",
       "  </thead>\n",
       "  <tbody>\n",
       "    <tr>\n",
       "      <th>m7zo4g</th>\n",
       "      <td>1</td>\n",
       "      <td>1</td>\n",
       "      <td>1</td>\n",
       "      <td>1</td>\n",
       "      <td>1</td>\n",
       "      <td>1.0</td>\n",
       "    </tr>\n",
       "    <tr>\n",
       "      <th>or7x1k</th>\n",
       "      <td>1</td>\n",
       "      <td>1</td>\n",
       "      <td>1</td>\n",
       "      <td>1</td>\n",
       "      <td>1</td>\n",
       "      <td>1.0</td>\n",
       "    </tr>\n",
       "    <tr>\n",
       "      <th>oou7kh</th>\n",
       "      <td>1</td>\n",
       "      <td>1</td>\n",
       "      <td>1</td>\n",
       "      <td>1</td>\n",
       "      <td>1</td>\n",
       "      <td>1.0</td>\n",
       "    </tr>\n",
       "    <tr>\n",
       "      <th>prg0kg</th>\n",
       "      <td>0</td>\n",
       "      <td>0</td>\n",
       "      <td>0</td>\n",
       "      <td>0</td>\n",
       "      <td>0</td>\n",
       "      <td>0.0</td>\n",
       "    </tr>\n",
       "    <tr>\n",
       "      <th>jshht6</th>\n",
       "      <td>0</td>\n",
       "      <td>0</td>\n",
       "      <td>0</td>\n",
       "      <td>0</td>\n",
       "      <td>0</td>\n",
       "      <td>0.0</td>\n",
       "    </tr>\n",
       "    <tr>\n",
       "      <th>...</th>\n",
       "      <td>...</td>\n",
       "      <td>...</td>\n",
       "      <td>...</td>\n",
       "      <td>...</td>\n",
       "      <td>...</td>\n",
       "      <td>...</td>\n",
       "    </tr>\n",
       "    <tr>\n",
       "      <th>o9vkjm</th>\n",
       "      <td>1</td>\n",
       "      <td>1</td>\n",
       "      <td>1</td>\n",
       "      <td>1</td>\n",
       "      <td>1</td>\n",
       "      <td>1.0</td>\n",
       "    </tr>\n",
       "    <tr>\n",
       "      <th>m0zfm7</th>\n",
       "      <td>0</td>\n",
       "      <td>0</td>\n",
       "      <td>0</td>\n",
       "      <td>0</td>\n",
       "      <td>0</td>\n",
       "      <td>0.0</td>\n",
       "    </tr>\n",
       "    <tr>\n",
       "      <th>m9f606</th>\n",
       "      <td>1</td>\n",
       "      <td>1</td>\n",
       "      <td>1</td>\n",
       "      <td>1</td>\n",
       "      <td>1</td>\n",
       "      <td>1.0</td>\n",
       "    </tr>\n",
       "    <tr>\n",
       "      <th>l1d0as</th>\n",
       "      <td>0</td>\n",
       "      <td>0</td>\n",
       "      <td>0</td>\n",
       "      <td>0</td>\n",
       "      <td>0</td>\n",
       "      <td>0.0</td>\n",
       "    </tr>\n",
       "    <tr>\n",
       "      <th>jndtwy</th>\n",
       "      <td>0</td>\n",
       "      <td>0</td>\n",
       "      <td>0</td>\n",
       "      <td>0</td>\n",
       "      <td>0</td>\n",
       "      <td>0.0</td>\n",
       "    </tr>\n",
       "  </tbody>\n",
       "</table>\n",
       "<p>1498 rows × 6 columns</p>\n",
       "</div>"
      ],
      "text/plain": [
       "          Train_Model_0  Train_Model_1  Train_Model_2  Train_Model_3  \\\n",
       "title_id                                                               \n",
       "m7zo4g                1              1              1              1   \n",
       "or7x1k                1              1              1              1   \n",
       "oou7kh                1              1              1              1   \n",
       "prg0kg                0              0              0              0   \n",
       "jshht6                0              0              0              0   \n",
       "...                 ...            ...            ...            ...   \n",
       "o9vkjm                1              1              1              1   \n",
       "m0zfm7                0              0              0              0   \n",
       "m9f606                1              1              1              1   \n",
       "l1d0as                0              0              0              0   \n",
       "jndtwy                0              0              0              0   \n",
       "\n",
       "          Train_Model_4  predictions  \n",
       "title_id                              \n",
       "m7zo4g                1          1.0  \n",
       "or7x1k                1          1.0  \n",
       "oou7kh                1          1.0  \n",
       "prg0kg                0          0.0  \n",
       "jshht6                0          0.0  \n",
       "...                 ...          ...  \n",
       "o9vkjm                1          1.0  \n",
       "m0zfm7                0          0.0  \n",
       "m9f606                1          1.0  \n",
       "l1d0as                0          0.0  \n",
       "jndtwy                0          0.0  \n",
       "\n",
       "[1498 rows x 6 columns]"
      ]
     },
     "execution_count": 97,
     "metadata": {},
     "output_type": "execute_result"
    }
   ],
   "source": [
    "train_models_preds_df['predictions'] = train_models_preds_df.mean(axis = 1)\n",
    "train_models_preds_df"
   ]
  },
  {
   "cell_type": "code",
   "execution_count": 98,
   "id": "6b96e5e1",
   "metadata": {},
   "outputs": [
    {
     "data": {
      "text/html": [
       "<div>\n",
       "<style scoped>\n",
       "    .dataframe tbody tr th:only-of-type {\n",
       "        vertical-align: middle;\n",
       "    }\n",
       "\n",
       "    .dataframe tbody tr th {\n",
       "        vertical-align: top;\n",
       "    }\n",
       "\n",
       "    .dataframe thead th {\n",
       "        text-align: right;\n",
       "    }\n",
       "</style>\n",
       "<table border=\"1\" class=\"dataframe\">\n",
       "  <thead>\n",
       "    <tr style=\"text-align: right;\">\n",
       "      <th></th>\n",
       "      <th>Test_Model_0</th>\n",
       "      <th>Test_Model_1</th>\n",
       "      <th>Test_Model_2</th>\n",
       "      <th>Test_Model_3</th>\n",
       "      <th>Test_Model_4</th>\n",
       "      <th>predictions</th>\n",
       "    </tr>\n",
       "    <tr>\n",
       "      <th>title_id</th>\n",
       "      <th></th>\n",
       "      <th></th>\n",
       "      <th></th>\n",
       "      <th></th>\n",
       "      <th></th>\n",
       "      <th></th>\n",
       "    </tr>\n",
       "  </thead>\n",
       "  <tbody>\n",
       "    <tr>\n",
       "      <th>k6wkgk</th>\n",
       "      <td>0</td>\n",
       "      <td>1</td>\n",
       "      <td>0</td>\n",
       "      <td>0</td>\n",
       "      <td>1</td>\n",
       "      <td>0.4</td>\n",
       "    </tr>\n",
       "    <tr>\n",
       "      <th>mcc3gr</th>\n",
       "      <td>1</td>\n",
       "      <td>0</td>\n",
       "      <td>1</td>\n",
       "      <td>0</td>\n",
       "      <td>0</td>\n",
       "      <td>0.4</td>\n",
       "    </tr>\n",
       "    <tr>\n",
       "      <th>k3elf4</th>\n",
       "      <td>0</td>\n",
       "      <td>0</td>\n",
       "      <td>0</td>\n",
       "      <td>0</td>\n",
       "      <td>0</td>\n",
       "      <td>0.0</td>\n",
       "    </tr>\n",
       "    <tr>\n",
       "      <th>lkbf2k</th>\n",
       "      <td>1</td>\n",
       "      <td>0</td>\n",
       "      <td>1</td>\n",
       "      <td>0</td>\n",
       "      <td>0</td>\n",
       "      <td>0.4</td>\n",
       "    </tr>\n",
       "    <tr>\n",
       "      <th>m17qkj</th>\n",
       "      <td>1</td>\n",
       "      <td>1</td>\n",
       "      <td>1</td>\n",
       "      <td>1</td>\n",
       "      <td>1</td>\n",
       "      <td>1.0</td>\n",
       "    </tr>\n",
       "    <tr>\n",
       "      <th>...</th>\n",
       "      <td>...</td>\n",
       "      <td>...</td>\n",
       "      <td>...</td>\n",
       "      <td>...</td>\n",
       "      <td>...</td>\n",
       "      <td>...</td>\n",
       "    </tr>\n",
       "    <tr>\n",
       "      <th>md0h9w</th>\n",
       "      <td>1</td>\n",
       "      <td>1</td>\n",
       "      <td>0</td>\n",
       "      <td>0</td>\n",
       "      <td>0</td>\n",
       "      <td>0.4</td>\n",
       "    </tr>\n",
       "    <tr>\n",
       "      <th>p8asey</th>\n",
       "      <td>0</td>\n",
       "      <td>0</td>\n",
       "      <td>0</td>\n",
       "      <td>0</td>\n",
       "      <td>0</td>\n",
       "      <td>0.0</td>\n",
       "    </tr>\n",
       "    <tr>\n",
       "      <th>pdzs6c</th>\n",
       "      <td>0</td>\n",
       "      <td>0</td>\n",
       "      <td>0</td>\n",
       "      <td>0</td>\n",
       "      <td>0</td>\n",
       "      <td>0.0</td>\n",
       "    </tr>\n",
       "    <tr>\n",
       "      <th>jvslq9</th>\n",
       "      <td>0</td>\n",
       "      <td>0</td>\n",
       "      <td>0</td>\n",
       "      <td>0</td>\n",
       "      <td>0</td>\n",
       "      <td>0.0</td>\n",
       "    </tr>\n",
       "    <tr>\n",
       "      <th>lnje3c</th>\n",
       "      <td>0</td>\n",
       "      <td>0</td>\n",
       "      <td>0</td>\n",
       "      <td>0</td>\n",
       "      <td>0</td>\n",
       "      <td>0.0</td>\n",
       "    </tr>\n",
       "  </tbody>\n",
       "</table>\n",
       "<p>500 rows × 6 columns</p>\n",
       "</div>"
      ],
      "text/plain": [
       "          Test_Model_0  Test_Model_1  Test_Model_2  Test_Model_3  \\\n",
       "title_id                                                           \n",
       "k6wkgk               0             1             0             0   \n",
       "mcc3gr               1             0             1             0   \n",
       "k3elf4               0             0             0             0   \n",
       "lkbf2k               1             0             1             0   \n",
       "m17qkj               1             1             1             1   \n",
       "...                ...           ...           ...           ...   \n",
       "md0h9w               1             1             0             0   \n",
       "p8asey               0             0             0             0   \n",
       "pdzs6c               0             0             0             0   \n",
       "jvslq9               0             0             0             0   \n",
       "lnje3c               0             0             0             0   \n",
       "\n",
       "          Test_Model_4  predictions  \n",
       "title_id                             \n",
       "k6wkgk               1          0.4  \n",
       "mcc3gr               0          0.4  \n",
       "k3elf4               0          0.0  \n",
       "lkbf2k               0          0.4  \n",
       "m17qkj               1          1.0  \n",
       "...                ...          ...  \n",
       "md0h9w               0          0.4  \n",
       "p8asey               0          0.0  \n",
       "pdzs6c               0          0.0  \n",
       "jvslq9               0          0.0  \n",
       "lnje3c               0          0.0  \n",
       "\n",
       "[500 rows x 6 columns]"
      ]
     },
     "execution_count": 98,
     "metadata": {},
     "output_type": "execute_result"
    }
   ],
   "source": [
    "test_models_preds_df['predictions'] = test_models_preds_df.mean(axis = 1)\n",
    "test_models_preds_df"
   ]
  },
  {
   "cell_type": "code",
   "execution_count": 99,
   "id": "fdada374",
   "metadata": {},
   "outputs": [
    {
     "name": "stdout",
     "output_type": "stream",
     "text": [
      "764\n",
      "261\n"
     ]
    }
   ],
   "source": [
    "# now lets say that if predictions is less than 0.5 it will be 0 and more will be a 1\n",
    "# because we have 5 models we don't have to worry about a mean of exactly 0.5\n",
    "\n",
    "train_models_preds_df['predictions'] = (train_models_preds_df['predictions'] > 0.5) * 1\n",
    "test_models_preds_df['predictions'] = (test_models_preds_df['predictions'] > 0.5) * 1\n",
    "\n",
    "# make sure the sum is a whole number\n",
    "print(train_models_preds_df['predictions'].sum())\n",
    "print(test_models_preds_df['predictions'].sum())"
   ]
  },
  {
   "cell_type": "code",
   "execution_count": 100,
   "id": "827c7477",
   "metadata": {},
   "outputs": [
    {
     "name": "stdout",
     "output_type": "stream",
     "text": [
      "Training accuracy: 0.9739652870493992\n",
      "Testing accuracy: 0.842\n"
     ]
    }
   ],
   "source": [
    "print(f\"Training accuracy: {accuracy_score(y_train, train_models_preds_df['predictions'])}\")\n",
    "print(f\"Testing accuracy: {accuracy_score(y_test, test_models_preds_df['predictions'])}\")"
   ]
  },
  {
   "cell_type": "markdown",
   "id": "811b5541",
   "metadata": {},
   "source": [
    "> By averaging the score of all 5 models we decided to keep, we actually managed to get a better accuracy score! Although only by a bit, the score is higher than any one of the models we actually used. We can actually also do some calculations to get our scores and add them to the result dataframe!"
   ]
  },
  {
   "cell_type": "code",
   "execution_count": 101,
   "id": "d4cd1f25",
   "metadata": {},
   "outputs": [
    {
     "name": "stdout",
     "output_type": "stream",
     "text": [
      "Accuracy: 0.842\n",
      "Misclassification Rate: 0.15800000000000003\n",
      "Sensitivity 0.864\n",
      "Specifcity 0.82\n",
      "percision 0.8275862068965517\n"
     ]
    }
   ],
   "source": [
    "tn, fp, fn, tp = confusion_matrix(y_test, test_models_preds_df['predictions']).ravel()\n",
    "\n",
    "## Print out our scores\n",
    "accuracy = (tp + tn) / (tp + tn + fp +fn)\n",
    "misclass_rate = 1 - accuracy\n",
    "sensitivity = tp/(tp + fn)\n",
    "specificity = tn/(tn+fp)\n",
    "percision = tp/ (tp+fp)\n",
    "\n",
    "print('Accuracy:', accuracy)\n",
    "print('Misclassification Rate:', misclass_rate)\n",
    "print('Sensitivity', sensitivity)\n",
    "print('Specifcity', specificity)\n",
    "print('percision', percision)"
   ]
  },
  {
   "cell_type": "code",
   "execution_count": 102,
   "id": "14b7467d",
   "metadata": {},
   "outputs": [],
   "source": [
    "add_result = {'best_params': 'All of them',\n",
    "              'training score': accuracy_score(y_train, train_models_preds_df['predictions']),\n",
    "              'testing score': accuracy_score(y_test, test_models_preds_df['predictions']),\n",
    "              'AUC': 'Not calculated',\n",
    "              'Misclassification Rate': misclass_rate,\n",
    "              'Sensitivity': sensitivity,\n",
    "              'Specifcity': specificity,\n",
    "              'percision': percision}\n",
    "\n",
    "result_df = result_df.append(add_result, ignore_index=True)"
   ]
  },
  {
   "cell_type": "markdown",
   "id": "5bded4e2",
   "metadata": {},
   "source": [
    "<span id='conclusions'></span>\n",
    "## Lets check the models we ended up keeping adding to our results_df\n",
    "[TOC](#toc)"
   ]
  },
  {
   "cell_type": "code",
   "execution_count": 103,
   "id": "46e00e36",
   "metadata": {},
   "outputs": [
    {
     "data": {
      "text/html": [
       "<div>\n",
       "<style scoped>\n",
       "    .dataframe tbody tr th:only-of-type {\n",
       "        vertical-align: middle;\n",
       "    }\n",
       "\n",
       "    .dataframe tbody tr th {\n",
       "        vertical-align: top;\n",
       "    }\n",
       "\n",
       "    .dataframe thead th {\n",
       "        text-align: right;\n",
       "    }\n",
       "</style>\n",
       "<table border=\"1\" class=\"dataframe\">\n",
       "  <thead>\n",
       "    <tr style=\"text-align: right;\">\n",
       "      <th></th>\n",
       "      <th>best_params</th>\n",
       "      <th>training score</th>\n",
       "      <th>testing score</th>\n",
       "      <th>AUC</th>\n",
       "      <th>Misclassification Rate</th>\n",
       "      <th>Sensitivity</th>\n",
       "      <th>Specifcity</th>\n",
       "      <th>percision</th>\n",
       "    </tr>\n",
       "  </thead>\n",
       "  <tbody>\n",
       "    <tr>\n",
       "      <th>mnb_gs</th>\n",
       "      <td>{'cvec__max_df': 0.9, 'cvec__max_features': None, 'cvec__min_df': 1, 'cvec__ngram_range': (1, 1), 'cvec__stop_words': None, 'mnb__alpha': 1}</td>\n",
       "      <td>0.977303</td>\n",
       "      <td>0.854</td>\n",
       "      <td>0.922112</td>\n",
       "      <td>0.146</td>\n",
       "      <td>0.908</td>\n",
       "      <td>0.800</td>\n",
       "      <td>0.819495</td>\n",
       "    </tr>\n",
       "    <tr>\n",
       "      <th>tfidf_gs</th>\n",
       "      <td>{'mnb__alpha': 3, 'tfidf__max_df': 0.9, 'tfidf__max_features': 2000, 'tfidf__min_df': 1, 'tfidf__ngram_range': (1, 1), 'tfidf__stop_words': None}</td>\n",
       "      <td>0.934579</td>\n",
       "      <td>0.822</td>\n",
       "      <td>0.905728</td>\n",
       "      <td>0.178</td>\n",
       "      <td>0.852</td>\n",
       "      <td>0.792</td>\n",
       "      <td>0.803774</td>\n",
       "    </tr>\n",
       "    <tr>\n",
       "      <th>svc_gs</th>\n",
       "      <td>{'svc__C': 1, 'svc__degree': 2, 'svc__kernel': 'poly', 'svc__probability': True, 'tfidf__max_df': 0.9, 'tfidf__max_features': None, 'tfidf__min_df': 1, 'tfidf__ngram_range': (1, 1)}</td>\n",
       "      <td>0.999332</td>\n",
       "      <td>0.846</td>\n",
       "      <td>0.921848</td>\n",
       "      <td>0.154</td>\n",
       "      <td>0.848</td>\n",
       "      <td>0.844</td>\n",
       "      <td>0.844622</td>\n",
       "    </tr>\n",
       "    <tr>\n",
       "      <th>log_gs</th>\n",
       "      <td>{'lr__C': 2, 'lr__penalty': 'l2', 'lr__solver': 'liblinear', 'tfidf__max_df': 0.9, 'tfidf__max_features': None, 'tfidf__min_df': 1, 'tfidf__ngram_range': (1, 2)}</td>\n",
       "      <td>0.998665</td>\n",
       "      <td>0.832</td>\n",
       "      <td>0.906544</td>\n",
       "      <td>0.168</td>\n",
       "      <td>0.840</td>\n",
       "      <td>0.824</td>\n",
       "      <td>0.826772</td>\n",
       "    </tr>\n",
       "    <tr>\n",
       "      <th>rf_gs</th>\n",
       "      <td>{'rf__ccp_alpha': 1e-08, 'rf__max_depth': 100, 'rf__max_features': 'log2', 'rf__min_samples_leaf': 1, 'rf__min_samples_split': 8, 'rf__n_estimators': 250, 'tfidf__max_df': 0.9, 'tfidf__ngram_range': (1, 2)}</td>\n",
       "      <td>0.994660</td>\n",
       "      <td>0.820</td>\n",
       "      <td>0.895728</td>\n",
       "      <td>0.180</td>\n",
       "      <td>0.824</td>\n",
       "      <td>0.816</td>\n",
       "      <td>0.817460</td>\n",
       "    </tr>\n",
       "    <tr>\n",
       "      <th>combo_gs</th>\n",
       "      <td>{'cvec__max_df': 0.9, 'cvec__max_features': 2000, 'cvec__min_df': 1, 'cvec__ngram_range': (1, 1), 'tfidf__norm': 'l1', 'tfidf__smooth_idf': False, 'tfidf__use_idf': True}</td>\n",
       "      <td>0.938585</td>\n",
       "      <td>0.820</td>\n",
       "      <td>0.903232</td>\n",
       "      <td>0.180</td>\n",
       "      <td>0.828</td>\n",
       "      <td>0.812</td>\n",
       "      <td>0.814961</td>\n",
       "    </tr>\n",
       "    <tr>\n",
       "      <th>Aggregated</th>\n",
       "      <td>All of them</td>\n",
       "      <td>0.973965</td>\n",
       "      <td>0.842</td>\n",
       "      <td>Not calculated</td>\n",
       "      <td>0.158</td>\n",
       "      <td>0.864</td>\n",
       "      <td>0.820</td>\n",
       "      <td>0.827586</td>\n",
       "    </tr>\n",
       "  </tbody>\n",
       "</table>\n",
       "</div>"
      ],
      "text/plain": [
       "                                                                                                                                                                                                               best_params  \\\n",
       "mnb_gs                                                                        {'cvec__max_df': 0.9, 'cvec__max_features': None, 'cvec__min_df': 1, 'cvec__ngram_range': (1, 1), 'cvec__stop_words': None, 'mnb__alpha': 1}   \n",
       "tfidf_gs                                                                 {'mnb__alpha': 3, 'tfidf__max_df': 0.9, 'tfidf__max_features': 2000, 'tfidf__min_df': 1, 'tfidf__ngram_range': (1, 1), 'tfidf__stop_words': None}   \n",
       "svc_gs                               {'svc__C': 1, 'svc__degree': 2, 'svc__kernel': 'poly', 'svc__probability': True, 'tfidf__max_df': 0.9, 'tfidf__max_features': None, 'tfidf__min_df': 1, 'tfidf__ngram_range': (1, 1)}   \n",
       "log_gs                                                   {'lr__C': 2, 'lr__penalty': 'l2', 'lr__solver': 'liblinear', 'tfidf__max_df': 0.9, 'tfidf__max_features': None, 'tfidf__min_df': 1, 'tfidf__ngram_range': (1, 2)}   \n",
       "rf_gs       {'rf__ccp_alpha': 1e-08, 'rf__max_depth': 100, 'rf__max_features': 'log2', 'rf__min_samples_leaf': 1, 'rf__min_samples_split': 8, 'rf__n_estimators': 250, 'tfidf__max_df': 0.9, 'tfidf__ngram_range': (1, 2)}   \n",
       "combo_gs                                        {'cvec__max_df': 0.9, 'cvec__max_features': 2000, 'cvec__min_df': 1, 'cvec__ngram_range': (1, 1), 'tfidf__norm': 'l1', 'tfidf__smooth_idf': False, 'tfidf__use_idf': True}   \n",
       "Aggregated                                                                                                                                                                                                     All of them   \n",
       "\n",
       "            training score  testing score             AUC  \\\n",
       "mnb_gs            0.977303          0.854        0.922112   \n",
       "tfidf_gs          0.934579          0.822        0.905728   \n",
       "svc_gs            0.999332          0.846        0.921848   \n",
       "log_gs            0.998665          0.832        0.906544   \n",
       "rf_gs             0.994660          0.820        0.895728   \n",
       "combo_gs          0.938585          0.820        0.903232   \n",
       "Aggregated        0.973965          0.842  Not calculated   \n",
       "\n",
       "            Misclassification Rate  Sensitivity  Specifcity  percision  \n",
       "mnb_gs                       0.146        0.908       0.800   0.819495  \n",
       "tfidf_gs                     0.178        0.852       0.792   0.803774  \n",
       "svc_gs                       0.154        0.848       0.844   0.844622  \n",
       "log_gs                       0.168        0.840       0.824   0.826772  \n",
       "rf_gs                        0.180        0.824       0.816   0.817460  \n",
       "combo_gs                     0.180        0.828       0.812   0.814961  \n",
       "Aggregated                   0.158        0.864       0.820   0.827586  "
      ]
     },
     "execution_count": 103,
     "metadata": {},
     "output_type": "execute_result"
    }
   ],
   "source": [
    "# Lets just set the display column width to max so we can see the whole params we used.\n",
    "pd.set_option(\"display.max_colwidth\", None)\n",
    "\n",
    "# And we should also go ahead and add in the index's to reflect the name of the variable used.\n",
    "name_of_models = {0:'mnb_gs', 1:'tfidf_gs', 2:'svc_gs',3: 'log_gs', 5:'combo_gs', 4: 'rf_gs', 6: 'Aggregated'}\n",
    "result_df.rename(index= name_of_models, inplace=True)\n",
    "result_df"
   ]
  },
  {
   "cell_type": "markdown",
   "id": "131775be",
   "metadata": {},
   "source": [
    "**Best overall model**\n",
    "> Looks like the best overall model we have is actually all of the models combined and then averaging their predictions! Not only did it do the best in every single metric, except for the training, but it also seems to have the best variance as well! As expected from many bias models all averaged out though.\n",
    "  \n",
    "**Not counting the Aggregated result**\n",
    "> Looks like our best accuracy score is our 2nd model, which consisted of using Tfidf with the Multinomial Naive Bayes. In fact our 2nd model seems to have gotten a better score across the board except for the Sensitivity where the 1st model won y a very smaller margin, over all I think the final to go with if I were to choose only one of these would be model 2."
   ]
  },
  {
   "cell_type": "code",
   "execution_count": 104,
   "id": "261f3654",
   "metadata": {},
   "outputs": [
    {
     "data": {
      "text/html": [
       "<div>\n",
       "<style scoped>\n",
       "    .dataframe tbody tr th:only-of-type {\n",
       "        vertical-align: middle;\n",
       "    }\n",
       "\n",
       "    .dataframe tbody tr th {\n",
       "        vertical-align: top;\n",
       "    }\n",
       "\n",
       "    .dataframe thead th {\n",
       "        text-align: right;\n",
       "    }\n",
       "</style>\n",
       "<table border=\"1\" class=\"dataframe\">\n",
       "  <thead>\n",
       "    <tr style=\"text-align: right;\">\n",
       "      <th></th>\n",
       "      <th>training score</th>\n",
       "      <th>testing score</th>\n",
       "      <th>AUC</th>\n",
       "      <th>Misclassification Rate</th>\n",
       "      <th>Sensitivity</th>\n",
       "      <th>Specifcity</th>\n",
       "      <th>percision</th>\n",
       "    </tr>\n",
       "  </thead>\n",
       "  <tbody>\n",
       "    <tr>\n",
       "      <th>mnb_gs</th>\n",
       "      <td>0.977303</td>\n",
       "      <td>0.854</td>\n",
       "      <td>0.922112</td>\n",
       "      <td>0.146</td>\n",
       "      <td>0.908</td>\n",
       "      <td>0.800</td>\n",
       "      <td>0.819495</td>\n",
       "    </tr>\n",
       "    <tr>\n",
       "      <th>tfidf_gs</th>\n",
       "      <td>0.934579</td>\n",
       "      <td>0.822</td>\n",
       "      <td>0.905728</td>\n",
       "      <td>0.178</td>\n",
       "      <td>0.852</td>\n",
       "      <td>0.792</td>\n",
       "      <td>0.803774</td>\n",
       "    </tr>\n",
       "    <tr>\n",
       "      <th>svc_gs</th>\n",
       "      <td>0.999332</td>\n",
       "      <td>0.846</td>\n",
       "      <td>0.921848</td>\n",
       "      <td>0.154</td>\n",
       "      <td>0.848</td>\n",
       "      <td>0.844</td>\n",
       "      <td>0.844622</td>\n",
       "    </tr>\n",
       "    <tr>\n",
       "      <th>log_gs</th>\n",
       "      <td>0.998665</td>\n",
       "      <td>0.832</td>\n",
       "      <td>0.906544</td>\n",
       "      <td>0.168</td>\n",
       "      <td>0.840</td>\n",
       "      <td>0.824</td>\n",
       "      <td>0.826772</td>\n",
       "    </tr>\n",
       "    <tr>\n",
       "      <th>rf_gs</th>\n",
       "      <td>0.994660</td>\n",
       "      <td>0.820</td>\n",
       "      <td>0.895728</td>\n",
       "      <td>0.180</td>\n",
       "      <td>0.824</td>\n",
       "      <td>0.816</td>\n",
       "      <td>0.817460</td>\n",
       "    </tr>\n",
       "    <tr>\n",
       "      <th>combo_gs</th>\n",
       "      <td>0.938585</td>\n",
       "      <td>0.820</td>\n",
       "      <td>0.903232</td>\n",
       "      <td>0.180</td>\n",
       "      <td>0.828</td>\n",
       "      <td>0.812</td>\n",
       "      <td>0.814961</td>\n",
       "    </tr>\n",
       "    <tr>\n",
       "      <th>Aggregated</th>\n",
       "      <td>0.973965</td>\n",
       "      <td>0.842</td>\n",
       "      <td>Not calculated</td>\n",
       "      <td>0.158</td>\n",
       "      <td>0.864</td>\n",
       "      <td>0.820</td>\n",
       "      <td>0.827586</td>\n",
       "    </tr>\n",
       "  </tbody>\n",
       "</table>\n",
       "</div>"
      ],
      "text/plain": [
       "            training score  testing score             AUC  \\\n",
       "mnb_gs            0.977303          0.854        0.922112   \n",
       "tfidf_gs          0.934579          0.822        0.905728   \n",
       "svc_gs            0.999332          0.846        0.921848   \n",
       "log_gs            0.998665          0.832        0.906544   \n",
       "rf_gs             0.994660          0.820        0.895728   \n",
       "combo_gs          0.938585          0.820        0.903232   \n",
       "Aggregated        0.973965          0.842  Not calculated   \n",
       "\n",
       "            Misclassification Rate  Sensitivity  Specifcity  percision  \n",
       "mnb_gs                       0.146        0.908       0.800   0.819495  \n",
       "tfidf_gs                     0.178        0.852       0.792   0.803774  \n",
       "svc_gs                       0.154        0.848       0.844   0.844622  \n",
       "log_gs                       0.168        0.840       0.824   0.826772  \n",
       "rf_gs                        0.180        0.824       0.816   0.817460  \n",
       "combo_gs                     0.180        0.828       0.812   0.814961  \n",
       "Aggregated                   0.158        0.864       0.820   0.827586  "
      ]
     },
     "execution_count": 104,
     "metadata": {},
     "output_type": "execute_result"
    }
   ],
   "source": [
    "result_df.drop('best_params', axis = 1)"
   ]
  },
  {
   "cell_type": "markdown",
   "id": "92dff707",
   "metadata": {},
   "source": [
    "<span id ='conclusion'></span>\n",
    "## Conclusions   \n",
    "Overall, all our models had a good ammount of variance in them, and although we didn't find a way to increase the testing accuracy, we did try a number of different ways and saw improvements in other areas such as the training score (although that just meant we had an overfit model). A prime example of one of our overfit models would be model 3, the svc_gs model. It had a perfect accuracy score of 1, however also had the lowest testing accuracy of 0.822 as well as all other metrics in our dataframe.  \n",
    "___\n",
    "One model I found intresting was the combo_gs, where I did the Countvect first then pass through the TF-IDF transformer and finally to the mnb model. It scored better than just the Countvectorizer model, however lower than just the TF-IDF model showing that perhaps doing a double transformation wasen't the most benefical. It does show that TF-IDF was a better transformer than just the CountVectorizer as it still scored higher than just the CountVect model.  \n",
    "One more thing I found intresting is that basically all the model preferred to keep the stop words when doing a gridsearch, which shows that the stop words provided were actually important in determining which subreddit a post belonged to regarding having a BOW decide.  \n",
    "___\n",
    "Overall, I would say that we have created a successful model in determining which subreddit a post belongs to. This is based off of just using a BOW approach and not providing context or any form of \"emotion or sarcasm\". Not only is this saying that humans (who are generally capable of percieving sarcasm and context) should be able to differentitate between fake/satirical news, but also points towards something more profound. **Bias Confirmation** and **Closed Mindset** are probably a big reason as to why people will tend to graviate towards *wanting* to believe these fake news. It's not a matter of it being real or fake news so much as a way off finding anything that will confirm what they already believe to be true in some sense."
   ]
  },
  {
   "cell_type": "markdown",
   "id": "8d8bbfc6",
   "metadata": {},
   "source": [
    "<span id='rec'></span>\n",
    "## Recommendations  \n",
    "For future modeling invovling classification and BOW, I would recommend having a much larger pool in order to be able to draw in as many new words to create as features as possible. Especially when it comes to things such as news where they can cover topics ranging from cute animals to space, to medicine discoveries, all of which *might* have their own jargon. The absense of having words that the model was trained on will possibly lead to ignoring certain words that might have been really useful and then instead relying more on those stop words that are basic. Although they can help make predictions, possibly based on the number of stop words used, it isn't something that should be relied on too heavily.  \n",
    "Although for some other cases I would have possibly recommended using 'bagging', in our situation, because we will just be getting the same words over again it wouldn't really help, and if we were to use the whole data set, we would be leaking in words that the training set should not have accesss to therefor having a bad model.  \n",
    "___ \n",
    "In terms of recommendations for other people. Based on the model that was focused more accuracy than any other metric, for reason we had already gone over [here](#baseline), it would be a few things actually. \n",
    "1. Start checking your source instead of believing an article at face value. There are numerous websites now that just come out with fake/satire news.\n",
    "1. Try to be a bit more open minded about things and not ignore valid points or research just because it goes against some preconceived belief you had. Learning to accept when you're wrong, change, and grow will only help you in the long term. \n",
    "1. If worse comes to worst, then maybe we should get rid of fake news altogether or have some sort very blatant tag because there are people who will take some of these fake news article seriously and possibly have detrimental issues over things that provide a 2 - 3 second read and provides no real value"
   ]
  },
  {
   "cell_type": "markdown",
   "id": "6ab89c29",
   "metadata": {},
   "source": [
    "<span id='bonus'></span>\n",
    "# Bonus: Can you tell the difference when the computer couldn't? \n",
    "Idea from lesson with Noah about SVM  6.06  \n",
    "[TOC](#toc)"
   ]
  },
  {
   "cell_type": "markdown",
   "id": "93b8ef8e",
   "metadata": {},
   "source": [
    "#### One quick check before we start. Lets make sure that our indices are the same as y_test"
   ]
  },
  {
   "cell_type": "code",
   "execution_count": 105,
   "id": "ca7e9a6c",
   "metadata": {},
   "outputs": [
    {
     "name": "stdout",
     "output_type": "stream",
     "text": [
      "Index(['k6wkgk', 'mcc3gr', 'k3elf4', 'lkbf2k', 'm17qkj'], dtype='object', name='title_id')\n",
      "Index(['k6wkgk', 'mcc3gr', 'k3elf4', 'lkbf2k', 'm17qkj'], dtype='object', name='title_id')\n"
     ]
    }
   ],
   "source": [
    "print(test_models_preds_df.index[:5])\n",
    "print(y_test.index[:5])"
   ]
  },
  {
   "cell_type": "code",
   "execution_count": 106,
   "id": "74886758",
   "metadata": {},
   "outputs": [
    {
     "name": "stdout",
     "output_type": "stream",
     "text": [
      "(500, 6)\n",
      "(500,)\n"
     ]
    }
   ],
   "source": [
    "# Lets also check the shape\n",
    "print(test_models_preds_df.shape)\n",
    "print(y_test.shape)"
   ]
  },
  {
   "cell_type": "code",
   "execution_count": 107,
   "id": "af66e151",
   "metadata": {},
   "outputs": [
    {
     "data": {
      "text/html": [
       "<div>\n",
       "<style scoped>\n",
       "    .dataframe tbody tr th:only-of-type {\n",
       "        vertical-align: middle;\n",
       "    }\n",
       "\n",
       "    .dataframe tbody tr th {\n",
       "        vertical-align: top;\n",
       "    }\n",
       "\n",
       "    .dataframe thead th {\n",
       "        text-align: right;\n",
       "    }\n",
       "</style>\n",
       "<table border=\"1\" class=\"dataframe\">\n",
       "  <thead>\n",
       "    <tr style=\"text-align: right;\">\n",
       "      <th></th>\n",
       "      <th>Test_Model_0</th>\n",
       "      <th>Test_Model_1</th>\n",
       "      <th>Test_Model_2</th>\n",
       "      <th>Test_Model_3</th>\n",
       "      <th>Test_Model_4</th>\n",
       "      <th>predictions</th>\n",
       "      <th>y_true</th>\n",
       "    </tr>\n",
       "    <tr>\n",
       "      <th>title_id</th>\n",
       "      <th></th>\n",
       "      <th></th>\n",
       "      <th></th>\n",
       "      <th></th>\n",
       "      <th></th>\n",
       "      <th></th>\n",
       "      <th></th>\n",
       "    </tr>\n",
       "  </thead>\n",
       "  <tbody>\n",
       "    <tr>\n",
       "      <th>k6wkgk</th>\n",
       "      <td>0</td>\n",
       "      <td>1</td>\n",
       "      <td>0</td>\n",
       "      <td>0</td>\n",
       "      <td>1</td>\n",
       "      <td>0</td>\n",
       "      <td>0</td>\n",
       "    </tr>\n",
       "    <tr>\n",
       "      <th>mcc3gr</th>\n",
       "      <td>1</td>\n",
       "      <td>0</td>\n",
       "      <td>1</td>\n",
       "      <td>0</td>\n",
       "      <td>0</td>\n",
       "      <td>0</td>\n",
       "      <td>0</td>\n",
       "    </tr>\n",
       "    <tr>\n",
       "      <th>k3elf4</th>\n",
       "      <td>0</td>\n",
       "      <td>0</td>\n",
       "      <td>0</td>\n",
       "      <td>0</td>\n",
       "      <td>0</td>\n",
       "      <td>0</td>\n",
       "      <td>1</td>\n",
       "    </tr>\n",
       "    <tr>\n",
       "      <th>lkbf2k</th>\n",
       "      <td>1</td>\n",
       "      <td>0</td>\n",
       "      <td>1</td>\n",
       "      <td>0</td>\n",
       "      <td>0</td>\n",
       "      <td>0</td>\n",
       "      <td>1</td>\n",
       "    </tr>\n",
       "    <tr>\n",
       "      <th>m17qkj</th>\n",
       "      <td>1</td>\n",
       "      <td>1</td>\n",
       "      <td>1</td>\n",
       "      <td>1</td>\n",
       "      <td>1</td>\n",
       "      <td>1</td>\n",
       "      <td>1</td>\n",
       "    </tr>\n",
       "    <tr>\n",
       "      <th>...</th>\n",
       "      <td>...</td>\n",
       "      <td>...</td>\n",
       "      <td>...</td>\n",
       "      <td>...</td>\n",
       "      <td>...</td>\n",
       "      <td>...</td>\n",
       "      <td>...</td>\n",
       "    </tr>\n",
       "    <tr>\n",
       "      <th>md0h9w</th>\n",
       "      <td>1</td>\n",
       "      <td>1</td>\n",
       "      <td>0</td>\n",
       "      <td>0</td>\n",
       "      <td>0</td>\n",
       "      <td>0</td>\n",
       "      <td>0</td>\n",
       "    </tr>\n",
       "    <tr>\n",
       "      <th>p8asey</th>\n",
       "      <td>0</td>\n",
       "      <td>0</td>\n",
       "      <td>0</td>\n",
       "      <td>0</td>\n",
       "      <td>0</td>\n",
       "      <td>0</td>\n",
       "      <td>0</td>\n",
       "    </tr>\n",
       "    <tr>\n",
       "      <th>pdzs6c</th>\n",
       "      <td>0</td>\n",
       "      <td>0</td>\n",
       "      <td>0</td>\n",
       "      <td>0</td>\n",
       "      <td>0</td>\n",
       "      <td>0</td>\n",
       "      <td>0</td>\n",
       "    </tr>\n",
       "    <tr>\n",
       "      <th>jvslq9</th>\n",
       "      <td>0</td>\n",
       "      <td>0</td>\n",
       "      <td>0</td>\n",
       "      <td>0</td>\n",
       "      <td>0</td>\n",
       "      <td>0</td>\n",
       "      <td>0</td>\n",
       "    </tr>\n",
       "    <tr>\n",
       "      <th>lnje3c</th>\n",
       "      <td>0</td>\n",
       "      <td>0</td>\n",
       "      <td>0</td>\n",
       "      <td>0</td>\n",
       "      <td>0</td>\n",
       "      <td>0</td>\n",
       "      <td>0</td>\n",
       "    </tr>\n",
       "  </tbody>\n",
       "</table>\n",
       "<p>500 rows × 7 columns</p>\n",
       "</div>"
      ],
      "text/plain": [
       "          Test_Model_0  Test_Model_1  Test_Model_2  Test_Model_3  \\\n",
       "title_id                                                           \n",
       "k6wkgk               0             1             0             0   \n",
       "mcc3gr               1             0             1             0   \n",
       "k3elf4               0             0             0             0   \n",
       "lkbf2k               1             0             1             0   \n",
       "m17qkj               1             1             1             1   \n",
       "...                ...           ...           ...           ...   \n",
       "md0h9w               1             1             0             0   \n",
       "p8asey               0             0             0             0   \n",
       "pdzs6c               0             0             0             0   \n",
       "jvslq9               0             0             0             0   \n",
       "lnje3c               0             0             0             0   \n",
       "\n",
       "          Test_Model_4  predictions  y_true  \n",
       "title_id                                     \n",
       "k6wkgk               1            0       0  \n",
       "mcc3gr               0            0       0  \n",
       "k3elf4               0            0       1  \n",
       "lkbf2k               0            0       1  \n",
       "m17qkj               1            1       1  \n",
       "...                ...          ...     ...  \n",
       "md0h9w               0            0       0  \n",
       "p8asey               0            0       0  \n",
       "pdzs6c               0            0       0  \n",
       "jvslq9               0            0       0  \n",
       "lnje3c               0            0       0  \n",
       "\n",
       "[500 rows x 7 columns]"
      ]
     },
     "execution_count": 107,
     "metadata": {},
     "output_type": "execute_result"
    }
   ],
   "source": [
    "# Now we can actually append them\n",
    "test_models_preds_df['y_true'] = y_test\n",
    "test_models_preds_df"
   ]
  },
  {
   "cell_type": "code",
   "execution_count": 108,
   "id": "d24fe6c8",
   "metadata": {},
   "outputs": [],
   "source": [
    "wrong_titles = list(test_models_preds_df[test_models_preds_df['predictions'] != test_models_preds_df['y_true']].index)"
   ]
  },
  {
   "cell_type": "code",
   "execution_count": 109,
   "id": "6a8fa520",
   "metadata": {
    "scrolled": false
   },
   "outputs": [
    {
     "name": "stdout",
     "output_type": "stream",
     "text": [
      "Birx says Americans who gathered for Thanksgiving should assume they're infected and get tested\n",
      ">This is a real News article\n",
      "\n",
      "---\n",
      "Man back behind bars for carjacking 16-year-old girl just 20 minutes after prison release\n",
      ">This is a real News article\n",
      "\n",
      "---\n",
      "\"I will shoot whoever I see\": Myanmar soldiers use TikTok to threaten protesters\n",
      ">This is a real News article\n",
      "\n",
      "---\n",
      "‘Rise Up, Patriots!’ Rand Paul Calls To Intubated Patients Lying Unconscious In Hospital ICU\n",
      ">This is an Onion article\n",
      "\n",
      "---\n",
      "Deutsche Bank Begins Removing Possessions From White House After Trump Defaults On Loan\n",
      ">This is an Onion article\n",
      "\n",
      "---\n",
      "Weapon Of Mass Destruction Found Dead At 88\n",
      ">This is an Onion article\n",
      "\n",
      "---\n",
      "Kanye West on his election disaster (EXCLUSIVE INTERVIEW)\n",
      ">This is an Onion article\n",
      "\n",
      "---\n",
      "Horrified Biden Family Discovers Rotting, Months-Old Corpse Of Jeff Sessions In White House Executive Residence\n",
      ">This is an Onion article\n",
      "\n",
      "---\n",
      "Fauci says U.S. has 'independent spirit,' but now is the time to ‘do what you’re told’\n",
      ">This is a real News article\n",
      "\n",
      "---\n",
      "NFL Warns Unvaccinated Players Will Face Consequences For Domestic Violence Charges\n",
      ">This is an Onion article\n",
      "\n",
      "---\n",
      "Phoenix family discovers 5,000 fentanyl pills inside daughter's thrift store toy\n",
      ">This is a real News article\n",
      "\n",
      "---\n",
      "Destanis locks down florida after covid vaccination gets out of hand\n",
      ">This is an Onion article\n",
      "\n",
      "---\n",
      "Michelle Obama to be inducted into U.S. National Women's Hall of Fame\n",
      ">This is a real News article\n",
      "\n",
      "---\n",
      "Media demand Israel explain destruction of news offices\n",
      ">This is a real News article\n",
      "\n",
      "---\n",
      "Eagles Fan Starts Tailgating At 9 A.M. For Custody Hearing\n",
      ">This is an Onion article\n",
      "\n",
      "---\n",
      "Oklahoma mom of 11 helps rescue 10 girls on Afghanistan's robotics team\n",
      ">This is a real News article\n",
      "\n",
      "---\n",
      "Man Hides Under Bed, Covers Mouth As Enormous Delta Variant Virus Tears Through House\n",
      ">This is an Onion article\n",
      "\n",
      "---\n",
      "\"Political Talk Show Host Suddenly Very Interested In Manslaughter Law Loopholes\"\n",
      ">This is an Onion article\n",
      "\n",
      "---\n",
      "Supreme Court Waits In Line For Hours Before Voting To Uphold Arizona Restrictions\n",
      ">This is an Onion article\n",
      "\n",
      "---\n",
      "Maryland Officers Deescalate Situation, Offer Compassion to Man in Behavioral Crisis\n",
      ">This is a real News article\n",
      "\n",
      "---\n",
      "Beverly Hills Sgt. Accused Of Playing Copyrighted Music While Being Filmed To Trigger Social Media Feature That Blocks Content\n",
      ">This is a real News article\n",
      "\n",
      "---\n",
      "FBI wanted to arrest Epstein at Virgin Islands beauty pageant months before plea deal cut\n",
      ">This is a real News article\n",
      "\n",
      "---\n",
      "Lab Assistant Who Accidentally Poked Self While Preparing Syringe Becomes First American To Receive Covid-19 Vaccine\n",
      ">This is an Onion article\n",
      "\n",
      "---\n",
      "Tom Brady Refuses Request To Throw Touchdown For Kid With Cancer To Avoid Glorifying Unhealthy Lifestyle\n",
      ">This is an Onion article\n",
      "\n",
      "---\n",
      "White House Condems 2020 Election As Partisan Witch Hunt | The Onion Presents The Topical - March 3rd 2020\n",
      ">This is an Onion article\n",
      "\n",
      "---\n",
      "Ally Bank ends all overdraft fees, first large bank to do so\n",
      ">This is a real News article\n",
      "\n",
      "---\n",
      "Developmentally Disabled Burger King Employee Only Competent Worker\n",
      ">This is an Onion article\n",
      "\n",
      "---\n",
      "Global rich must cut their carbon footprint 97% to stave off climate change, UN says\n",
      ">This is a real News article\n",
      "\n",
      "---\n",
      "Popeyes Originalist Decries Nuggets As Stain On Founder’s Vision\n",
      ">This is an Onion article\n",
      "\n",
      "---\n",
      "Chipotle hikes average wage to $15 an hour amid labor squeeze\n",
      ">This is a real News article\n",
      "\n",
      "---\n",
      "$1 million Ohio vaccine lottery winner was on her way to buy a used car when she found out she won\n",
      ">This is a real News article\n",
      "\n",
      "---\n",
      "Frightened Matt Gaetz Tucks Legs Up As Federal Agents Search Middle School Girls’ Bathroom Stalls\n",
      ">This is an Onion article\n",
      "\n",
      "---\n",
      "The Cherokee Nation acknowledges that descendants of people once enslaved by the tribe should also qualify as Cherokee\n",
      ">This is a real News article\n",
      "\n",
      "---\n",
      "Blood-Soaked Mayor Bloomberg Announces Homelessness No Longer A Problem In New York City\n",
      ">This is an Onion article\n",
      "\n",
      "---\n",
      "Judge Rejects Last-Minute Claim That Pence Can Ignore States' Presidential Electors\n",
      ">This is a real News article\n",
      "\n",
      "---\n",
      "14th Sexual Assault Lawsuit Against Deshaun Watson Forces Fan To Reckon With Full-Blown Conspiracy Against Quarterback\n",
      ">This is an Onion article\n",
      "\n",
      "---\n",
      "Robinhood is still severely limiting trading, customers can only buy one share of GameStop\n",
      ">This is a real News article\n",
      "\n",
      "---\n",
      "South Korean President Eats Full, Balanced Meal In Show Of Strength Against North\n",
      ">This is an Onion article\n",
      "\n",
      "---\n",
      "Congress Reaches Compromise To Investigate Events Of January 9\n",
      ">This is an Onion article\n",
      "\n",
      "---\n",
      "New Evidence Shows Fauci May Have Been Created In Chinese Lab\n",
      ">This is an Onion article\n",
      "\n",
      "---\n",
      "Dog days of Florida come to an end, with total demise of U.S. greyhound racing within sight\n",
      ">This is a real News article\n",
      "\n",
      "---\n",
      "Imran Khan Explains Money Saved In Offshore Tax Haven Was To Buy Pakistani People A Big Present\n",
      ">This is an Onion article\n",
      "\n",
      "---\n",
      "Microsoft Has Revealed Master Chief’s Teeth And They Are Filthy\n",
      ">This is an Onion article\n",
      "\n",
      "---\n",
      "Dr. Fauci: ‘There’s No Longer A Need For Statues To Wear Masks Outside’\n",
      ">This is an Onion article\n",
      "\n",
      "---\n",
      "Archaeologists Discover Concession Stand At Colosseum That Gouged Ancient Romans 10 Denarii For Small Clay Cup Of Wine\n",
      ">This is an Onion article\n",
      "\n",
      "---\n",
      "Moviegoer Frustrated By Loud Guy In Next Row Who Won’t Stop Shooting\n",
      ">This is an Onion article\n",
      "\n",
      "---\n",
      "Pfizer Announces First Batch Of Coronavirus Vaccine Will Be Collector’s Edition Limited To 2,000 Doses\n",
      ">This is an Onion article\n",
      "\n",
      "---\n",
      "Covid Denier Struggling To Protest State’s Incoherent, Constantly Changing Coronavirus Policies\n",
      ">This is an Onion article\n",
      "\n",
      "---\n",
      "White House turns down offers from CDC to help with contact tracing\n",
      ">This is a real News article\n",
      "\n",
      "---\n",
      "Media Lambasts Biden Administration For Failure To Solve Coronavirus\n",
      ">This is an Onion article\n",
      "\n",
      "---\n",
      "Studio Ghibli Theme Park Opening Delayed After Construction Site Overrun With Curious Forest Sprites\n",
      ">This is an Onion article\n",
      "\n",
      "---\n",
      "Virtually all hospitalized Covid patients have one thing in common: They're unvaccinated\n",
      ">This is a real News article\n",
      "\n",
      "---\n",
      "Tennessee man loses $1 million lottery ticket — but finds it again in parking lot\n",
      ">This is a real News article\n",
      "\n",
      "---\n",
      "‘I Am Immortal!’ Screams 90-Year-Old British Woman Embarking On Epic Post-Vaccination Bender\n",
      ">This is an Onion article\n",
      "\n",
      "---\n",
      "American journalist detained in Myanmar while trying to board flight out of country\n",
      ">This is a real News article\n",
      "\n",
      "---\n",
      "Neighborhood Rallies To Designate Pothole As Historic Landmark\n",
      ">This is an Onion article\n",
      "\n",
      "---\n",
      "MTA Returns Rider’s $2.75 Fare After Unsatisfactory Subway Experience\n",
      ">This is an Onion article\n",
      "\n",
      "---\n",
      "Oxygen supply issues forced five Los Angeles-area hospitals to declare an 'internal disaster'\n",
      ">This is a real News article\n",
      "\n",
      "---\n",
      "Jailers Interrupt Ghislaine Maxwell's Sleep Every 15 Minutes to Check If She's Still Breathing, Lawyer Says\n",
      ">This is a real News article\n",
      "\n",
      "---\n",
      "Biden revokes presidential permit for Keystone XL pipeline expansion on 1st day\n",
      ">This is a real News article\n",
      "\n",
      "---\n",
      "Police Department To Avoid Future Errors By Replacing All Equipment Officers Carry With Guns\n",
      ">This is an Onion article\n",
      "\n",
      "---\n",
      "Democratic Strategists Hold Screening Of ‘Three Amigos’ In Order To Better Understand Latino Culture\n",
      ">This is an Onion article\n",
      "\n",
      "---\n",
      "Panicked National Guard Troops Shoot Down Military Flyover\n",
      ">This is an Onion article\n",
      "\n",
      "---\n",
      "David Blaine Wakes Up In Cold Sweat From Nightmare In Which He Dies Of Natural Causes\n",
      ">This is an Onion article\n",
      "\n",
      "---\n",
      "Warnock, Ossoff win in Georgia, handing Dems Senate control\n",
      ">This is a real News article\n",
      "\n",
      "---\n",
      "Hundreds of Google Employees Unionize, Culminating Years of Activism\n",
      ">This is a real News article\n",
      "\n",
      "---\n",
      "Flag-wearing man throws Molotov cocktail into Austin Dems HQ\n",
      ">This is a real News article\n",
      "\n",
      "---\n",
      "Nicki Minaj said Covid vaccine could make you impotent. Fauci shut her down.\n",
      ">This is a real News article\n",
      "\n",
      "---\n",
      "Aurora Police did not have basis to stop, frisk or restrain Elijah McClain, investigation finds\n",
      ">This is a real News article\n",
      "\n",
      "---\n",
      "Colorado Temporarily Re-Bans Marijuana For Statewide Tolerance Break\n",
      ">This is an Onion article\n",
      "\n",
      "---\n",
      "30 Miserable Lives Lost In Greyhound Bus Crash\n",
      ">This is an Onion article\n",
      "\n",
      "---\n",
      "Citibank can't get back $500 million it wired by mistake, judge rules\n",
      ">This is a real News article\n",
      "\n",
      "---\n",
      "South Carolina Protecting Voters From Covid-19 By Erecting Plexiglass Barrier Around Entire Urban Polling Place\n",
      ">This is an Onion article\n",
      "\n",
      "---\n"
     ]
    },
    {
     "name": "stdout",
     "output_type": "stream",
     "text": [
      "Minnesota Deploys National Guard Ahead Of Next Week’s Police Shooting\n",
      ">This is an Onion article\n",
      "\n",
      "---\n",
      "Majority Of Parents Abuse Children, Children Report\n",
      ">This is an Onion article\n",
      "\n",
      "---\n",
      "When a busy H-E-B lost power, store told Texans gathering supplies to 'go ahead' without paying\n",
      ">This is a real News article\n",
      "\n",
      "---\n",
      "Casino mogul and GOP megadonor Sheldon Adelson has died at age 87\n",
      ">This is a real News article\n",
      "\n",
      "---\n",
      "Hundreds Of Cane-Wielding Demonstrators Pull Governor Into Kickline To Protest Broadway Shutdown\n",
      ">This is an Onion article\n",
      "\n",
      "---\n",
      "Judge Rules White Girl Will be Tried as Black Adult\n",
      ">This is an Onion article\n",
      "\n",
      "---\n",
      "Total of 79 article headlines were misclassified\n"
     ]
    }
   ],
   "source": [
    "for tit in wrong_titles:\n",
    "    if big_df['subreddit'][tit] == 0:\n",
    "        print(big_df['title'][tit])\n",
    "        print('>This is an Onion article')\n",
    "        \n",
    "    else:\n",
    "        print(big_df['title'][tit])\n",
    "        print('>This is a real News article')\n",
    "    print()\n",
    "    print('---')\n",
    "    \n",
    "    \n",
    "print(f'Total of {len(wrong_titles)} article headlines were misclassified')"
   ]
  }
 ],
 "metadata": {
  "kernelspec": {
   "display_name": "Python 3 (ipykernel)",
   "language": "python",
   "name": "python3"
  },
  "language_info": {
   "codemirror_mode": {
    "name": "ipython",
    "version": 3
   },
   "file_extension": ".py",
   "mimetype": "text/x-python",
   "name": "python",
   "nbconvert_exporter": "python",
   "pygments_lexer": "ipython3",
   "version": "3.9.6"
  }
 },
 "nbformat": 4,
 "nbformat_minor": 5
}
